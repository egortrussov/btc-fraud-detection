{
 "cells": [
  {
   "cell_type": "code",
   "execution_count": 1,
   "metadata": {},
   "outputs": [],
   "source": [
    "import pandas as pd\n",
    "import numpy as np\n",
    "\n",
    "import matplotlib.pyplot as plt\n",
    "import seaborn as sns\n",
    "\n",
    "%matplotlib inline\n",
    "\n",
    "sns.set(style=\"darkgrid\")\n",
    "\n",
    "np.random.seed(0)\n",
    "import warnings\n",
    "warnings.filterwarnings('ignore')\n",
    "warnings.simplefilter('ignore')"
   ]
  },
  {
   "cell_type": "code",
   "execution_count": 2,
   "metadata": {},
   "outputs": [],
   "source": [
    "from sklearn.compose import ColumnTransformer\n",
    "from sklearn.pipeline import Pipeline\n",
    "from sklearn.ensemble import RandomForestClassifier\n",
    "from sklearn.preprocessing import StandardScaler, OneHotEncoder, MinMaxScaler\n",
    "from sklearn.model_selection import train_test_split\n",
    "from sklearn.metrics import accuracy_score, precision_score, recall_score\n",
    "from utils import get_best_threshold"
   ]
  },
  {
   "cell_type": "code",
   "execution_count": 3,
   "metadata": {},
   "outputs": [],
   "source": [
    "wallets_features = pd.read_csv(\"../dataset/custom/wallets_features_aggregated.csv\")\n",
    "%load_ext autoreload"
   ]
  },
  {
   "cell_type": "code",
   "execution_count": 4,
   "metadata": {},
   "outputs": [],
   "source": [
    "%autoreload 2\n",
    "\n",
    "from utils import (\n",
    "    prepare_wallets_features_data,\n",
    "    get_training_data\n",
    ")"
   ]
  },
  {
   "cell_type": "code",
   "execution_count": 5,
   "metadata": {},
   "outputs": [
    {
     "data": {
      "text/plain": [
       "((251088, 46), (14266, 46))"
      ]
     },
     "execution_count": 5,
     "metadata": {},
     "output_type": "execute_result"
    }
   ],
   "source": [
    "good_wallets = wallets_features[wallets_features[\"class\"] == 2]\n",
    "bad_wallets = wallets_features[wallets_features[\"class\"] == 1]\n",
    "\n",
    "good_wallets.shape, bad_wallets.shape"
   ]
  },
  {
   "cell_type": "code",
   "execution_count": 7,
   "metadata": {},
   "outputs": [
    {
     "data": {
      "text/plain": [
       "((3000, 44), (14266, 44))"
      ]
     },
     "execution_count": 7,
     "metadata": {},
     "output_type": "execute_result"
    }
   ],
   "source": [
    "\n",
    "prep_data = prepare_wallets_features_data(wallets_features[wallets_features[\"class\"] != 3], type=\"full\")\n",
    "good_wallets = prep_data[prep_data[\"class\"] == 2]\n",
    "bad_wallets = prep_data[prep_data[\"class\"] == 1]\n",
    "good_wallets[:3000].shape, bad_wallets.shape"
   ]
  },
  {
   "cell_type": "code",
   "execution_count": 26,
   "metadata": {},
   "outputs": [
    {
     "data": {
      "text/plain": [
       "((89633, 43), (89633,))"
      ]
     },
     "execution_count": 26,
     "metadata": {},
     "output_type": "execute_result"
    }
   ],
   "source": [
    "from sklearn.svm import OneClassSVM\n",
    "\n",
    "prep_data = prepare_wallets_features_data(wallets_features[wallets_features[\"class\"] != 3], type=\"full\")\n",
    "\n",
    "X_train, X_test, y_train, y_test = get_training_data(prep_data, no_unknown=True, binary=False)\n",
    "\n",
    "good_wallets = X_train[y_train == 2]\n",
    "bad_train_wallets = X_train[y_train == 1]\n",
    "\n",
    "test_data = pd.concat([X_test, bad_train_wallets])\n",
    "test_target = pd.concat([y_test, y_train[y_train == 1]])\n",
    "\n",
    "test_data.shape, test_target.shape\n"
   ]
  },
  {
   "cell_type": "code",
   "execution_count": 53,
   "metadata": {},
   "outputs": [
    {
     "data": {
      "text/plain": [
       "((175721, 43), (10026, 43), (185747, 43))"
      ]
     },
     "execution_count": 53,
     "metadata": {},
     "output_type": "execute_result"
    }
   ],
   "source": [
    "good_wallets.shape, bad_train_wallets.shape, X_train.shape"
   ]
  },
  {
   "cell_type": "code",
   "execution_count": 27,
   "metadata": {},
   "outputs": [],
   "source": [
    "from sklearn.svm import OneClassSVM\n",
    "\n",
    "# prep_data = prepare_wallets_features_data(wallets_features[wallets_features[\"class\"] != 3], type=\"full\")\n",
    "\n",
    "# X_train, X_test, y_train, y_test = get_training_data(prep_data, no_unknown=False)\n",
    "\n",
    "# good_wallets = prep_data[prep_data[\"class\"] == 2]\n",
    "# bad_wallets = prep_data[prep_data[\"class\"] == 1]\n",
    "\n",
    "# good_wallets.drop(\"class\", axis=1, inplace=True)\n",
    "# bad_wallets.drop(\"class\", axis=1, inplace=True)\n",
    "\n",
    "# good_wallets = good_wallets[:100000]\n",
    "# bad_wallets = bad_wallets\n",
    "\n",
    "\n",
    "column_transformer = ColumnTransformer(\n",
    "    transformers=[\n",
    "        ('min_max_scale', MinMaxScaler(), list(set(prep_data.columns) - set([\"addrId\", \"class\"]))),\n",
    "    ]\n",
    ")\n",
    "\n",
    "pipeline = Pipeline(steps=[\n",
    "    ('transformers', column_transformer),\n",
    "    ('oc_svm', OneClassSVM(kernel=\"rbf\", gamma=\"auto\", nu=0.05))\n",
    "])\n",
    "\n",
    "model = pipeline.fit(good_wallets)\n",
    "y_pred = model.predict(test_data)\n",
    "# y_pred_vals = model.predict(X_test)\n",
    "\n",
    "# get_best_threshold(y_pred, y_test)"
   ]
  },
  {
   "cell_type": "code",
   "execution_count": 39,
   "metadata": {},
   "outputs": [
    {
     "data": {
      "text/plain": [
       "(565, (89633,))"
      ]
     },
     "execution_count": 39,
     "metadata": {},
     "output_type": "execute_result"
    }
   ],
   "source": [
    "((y_pred == -1) * (test_target == 1)).sum(), (test_target == 1).shape"
   ]
  },
  {
   "cell_type": "code",
   "execution_count": 55,
   "metadata": {},
   "outputs": [],
   "source": [
    "y_pred1 = model.predict(bad_train_wallets)"
   ]
  },
  {
   "cell_type": "code",
   "execution_count": 57,
   "metadata": {},
   "outputs": [
    {
     "data": {
      "text/plain": [
       "0.9603032116497108"
      ]
     },
     "execution_count": 57,
     "metadata": {},
     "output_type": "execute_result"
    }
   ],
   "source": [
    "(y_pred1 == 1).sum() / y_pred1.shape[0]"
   ]
  },
  {
   "cell_type": "code",
   "execution_count": 58,
   "metadata": {},
   "outputs": [
    {
     "data": {
      "text/html": [
       "<div>\n",
       "<style scoped>\n",
       "    .dataframe tbody tr th:only-of-type {\n",
       "        vertical-align: middle;\n",
       "    }\n",
       "\n",
       "    .dataframe tbody tr th {\n",
       "        vertical-align: top;\n",
       "    }\n",
       "\n",
       "    .dataframe thead th {\n",
       "        text-align: right;\n",
       "    }\n",
       "</style>\n",
       "<table border=\"1\" class=\"dataframe\">\n",
       "  <thead>\n",
       "    <tr style=\"text-align: right;\">\n",
       "      <th></th>\n",
       "      <th>num_timesteps_appeared_in</th>\n",
       "      <th>num_addr_transacted_multiple</th>\n",
       "      <th>num_txs_as_sender</th>\n",
       "      <th>num_txs_as receiver</th>\n",
       "      <th>lifetime_in_blocks</th>\n",
       "      <th>total_txs</th>\n",
       "      <th>btc_transacted_total</th>\n",
       "      <th>btc_sent_total</th>\n",
       "      <th>btc_received_total</th>\n",
       "      <th>fees_total</th>\n",
       "      <th>...</th>\n",
       "      <th>user_output_users_cnt</th>\n",
       "      <th>user_active_time_steps_cnt</th>\n",
       "      <th>user_btc_sent_total</th>\n",
       "      <th>user_btc_received_total</th>\n",
       "      <th>user_interracted_output_address_cnt</th>\n",
       "      <th>user_interracted_input_address_cnt</th>\n",
       "      <th>user_overall_activity_coef</th>\n",
       "      <th>user_whole_fee_5</th>\n",
       "      <th>addr_gini</th>\n",
       "      <th>whole_fees_5</th>\n",
       "    </tr>\n",
       "  </thead>\n",
       "  <tbody>\n",
       "    <tr>\n",
       "      <th>6756</th>\n",
       "      <td>1.0</td>\n",
       "      <td>0.0</td>\n",
       "      <td>6.0</td>\n",
       "      <td>30.0</td>\n",
       "      <td>72.0</td>\n",
       "      <td>36.0</td>\n",
       "      <td>19.232433</td>\n",
       "      <td>9.616216</td>\n",
       "      <td>9.616216</td>\n",
       "      <td>0.016617</td>\n",
       "      <td>...</td>\n",
       "      <td>2.0</td>\n",
       "      <td>1</td>\n",
       "      <td>24.922905</td>\n",
       "      <td>17.388800</td>\n",
       "      <td>2.0</td>\n",
       "      <td>20.0</td>\n",
       "      <td>0.000000</td>\n",
       "      <td>0.0</td>\n",
       "      <td>0.0</td>\n",
       "      <td>0.0</td>\n",
       "    </tr>\n",
       "    <tr>\n",
       "      <th>7534</th>\n",
       "      <td>1.0</td>\n",
       "      <td>0.0</td>\n",
       "      <td>1.0</td>\n",
       "      <td>0.0</td>\n",
       "      <td>0.0</td>\n",
       "      <td>1.0</td>\n",
       "      <td>0.042047</td>\n",
       "      <td>0.042047</td>\n",
       "      <td>0.000000</td>\n",
       "      <td>0.003441</td>\n",
       "      <td>...</td>\n",
       "      <td>3.0</td>\n",
       "      <td>18</td>\n",
       "      <td>12.027439</td>\n",
       "      <td>5.246751</td>\n",
       "      <td>3.0</td>\n",
       "      <td>113.0</td>\n",
       "      <td>0.252978</td>\n",
       "      <td>0.0</td>\n",
       "      <td>0.0</td>\n",
       "      <td>0.0</td>\n",
       "    </tr>\n",
       "    <tr>\n",
       "      <th>12835</th>\n",
       "      <td>1.0</td>\n",
       "      <td>0.0</td>\n",
       "      <td>2.0</td>\n",
       "      <td>2.0</td>\n",
       "      <td>2.0</td>\n",
       "      <td>4.0</td>\n",
       "      <td>0.006160</td>\n",
       "      <td>0.003080</td>\n",
       "      <td>0.003080</td>\n",
       "      <td>0.160957</td>\n",
       "      <td>...</td>\n",
       "      <td>1.0</td>\n",
       "      <td>1</td>\n",
       "      <td>2.714874</td>\n",
       "      <td>2.714874</td>\n",
       "      <td>1.0</td>\n",
       "      <td>217.0</td>\n",
       "      <td>0.000000</td>\n",
       "      <td>0.0</td>\n",
       "      <td>0.0</td>\n",
       "      <td>0.0</td>\n",
       "    </tr>\n",
       "    <tr>\n",
       "      <th>13995</th>\n",
       "      <td>1.0</td>\n",
       "      <td>0.0</td>\n",
       "      <td>1.0</td>\n",
       "      <td>0.0</td>\n",
       "      <td>0.0</td>\n",
       "      <td>1.0</td>\n",
       "      <td>0.004272</td>\n",
       "      <td>0.004272</td>\n",
       "      <td>0.000000</td>\n",
       "      <td>0.285129</td>\n",
       "      <td>...</td>\n",
       "      <td>1.0</td>\n",
       "      <td>1</td>\n",
       "      <td>2.813016</td>\n",
       "      <td>0.942745</td>\n",
       "      <td>1.0</td>\n",
       "      <td>70.0</td>\n",
       "      <td>0.000000</td>\n",
       "      <td>0.0</td>\n",
       "      <td>0.0</td>\n",
       "      <td>0.0</td>\n",
       "    </tr>\n",
       "    <tr>\n",
       "      <th>100</th>\n",
       "      <td>1.0</td>\n",
       "      <td>0.0</td>\n",
       "      <td>0.0</td>\n",
       "      <td>1.0</td>\n",
       "      <td>0.0</td>\n",
       "      <td>1.0</td>\n",
       "      <td>1.676183</td>\n",
       "      <td>0.000000</td>\n",
       "      <td>1.676183</td>\n",
       "      <td>0.000267</td>\n",
       "      <td>...</td>\n",
       "      <td>0.0</td>\n",
       "      <td>1</td>\n",
       "      <td>0.000000</td>\n",
       "      <td>1.676183</td>\n",
       "      <td>0.0</td>\n",
       "      <td>1.0</td>\n",
       "      <td>0.000000</td>\n",
       "      <td>0.0</td>\n",
       "      <td>0.0</td>\n",
       "      <td>0.0</td>\n",
       "    </tr>\n",
       "    <tr>\n",
       "      <th>...</th>\n",
       "      <td>...</td>\n",
       "      <td>...</td>\n",
       "      <td>...</td>\n",
       "      <td>...</td>\n",
       "      <td>...</td>\n",
       "      <td>...</td>\n",
       "      <td>...</td>\n",
       "      <td>...</td>\n",
       "      <td>...</td>\n",
       "      <td>...</td>\n",
       "      <td>...</td>\n",
       "      <td>...</td>\n",
       "      <td>...</td>\n",
       "      <td>...</td>\n",
       "      <td>...</td>\n",
       "      <td>...</td>\n",
       "      <td>...</td>\n",
       "      <td>...</td>\n",
       "      <td>...</td>\n",
       "      <td>...</td>\n",
       "      <td>...</td>\n",
       "    </tr>\n",
       "    <tr>\n",
       "      <th>13986</th>\n",
       "      <td>1.0</td>\n",
       "      <td>0.0</td>\n",
       "      <td>2.0</td>\n",
       "      <td>2.0</td>\n",
       "      <td>14.0</td>\n",
       "      <td>4.0</td>\n",
       "      <td>0.036568</td>\n",
       "      <td>0.018284</td>\n",
       "      <td>0.018284</td>\n",
       "      <td>0.593970</td>\n",
       "      <td>...</td>\n",
       "      <td>1.0</td>\n",
       "      <td>1</td>\n",
       "      <td>2.813016</td>\n",
       "      <td>0.942745</td>\n",
       "      <td>1.0</td>\n",
       "      <td>70.0</td>\n",
       "      <td>0.000000</td>\n",
       "      <td>0.0</td>\n",
       "      <td>0.0</td>\n",
       "      <td>0.0</td>\n",
       "    </tr>\n",
       "    <tr>\n",
       "      <th>9268</th>\n",
       "      <td>1.0</td>\n",
       "      <td>0.0</td>\n",
       "      <td>2.0</td>\n",
       "      <td>2.0</td>\n",
       "      <td>2.0</td>\n",
       "      <td>4.0</td>\n",
       "      <td>0.013200</td>\n",
       "      <td>0.006600</td>\n",
       "      <td>0.006600</td>\n",
       "      <td>0.045543</td>\n",
       "      <td>...</td>\n",
       "      <td>1.0</td>\n",
       "      <td>1</td>\n",
       "      <td>4.138774</td>\n",
       "      <td>4.138774</td>\n",
       "      <td>1.0</td>\n",
       "      <td>93.0</td>\n",
       "      <td>0.000000</td>\n",
       "      <td>0.0</td>\n",
       "      <td>0.0</td>\n",
       "      <td>0.0</td>\n",
       "    </tr>\n",
       "    <tr>\n",
       "      <th>11534</th>\n",
       "      <td>1.0</td>\n",
       "      <td>0.0</td>\n",
       "      <td>2.0</td>\n",
       "      <td>2.0</td>\n",
       "      <td>4.0</td>\n",
       "      <td>4.0</td>\n",
       "      <td>0.008000</td>\n",
       "      <td>0.004000</td>\n",
       "      <td>0.004000</td>\n",
       "      <td>0.089526</td>\n",
       "      <td>...</td>\n",
       "      <td>2.0</td>\n",
       "      <td>1</td>\n",
       "      <td>21.819429</td>\n",
       "      <td>21.819429</td>\n",
       "      <td>2.0</td>\n",
       "      <td>356.0</td>\n",
       "      <td>0.000000</td>\n",
       "      <td>0.0</td>\n",
       "      <td>0.0</td>\n",
       "      <td>0.0</td>\n",
       "    </tr>\n",
       "    <tr>\n",
       "      <th>3890</th>\n",
       "      <td>1.0</td>\n",
       "      <td>0.0</td>\n",
       "      <td>2.0</td>\n",
       "      <td>2.0</td>\n",
       "      <td>2.0</td>\n",
       "      <td>4.0</td>\n",
       "      <td>0.186531</td>\n",
       "      <td>0.093266</td>\n",
       "      <td>0.093266</td>\n",
       "      <td>0.001165</td>\n",
       "      <td>...</td>\n",
       "      <td>2.0</td>\n",
       "      <td>1</td>\n",
       "      <td>0.093266</td>\n",
       "      <td>0.093266</td>\n",
       "      <td>2.0</td>\n",
       "      <td>3.0</td>\n",
       "      <td>0.000000</td>\n",
       "      <td>0.0</td>\n",
       "      <td>0.0</td>\n",
       "      <td>0.0</td>\n",
       "    </tr>\n",
       "    <tr>\n",
       "      <th>2747</th>\n",
       "      <td>1.0</td>\n",
       "      <td>0.0</td>\n",
       "      <td>2.0</td>\n",
       "      <td>2.0</td>\n",
       "      <td>6.0</td>\n",
       "      <td>4.0</td>\n",
       "      <td>1.266339</td>\n",
       "      <td>0.633169</td>\n",
       "      <td>0.633169</td>\n",
       "      <td>0.000671</td>\n",
       "      <td>...</td>\n",
       "      <td>2.0</td>\n",
       "      <td>1</td>\n",
       "      <td>0.633169</td>\n",
       "      <td>0.633169</td>\n",
       "      <td>2.0</td>\n",
       "      <td>1.0</td>\n",
       "      <td>0.000000</td>\n",
       "      <td>1.0</td>\n",
       "      <td>0.0</td>\n",
       "      <td>1.0</td>\n",
       "    </tr>\n",
       "  </tbody>\n",
       "</table>\n",
       "<p>10026 rows × 43 columns</p>\n",
       "</div>"
      ],
      "text/plain": [
       "       num_timesteps_appeared_in  num_addr_transacted_multiple  \\\n",
       "6756                         1.0                           0.0   \n",
       "7534                         1.0                           0.0   \n",
       "12835                        1.0                           0.0   \n",
       "13995                        1.0                           0.0   \n",
       "100                          1.0                           0.0   \n",
       "...                          ...                           ...   \n",
       "13986                        1.0                           0.0   \n",
       "9268                         1.0                           0.0   \n",
       "11534                        1.0                           0.0   \n",
       "3890                         1.0                           0.0   \n",
       "2747                         1.0                           0.0   \n",
       "\n",
       "       num_txs_as_sender  num_txs_as receiver  lifetime_in_blocks  total_txs  \\\n",
       "6756                 6.0                 30.0                72.0       36.0   \n",
       "7534                 1.0                  0.0                 0.0        1.0   \n",
       "12835                2.0                  2.0                 2.0        4.0   \n",
       "13995                1.0                  0.0                 0.0        1.0   \n",
       "100                  0.0                  1.0                 0.0        1.0   \n",
       "...                  ...                  ...                 ...        ...   \n",
       "13986                2.0                  2.0                14.0        4.0   \n",
       "9268                 2.0                  2.0                 2.0        4.0   \n",
       "11534                2.0                  2.0                 4.0        4.0   \n",
       "3890                 2.0                  2.0                 2.0        4.0   \n",
       "2747                 2.0                  2.0                 6.0        4.0   \n",
       "\n",
       "       btc_transacted_total  btc_sent_total  btc_received_total  fees_total  \\\n",
       "6756              19.232433        9.616216            9.616216    0.016617   \n",
       "7534               0.042047        0.042047            0.000000    0.003441   \n",
       "12835              0.006160        0.003080            0.003080    0.160957   \n",
       "13995              0.004272        0.004272            0.000000    0.285129   \n",
       "100                1.676183        0.000000            1.676183    0.000267   \n",
       "...                     ...             ...                 ...         ...   \n",
       "13986              0.036568        0.018284            0.018284    0.593970   \n",
       "9268               0.013200        0.006600            0.006600    0.045543   \n",
       "11534              0.008000        0.004000            0.004000    0.089526   \n",
       "3890               0.186531        0.093266            0.093266    0.001165   \n",
       "2747               1.266339        0.633169            0.633169    0.000671   \n",
       "\n",
       "       ...  user_output_users_cnt  user_active_time_steps_cnt  \\\n",
       "6756   ...                    2.0                           1   \n",
       "7534   ...                    3.0                          18   \n",
       "12835  ...                    1.0                           1   \n",
       "13995  ...                    1.0                           1   \n",
       "100    ...                    0.0                           1   \n",
       "...    ...                    ...                         ...   \n",
       "13986  ...                    1.0                           1   \n",
       "9268   ...                    1.0                           1   \n",
       "11534  ...                    2.0                           1   \n",
       "3890   ...                    2.0                           1   \n",
       "2747   ...                    2.0                           1   \n",
       "\n",
       "       user_btc_sent_total  user_btc_received_total  \\\n",
       "6756             24.922905                17.388800   \n",
       "7534             12.027439                 5.246751   \n",
       "12835             2.714874                 2.714874   \n",
       "13995             2.813016                 0.942745   \n",
       "100               0.000000                 1.676183   \n",
       "...                    ...                      ...   \n",
       "13986             2.813016                 0.942745   \n",
       "9268              4.138774                 4.138774   \n",
       "11534            21.819429                21.819429   \n",
       "3890              0.093266                 0.093266   \n",
       "2747              0.633169                 0.633169   \n",
       "\n",
       "       user_interracted_output_address_cnt  \\\n",
       "6756                                   2.0   \n",
       "7534                                   3.0   \n",
       "12835                                  1.0   \n",
       "13995                                  1.0   \n",
       "100                                    0.0   \n",
       "...                                    ...   \n",
       "13986                                  1.0   \n",
       "9268                                   1.0   \n",
       "11534                                  2.0   \n",
       "3890                                   2.0   \n",
       "2747                                   2.0   \n",
       "\n",
       "       user_interracted_input_address_cnt  user_overall_activity_coef  \\\n",
       "6756                                 20.0                    0.000000   \n",
       "7534                                113.0                    0.252978   \n",
       "12835                               217.0                    0.000000   \n",
       "13995                                70.0                    0.000000   \n",
       "100                                   1.0                    0.000000   \n",
       "...                                   ...                         ...   \n",
       "13986                                70.0                    0.000000   \n",
       "9268                                 93.0                    0.000000   \n",
       "11534                               356.0                    0.000000   \n",
       "3890                                  3.0                    0.000000   \n",
       "2747                                  1.0                    0.000000   \n",
       "\n",
       "       user_whole_fee_5  addr_gini  whole_fees_5  \n",
       "6756                0.0        0.0           0.0  \n",
       "7534                0.0        0.0           0.0  \n",
       "12835               0.0        0.0           0.0  \n",
       "13995               0.0        0.0           0.0  \n",
       "100                 0.0        0.0           0.0  \n",
       "...                 ...        ...           ...  \n",
       "13986               0.0        0.0           0.0  \n",
       "9268                0.0        0.0           0.0  \n",
       "11534               0.0        0.0           0.0  \n",
       "3890                0.0        0.0           0.0  \n",
       "2747                1.0        0.0           1.0  \n",
       "\n",
       "[10026 rows x 43 columns]"
      ]
     },
     "execution_count": 58,
     "metadata": {},
     "output_type": "execute_result"
    }
   ],
   "source": [
    "bad_train_wallets"
   ]
  },
  {
   "cell_type": "code",
   "execution_count": 15,
   "metadata": {},
   "outputs": [
    {
     "data": {
      "text/plain": [
       "(0.8914902565540446, 'accurately 12718 / 14266')"
      ]
     },
     "execution_count": 15,
     "metadata": {},
     "output_type": "execute_result"
    }
   ],
   "source": [
    "(y_pred == -1).sum() / y_pred.shape[0], f\"accurately {(y_pred == -1).sum()} / {y_pred.shape[0]}\""
   ]
  },
  {
   "cell_type": "code",
   "execution_count": null,
   "metadata": {},
   "outputs": [
    {
     "data": {
      "text/plain": [
       "0.97297"
      ]
     },
     "execution_count": 12,
     "metadata": {},
     "output_type": "execute_result"
    }
   ],
   "source": [
    "y_pred1 = model.predict(good_wallets)\n"
   ]
  },
  {
   "cell_type": "code",
   "execution_count": 14,
   "metadata": {},
   "outputs": [
    {
     "data": {
      "text/plain": [
       "(0.97297, 'badly classified 2703 / 100000')"
      ]
     },
     "execution_count": 14,
     "metadata": {},
     "output_type": "execute_result"
    }
   ],
   "source": [
    "(y_pred1 == 1).sum() / y_pred1.shape[0], f\"badly classified {(y_pred1 == -1).sum()} / {y_pred1.shape[0]}\""
   ]
  },
  {
   "cell_type": "code",
   "execution_count": null,
   "metadata": {},
   "outputs": [],
   "source": []
  }
 ],
 "metadata": {
  "kernelspec": {
   "display_name": "Python 3",
   "language": "python",
   "name": "python3"
  },
  "language_info": {
   "codemirror_mode": {
    "name": "ipython",
    "version": 3
   },
   "file_extension": ".py",
   "mimetype": "text/x-python",
   "name": "python",
   "nbconvert_exporter": "python",
   "pygments_lexer": "ipython3",
   "version": "3.9.6"
  }
 },
 "nbformat": 4,
 "nbformat_minor": 2
}
