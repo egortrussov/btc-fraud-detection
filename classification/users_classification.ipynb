{
 "cells": [
  {
   "cell_type": "code",
   "execution_count": 77,
   "metadata": {},
   "outputs": [],
   "source": [
    "import pandas as pd\n",
    "import numpy as np\n",
    "\n",
    "import matplotlib.pyplot as plt\n",
    "import seaborn as sns\n",
    "\n",
    "%matplotlib inline\n",
    "\n",
    "sns.set(style=\"darkgrid\")\n",
    "\n",
    "np.random.seed(0)\n",
    "import warnings\n",
    "warnings.filterwarnings('ignore')\n",
    "warnings.simplefilter('ignore')\n",
    "\n",
    "from sklearn.compose import ColumnTransformer\n",
    "from sklearn.pipeline import Pipeline\n",
    "from sklearn.ensemble import RandomForestClassifier\n",
    "from sklearn.preprocessing import StandardScaler, OneHotEncoder, MinMaxScaler\n",
    "from sklearn.model_selection import train_test_split\n",
    "from sklearn.metrics import accuracy_score, precision_score, recall_score\n",
    "from utils import get_best_threshold"
   ]
  },
  {
   "cell_type": "code",
   "execution_count": 78,
   "metadata": {},
   "outputs": [
    {
     "name": "stdout",
     "output_type": "stream",
     "text": [
      "The autoreload extension is already loaded. To reload it, use:\n",
      "  %reload_ext autoreload\n"
     ]
    }
   ],
   "source": [
    "%load_ext autoreload"
   ]
  },
  {
   "cell_type": "code",
   "execution_count": 79,
   "metadata": {},
   "outputs": [],
   "source": [
    "%autoreload 2\n",
    "\n",
    "from utils import (\n",
    "    print_confusion_matrix,\n",
    "    get_prepared_train_test,\n",
    "    get_best_metric_for_optuna,\n",
    "    get_feature_to_importance,\n",
    "    get_best_metric_for_optuna_users\n",
    ")"
   ]
  },
  {
   "cell_type": "code",
   "execution_count": 80,
   "metadata": {},
   "outputs": [],
   "source": [
    "train_data_raw = pd.read_csv(\"../dataset/custom/features_fixed/users_features__train.csv\").drop(columns=[\"Unnamed: 0\"])\n",
    "test_data_raw = pd.read_csv(\"../dataset/custom/features_fixed/users_features__test.csv\").drop(columns=[\"Unnamed: 0\"])\n"
   ]
  },
  {
   "cell_type": "code",
   "execution_count": 81,
   "metadata": {},
   "outputs": [
    {
     "data": {
      "text/html": [
       "<div>\n",
       "<style scoped>\n",
       "    .dataframe tbody tr th:only-of-type {\n",
       "        vertical-align: middle;\n",
       "    }\n",
       "\n",
       "    .dataframe tbody tr th {\n",
       "        vertical-align: top;\n",
       "    }\n",
       "\n",
       "    .dataframe thead th {\n",
       "        text-align: right;\n",
       "    }\n",
       "</style>\n",
       "<table border=\"1\" class=\"dataframe\">\n",
       "  <thead>\n",
       "    <tr style=\"text-align: right;\">\n",
       "      <th></th>\n",
       "      <th>userId</th>\n",
       "      <th>receiving_time_steps_cnt</th>\n",
       "      <th>btc_received_total</th>\n",
       "      <th>incoming_tx_cnt</th>\n",
       "      <th>sending_time_steps_cnt</th>\n",
       "      <th>btc_sent_total</th>\n",
       "      <th>outcoming_tx_cnt</th>\n",
       "      <th>addr_cnt</th>\n",
       "      <th>class</th>\n",
       "      <th>overall_activity_coef</th>\n",
       "    </tr>\n",
       "  </thead>\n",
       "  <tbody>\n",
       "    <tr>\n",
       "      <th>0</th>\n",
       "      <td>2</td>\n",
       "      <td>1</td>\n",
       "      <td>5.715931</td>\n",
       "      <td>5</td>\n",
       "      <td>1.0</td>\n",
       "      <td>0.005000</td>\n",
       "      <td>1.0</td>\n",
       "      <td>1</td>\n",
       "      <td>3</td>\n",
       "      <td>0.000000</td>\n",
       "    </tr>\n",
       "    <tr>\n",
       "      <th>1</th>\n",
       "      <td>3</td>\n",
       "      <td>1</td>\n",
       "      <td>1.918851</td>\n",
       "      <td>1</td>\n",
       "      <td>0.0</td>\n",
       "      <td>0.000000</td>\n",
       "      <td>0.0</td>\n",
       "      <td>1</td>\n",
       "      <td>3</td>\n",
       "      <td>0.000000</td>\n",
       "    </tr>\n",
       "    <tr>\n",
       "      <th>2</th>\n",
       "      <td>4</td>\n",
       "      <td>18</td>\n",
       "      <td>142156.362019</td>\n",
       "      <td>3894</td>\n",
       "      <td>17.0</td>\n",
       "      <td>5120.494578</td>\n",
       "      <td>157.0</td>\n",
       "      <td>5656</td>\n",
       "      <td>1</td>\n",
       "      <td>0.084105</td>\n",
       "    </tr>\n",
       "    <tr>\n",
       "      <th>3</th>\n",
       "      <td>5</td>\n",
       "      <td>1</td>\n",
       "      <td>31.128083</td>\n",
       "      <td>1</td>\n",
       "      <td>0.0</td>\n",
       "      <td>0.000000</td>\n",
       "      <td>0.0</td>\n",
       "      <td>1</td>\n",
       "      <td>3</td>\n",
       "      <td>0.000000</td>\n",
       "    </tr>\n",
       "    <tr>\n",
       "      <th>4</th>\n",
       "      <td>8</td>\n",
       "      <td>1</td>\n",
       "      <td>33.608093</td>\n",
       "      <td>1</td>\n",
       "      <td>0.0</td>\n",
       "      <td>0.000000</td>\n",
       "      <td>0.0</td>\n",
       "      <td>1</td>\n",
       "      <td>2</td>\n",
       "      <td>0.000000</td>\n",
       "    </tr>\n",
       "    <tr>\n",
       "      <th>...</th>\n",
       "      <td>...</td>\n",
       "      <td>...</td>\n",
       "      <td>...</td>\n",
       "      <td>...</td>\n",
       "      <td>...</td>\n",
       "      <td>...</td>\n",
       "      <td>...</td>\n",
       "      <td>...</td>\n",
       "      <td>...</td>\n",
       "      <td>...</td>\n",
       "    </tr>\n",
       "    <tr>\n",
       "      <th>422449</th>\n",
       "      <td>569507</td>\n",
       "      <td>1</td>\n",
       "      <td>195.966051</td>\n",
       "      <td>1</td>\n",
       "      <td>0.0</td>\n",
       "      <td>0.000000</td>\n",
       "      <td>0.0</td>\n",
       "      <td>1</td>\n",
       "      <td>3</td>\n",
       "      <td>0.000000</td>\n",
       "    </tr>\n",
       "    <tr>\n",
       "      <th>422450</th>\n",
       "      <td>569508</td>\n",
       "      <td>1</td>\n",
       "      <td>0.965600</td>\n",
       "      <td>1</td>\n",
       "      <td>0.0</td>\n",
       "      <td>0.000000</td>\n",
       "      <td>0.0</td>\n",
       "      <td>1</td>\n",
       "      <td>3</td>\n",
       "      <td>0.000000</td>\n",
       "    </tr>\n",
       "    <tr>\n",
       "      <th>422451</th>\n",
       "      <td>569509</td>\n",
       "      <td>2</td>\n",
       "      <td>5.370124</td>\n",
       "      <td>3</td>\n",
       "      <td>0.0</td>\n",
       "      <td>0.000000</td>\n",
       "      <td>0.0</td>\n",
       "      <td>1</td>\n",
       "      <td>3</td>\n",
       "      <td>0.062016</td>\n",
       "    </tr>\n",
       "    <tr>\n",
       "      <th>422452</th>\n",
       "      <td>569511</td>\n",
       "      <td>1</td>\n",
       "      <td>0.064315</td>\n",
       "      <td>1</td>\n",
       "      <td>0.0</td>\n",
       "      <td>0.000000</td>\n",
       "      <td>0.0</td>\n",
       "      <td>1</td>\n",
       "      <td>2</td>\n",
       "      <td>0.000000</td>\n",
       "    </tr>\n",
       "    <tr>\n",
       "      <th>422453</th>\n",
       "      <td>569512</td>\n",
       "      <td>1</td>\n",
       "      <td>1.293847</td>\n",
       "      <td>1</td>\n",
       "      <td>0.0</td>\n",
       "      <td>0.000000</td>\n",
       "      <td>0.0</td>\n",
       "      <td>1</td>\n",
       "      <td>3</td>\n",
       "      <td>0.000000</td>\n",
       "    </tr>\n",
       "  </tbody>\n",
       "</table>\n",
       "<p>422454 rows × 10 columns</p>\n",
       "</div>"
      ],
      "text/plain": [
       "        userId  receiving_time_steps_cnt  btc_received_total  incoming_tx_cnt  \\\n",
       "0            2                         1            5.715931                5   \n",
       "1            3                         1            1.918851                1   \n",
       "2            4                        18       142156.362019             3894   \n",
       "3            5                         1           31.128083                1   \n",
       "4            8                         1           33.608093                1   \n",
       "...        ...                       ...                 ...              ...   \n",
       "422449  569507                         1          195.966051                1   \n",
       "422450  569508                         1            0.965600                1   \n",
       "422451  569509                         2            5.370124                3   \n",
       "422452  569511                         1            0.064315                1   \n",
       "422453  569512                         1            1.293847                1   \n",
       "\n",
       "        sending_time_steps_cnt  btc_sent_total  outcoming_tx_cnt  addr_cnt  \\\n",
       "0                          1.0        0.005000               1.0         1   \n",
       "1                          0.0        0.000000               0.0         1   \n",
       "2                         17.0     5120.494578             157.0      5656   \n",
       "3                          0.0        0.000000               0.0         1   \n",
       "4                          0.0        0.000000               0.0         1   \n",
       "...                        ...             ...               ...       ...   \n",
       "422449                     0.0        0.000000               0.0         1   \n",
       "422450                     0.0        0.000000               0.0         1   \n",
       "422451                     0.0        0.000000               0.0         1   \n",
       "422452                     0.0        0.000000               0.0         1   \n",
       "422453                     0.0        0.000000               0.0         1   \n",
       "\n",
       "        class  overall_activity_coef  \n",
       "0           3               0.000000  \n",
       "1           3               0.000000  \n",
       "2           1               0.084105  \n",
       "3           3               0.000000  \n",
       "4           2               0.000000  \n",
       "...       ...                    ...  \n",
       "422449      3               0.000000  \n",
       "422450      3               0.000000  \n",
       "422451      3               0.062016  \n",
       "422452      2               0.000000  \n",
       "422453      3               0.000000  \n",
       "\n",
       "[422454 rows x 10 columns]"
      ]
     },
     "execution_count": 81,
     "metadata": {},
     "output_type": "execute_result"
    }
   ],
   "source": [
    "train_data_raw"
   ]
  },
  {
   "cell_type": "code",
   "execution_count": 82,
   "metadata": {},
   "outputs": [],
   "source": [
    "wallets_feats = pd.read_csv(\"../dataset/custom/features_fixed/wallets_features_with_users__train.csv\")\n",
    "wallets_feats = wallets_feats[[\n",
    "    'userId',\n",
    "    'user_addr_cnt',\n",
    "    'user_input_users_cnt', 'user_output_users_cnt',\n",
    "    'user_active_time_steps_cnt', 'user_btc_transacted_total',\n",
    "    'user_btc_sent_median', 'user_btc_received_median',\n",
    "    'user_interracted_output_address_cnt',\n",
    "    'user_interracted_input_address_cnt', 'user_overall_activity_coef',\n",
    "    'user_user_ts_fees_share_mean', 'user_user_ts_fees_share_min',\n",
    "    'user_user_ts_fees_share_max', 'user_whole_fee_5', 'exchange_flg',\n",
    "]].drop_duplicates([\"userId\"])"
   ]
  },
  {
   "cell_type": "code",
   "execution_count": 83,
   "metadata": {},
   "outputs": [
    {
     "data": {
      "text/plain": [
       "((422454, 25), (114399, 25))"
      ]
     },
     "execution_count": 83,
     "metadata": {},
     "output_type": "execute_result"
    }
   ],
   "source": [
    "users_feats_train_full = train_data_raw.merge(wallets_feats, how=\"left\", on=\"userId\")\n",
    "users_feats_test_full = test_data_raw.merge(wallets_feats, how=\"left\", on=\"userId\")\n",
    "users_feats_train_full.shape, users_feats_test_full.shape"
   ]
  },
  {
   "cell_type": "code",
   "execution_count": 93,
   "metadata": {},
   "outputs": [],
   "source": [
    "users_feats_train_full[users_feats_train_full[\"addr_cnt\"]>10][\"class\"].value_counts()\n",
    "\n",
    "users_feats_train_full = users_feats_train_full[users_feats_train_full[\"addr_cnt\"] < 10]\n",
    "users_feats_test_full = users_feats_test_full[users_feats_test_full[\"addr_cnt\"] < 10]"
   ]
  },
  {
   "cell_type": "code",
   "execution_count": 94,
   "metadata": {},
   "outputs": [
    {
     "data": {
      "text/plain": [
       "class\n",
       "3    297646\n",
       "2    119212\n",
       "1      4141\n",
       "Name: count, dtype: int64"
      ]
     },
     "execution_count": 94,
     "metadata": {},
     "output_type": "execute_result"
    }
   ],
   "source": [
    "users_feats_train_full[\"class\"].value_counts()"
   ]
  },
  {
   "cell_type": "code",
   "execution_count": 95,
   "metadata": {},
   "outputs": [
    {
     "data": {
      "text/html": [
       "<div>\n",
       "<style scoped>\n",
       "    .dataframe tbody tr th:only-of-type {\n",
       "        vertical-align: middle;\n",
       "    }\n",
       "\n",
       "    .dataframe tbody tr th {\n",
       "        vertical-align: top;\n",
       "    }\n",
       "\n",
       "    .dataframe thead th {\n",
       "        text-align: right;\n",
       "    }\n",
       "</style>\n",
       "<table border=\"1\" class=\"dataframe\">\n",
       "  <thead>\n",
       "    <tr style=\"text-align: right;\">\n",
       "      <th></th>\n",
       "      <th>addrId</th>\n",
       "      <th>userId</th>\n",
       "      <th>class</th>\n",
       "    </tr>\n",
       "  </thead>\n",
       "  <tbody>\n",
       "    <tr>\n",
       "      <th>0</th>\n",
       "      <td>14YRXHHof4BY1TVxN5FqYPcEdpmXiYT78a</td>\n",
       "      <td>477626</td>\n",
       "      <td>0</td>\n",
       "    </tr>\n",
       "    <tr>\n",
       "      <th>1</th>\n",
       "      <td>13Lhad3SAmu2vqYg2dxbNcxH7LE77kJu2w</td>\n",
       "      <td>292149</td>\n",
       "      <td>0</td>\n",
       "    </tr>\n",
       "    <tr>\n",
       "      <th>2</th>\n",
       "      <td>1MAQQZn7EHP6J3erXByCciFiVcgS8ZhWqz</td>\n",
       "      <td>446374</td>\n",
       "      <td>0</td>\n",
       "    </tr>\n",
       "    <tr>\n",
       "      <th>3</th>\n",
       "      <td>16zs5SVSyADh5WrLNbZbpRLsBsN5uEzgeK</td>\n",
       "      <td>272916</td>\n",
       "      <td>0</td>\n",
       "    </tr>\n",
       "    <tr>\n",
       "      <th>4</th>\n",
       "      <td>1QJpwtUorBKPGUJkSyrRcBKTAHq4CXrdYh</td>\n",
       "      <td>369637</td>\n",
       "      <td>0</td>\n",
       "    </tr>\n",
       "    <tr>\n",
       "      <th>...</th>\n",
       "      <td>...</td>\n",
       "      <td>...</td>\n",
       "      <td>...</td>\n",
       "    </tr>\n",
       "    <tr>\n",
       "      <th>822937</th>\n",
       "      <td>13h3xr1LJXQXn9QR3gio62xgdZYAoBrKYQ</td>\n",
       "      <td>558019</td>\n",
       "      <td>0</td>\n",
       "    </tr>\n",
       "    <tr>\n",
       "      <th>822938</th>\n",
       "      <td>1Dow13WsGdCYewjtxP1acvM47A2XoPx1fF</td>\n",
       "      <td>316706</td>\n",
       "      <td>0</td>\n",
       "    </tr>\n",
       "    <tr>\n",
       "      <th>822939</th>\n",
       "      <td>18rfNEMrpF4yqw3s2Y9jTSvsfiH6dYC7ph</td>\n",
       "      <td>365639</td>\n",
       "      <td>0</td>\n",
       "    </tr>\n",
       "    <tr>\n",
       "      <th>822940</th>\n",
       "      <td>1Ct6Sx8uKTubXPcuLX5jSKb6QKMcqf1Ybj</td>\n",
       "      <td>245756</td>\n",
       "      <td>0</td>\n",
       "    </tr>\n",
       "    <tr>\n",
       "      <th>822941</th>\n",
       "      <td>15T4xJj6XxyPZWGLPR3S72hD9f9YzUQf36</td>\n",
       "      <td>64660</td>\n",
       "      <td>0</td>\n",
       "    </tr>\n",
       "  </tbody>\n",
       "</table>\n",
       "<p>822942 rows × 3 columns</p>\n",
       "</div>"
      ],
      "text/plain": [
       "                                    addrId  userId  class\n",
       "0       14YRXHHof4BY1TVxN5FqYPcEdpmXiYT78a  477626      0\n",
       "1       13Lhad3SAmu2vqYg2dxbNcxH7LE77kJu2w  292149      0\n",
       "2       1MAQQZn7EHP6J3erXByCciFiVcgS8ZhWqz  446374      0\n",
       "3       16zs5SVSyADh5WrLNbZbpRLsBsN5uEzgeK  272916      0\n",
       "4       1QJpwtUorBKPGUJkSyrRcBKTAHq4CXrdYh  369637      0\n",
       "...                                    ...     ...    ...\n",
       "822937  13h3xr1LJXQXn9QR3gio62xgdZYAoBrKYQ  558019      0\n",
       "822938  1Dow13WsGdCYewjtxP1acvM47A2XoPx1fF  316706      0\n",
       "822939  18rfNEMrpF4yqw3s2Y9jTSvsfiH6dYC7ph  365639      0\n",
       "822940  1Ct6Sx8uKTubXPcuLX5jSKb6QKMcqf1Ybj  245756      0\n",
       "822941  15T4xJj6XxyPZWGLPR3S72hD9f9YzUQf36   64660      0\n",
       "\n",
       "[822942 rows x 3 columns]"
      ]
     },
     "execution_count": 95,
     "metadata": {},
     "output_type": "execute_result"
    }
   ],
   "source": [
    "wallets_classes = pd.read_csv(\"../dataset/custom/features_fixed/wallets_features_with_users_agg.csv\")[[\n",
    "    \"addrId\", \"userId\", \"class\"\n",
    "]]\n",
    "\n",
    "wallets_classes[\"class\"] = (wallets_classes[\"class\"] == 1).astype(int)\n",
    "wallets_classes"
   ]
  },
  {
   "cell_type": "code",
   "execution_count": 105,
   "metadata": {},
   "outputs": [
    {
     "data": {
      "text/plain": [
       "((450494, 3), (123071, 3))"
      ]
     },
     "execution_count": 105,
     "metadata": {},
     "output_type": "execute_result"
    }
   ],
   "source": [
    "X_train = users_feats_train_full.drop(columns=[\"class\", \"userId\"])\n",
    "y_train = (users_feats_train_full[\"class\"] == 1).astype(int)\n",
    "wallets_classes_train = wallets_classes[wallets_classes[\"userId\"].isin(users_feats_train_full[\"userId\"])]\n",
    "\n",
    "X_test = users_feats_test_full.drop(columns=[\"class\", \"userId\"])\n",
    "y_test = (users_feats_test_full[\"class\"] == 1).astype(int)\n",
    "wallets_classes_test = wallets_classes[wallets_classes[\"userId\"].isin(users_feats_test_full[\"userId\"])]\n",
    "\n",
    "wallets_classes_train.shape, wallets_classes_test.shape\n"
   ]
  },
  {
   "cell_type": "markdown",
   "metadata": {},
   "source": [
    "### XGB model"
   ]
  },
  {
   "cell_type": "code",
   "execution_count": 74,
   "metadata": {},
   "outputs": [
    {
     "name": "stdout",
     "output_type": "stream",
     "text": [
      "\n",
      "        Best threshold: 0.4212105263157895\n",
      "        Best F1: 0.06518699755330305, precicion: 0.03467831907772406, recall: 0.5421511627906976\n",
      "        \n"
     ]
    },
    {
     "data": {
      "image/png": "[encoded data removed]",
      "text/plain": [
       "<Figure size 1500x300 with 4 Axes>"
      ]
     },
     "metadata": {},
     "output_type": "display_data"
    }
   ],
   "source": [
    "import xgboost as xgb\n",
    "\n",
    "column_transformer = ColumnTransformer(\n",
    "    transformers=[\n",
    "        ('min_max_scale', MinMaxScaler(), list(set(X_train.columns))),\n",
    "    ]\n",
    ")\n",
    "\n",
    "pipeline = Pipeline(steps=[\n",
    "    ('transformers', column_transformer),\n",
    "    ('xgb', xgb.XGBClassifier(scale_pos_weight=50))\n",
    "])\n",
    "\n",
    "model = pipeline.fit(X_train, y_train)\n",
    "y_pred = model.predict_proba(X_test)[:, 1]\n",
    "y_pred_vals = model.predict(X_test)\n",
    "\n",
    "res = get_best_threshold(y_pred, y_test, return_hists=True)"
   ]
  },
  {
   "cell_type": "code",
   "execution_count": 42,
   "metadata": {},
   "outputs": [
    {
     "data": {
      "text/plain": [
       "array([1, 1, 0, ..., 0, 0, 0])"
      ]
     },
     "execution_count": 42,
     "metadata": {},
     "output_type": "execute_result"
    }
   ],
   "source": [
    "user_to_pred_class = X_test[[\"userId\"]]\n",
    "user_to_pred_class[\"pred_class\"] = (y_pred >= 0.75).astype(int)\n",
    "wallets_classes_test_with_pred = wallets_classes_test.merge(user_to_pred_class, how=\"left\", on=\"userId\")\n",
    "np.array(wallets_classes_test_with_pred[\"pred_class\"])"
   ]
  },
  {
   "cell_type": "code",
   "execution_count": 107,
   "metadata": {},
   "outputs": [
    {
     "name": "stderr",
     "output_type": "stream",
     "text": [
      "[I 2025-04-20 00:31:38,778] A new study created in memory with name: no-name-4b984da7-42e9-47a0-8ae0-153003b9afca\n",
      "[I 2025-04-20 00:31:41,497] Trial 0 finished with value: 0.14648891644706247 and parameters: {'n_estimators': 384, 'max_depth': 13, 'learning_rate': 0.13036568884187194, 'subsample': 0.9686343179530497, 'colsample_bytree': 0.9813207210605466, 'min_child_weight': 4, 'gamma': 3.654375307090932, 'reg_alpha': 5.667904153065322, 'reg_lambda': 5.9907139837474155, 'scale_pos_weight': 6.021747815360627}. Best is trial 0 with value: 0.14648891644706247.\n"
     ]
    },
    {
     "name": "stdout",
     "output_type": "stream",
     "text": [
      "USERS CONF MATRIX\n",
      "\treal 1\treal 0\n",
      "pred 1\t189\t3566\t\n",
      "pred 0\t485\t109616\t\n",
      "Precicion 0.05033288948069241, Recall 0.28041543026706234, \n",
      "WALLETS CONF MATRIX\n",
      "\treal 1\treal 0\n",
      "pred 1\t191\t3959\t\n",
      "pred 0\t687\t118234\t\n",
      "Precicion 0.04602409638554217, Recall 0.21753986332574032, \n",
      "Precicion = 0.05033288948069241\n",
      "Recall = 0.28041543026706234\n"
     ]
    },
    {
     "name": "stderr",
     "output_type": "stream",
     "text": [
      "[I 2025-04-20 00:31:45,839] Trial 1 finished with value: 0.12434884893295245 and parameters: {'n_estimators': 289, 'max_depth': 12, 'learning_rate': 0.11231793499867752, 'subsample': 0.9602477271354041, 'colsample_bytree': 0.5027086974609872, 'min_child_weight': 8, 'gamma': 1.4299624953514618, 'reg_alpha': 5.28871126191652, 'reg_lambda': 1.31324124414405, 'scale_pos_weight': 47.217303987143445}. Best is trial 0 with value: 0.14648891644706247.\n"
     ]
    },
    {
     "name": "stdout",
     "output_type": "stream",
     "text": [
      "USERS CONF MATRIX\n",
      "\treal 1\treal 0\n",
      "pred 1\t148\t3107\t\n",
      "pred 0\t526\t110075\t\n",
      "Precicion 0.04546850998463902, Recall 0.2195845697329377, \n",
      "WALLETS CONF MATRIX\n",
      "\treal 1\treal 0\n",
      "pred 1\t149\t3293\t\n",
      "pred 0\t729\t118900\t\n",
      "Precicion 0.043288785589773386, Recall 0.16970387243735763, \n",
      "Precicion = 0.04546850998463902\n",
      "Recall = 0.2195845697329377\n"
     ]
    },
    {
     "name": "stderr",
     "output_type": "stream",
     "text": [
      "[I 2025-04-20 00:31:48,914] Trial 2 finished with value: 0.14587110598318773 and parameters: {'n_estimators': 294, 'max_depth': 6, 'learning_rate': 0.15222158256297766, 'subsample': 0.9463351111558496, 'colsample_bytree': 0.7891528393682369, 'min_child_weight': 5, 'gamma': 3.8109942785970183, 'reg_alpha': 1.3132467522669866, 'reg_lambda': 2.492861235572178, 'scale_pos_weight': 38.066317696843925}. Best is trial 0 with value: 0.14648891644706247.\n"
     ]
    },
    {
     "name": "stdout",
     "output_type": "stream",
     "text": [
      "USERS CONF MATRIX\n",
      "\treal 1\treal 0\n",
      "pred 1\t354\t9084\t\n",
      "pred 0\t320\t104098\t\n",
      "Precicion 0.03750794659885569, Recall 0.5252225519287834, \n",
      "WALLETS CONF MATRIX\n",
      "\treal 1\treal 0\n",
      "pred 1\t405\t10616\t\n",
      "pred 0\t473\t111577\t\n",
      "Precicion 0.03674802649487342, Recall 0.4612756264236902, \n",
      "Precicion = 0.03750794659885569\n",
      "Recall = 0.5252225519287834\n"
     ]
    },
    {
     "name": "stderr",
     "output_type": "stream",
     "text": [
      "[I 2025-04-20 00:31:50,964] Trial 3 finished with value: 0.13963821009203428 and parameters: {'n_estimators': 116, 'max_depth': 6, 'learning_rate': 0.1387715351005855, 'subsample': 0.9081726748662957, 'colsample_bytree': 0.9444152422496489, 'min_child_weight': 10, 'gamma': 4.943558297011879, 'reg_alpha': 2.2213829497762982, 'reg_lambda': 5.160078437003658, 'scale_pos_weight': 46.52622498438086}. Best is trial 0 with value: 0.14648891644706247.\n"
     ]
    },
    {
     "name": "stdout",
     "output_type": "stream",
     "text": [
      "USERS CONF MATRIX\n",
      "\treal 1\treal 0\n",
      "pred 1\t352\t9556\t\n",
      "pred 0\t322\t103626\t\n",
      "Precicion 0.03552684699232943, Recall 0.5222551928783383, \n",
      "WALLETS CONF MATRIX\n",
      "\treal 1\treal 0\n",
      "pred 1\t414\t11575\t\n",
      "pred 0\t464\t110618\t\n",
      "Precicion 0.0345316540161815, Recall 0.4715261958997722, \n",
      "Precicion = 0.03552684699232943\n",
      "Recall = 0.5222551928783383\n"
     ]
    },
    {
     "name": "stderr",
     "output_type": "stream",
     "text": [
      "[I 2025-04-20 00:31:54,786] Trial 4 finished with value: 0.11902476483010174 and parameters: {'n_estimators': 176, 'max_depth': 12, 'learning_rate': 0.22301072726891813, 'subsample': 0.5772437934648109, 'colsample_bytree': 0.9154859123662612, 'min_child_weight': 1, 'gamma': 0.1315863713019666, 'reg_alpha': 5.896087776949268, 'reg_lambda': 9.51917894394234, 'scale_pos_weight': 4.507316478019222}. Best is trial 0 with value: 0.14648891644706247.\n"
     ]
    },
    {
     "name": "stdout",
     "output_type": "stream",
     "text": [
      "USERS CONF MATRIX\n",
      "\treal 1\treal 0\n",
      "pred 1\t124\t2389\t\n",
      "pred 0\t550\t110793\t\n",
      "Precicion 0.04934341424592121, Recall 0.18397626112759644, \n",
      "WALLETS CONF MATRIX\n",
      "\treal 1\treal 0\n",
      "pred 1\t129\t2673\t\n",
      "pred 0\t749\t119520\t\n",
      "Precicion 0.046038543897216275, Recall 0.1469248291571754, \n",
      "Precicion = 0.04934341424592121\n",
      "Recall = 0.18397626112759644\n"
     ]
    },
    {
     "name": "stderr",
     "output_type": "stream",
     "text": [
      "[I 2025-04-20 00:31:59,642] Trial 5 finished with value: 0.14901960784313725 and parameters: {'n_estimators': 372, 'max_depth': 8, 'learning_rate': 0.09000541004290852, 'subsample': 0.5366003028505395, 'colsample_bytree': 0.6675915190691089, 'min_child_weight': 4, 'gamma': 0.13956163371244112, 'reg_alpha': 7.016542625483426, 'reg_lambda': 0.16835810910323046, 'scale_pos_weight': 30.66592025630911}. Best is trial 5 with value: 0.14901960784313725.\n"
     ]
    },
    {
     "name": "stdout",
     "output_type": "stream",
     "text": [
      "USERS CONF MATRIX\n",
      "\treal 1\treal 0\n",
      "pred 1\t228\t4726\t\n",
      "pred 0\t446\t108456\t\n",
      "Precicion 0.046023415421881306, Recall 0.33827893175074186, \n",
      "WALLETS CONF MATRIX\n",
      "\treal 1\treal 0\n",
      "pred 1\t233\t5152\t\n",
      "pred 0\t645\t117041\t\n",
      "Precicion 0.04326833797585887, Recall 0.265375854214123, \n",
      "Precicion = 0.046023415421881306\n",
      "Recall = 0.33827893175074186\n"
     ]
    },
    {
     "name": "stderr",
     "output_type": "stream",
     "text": [
      "[I 2025-04-20 00:32:04,043] Trial 6 finished with value: 0.14376996805111822 and parameters: {'n_estimators': 228, 'max_depth': 13, 'learning_rate': 0.02903177839091583, 'subsample': 0.9969890452576868, 'colsample_bytree': 0.5996079042787915, 'min_child_weight': 8, 'gamma': 1.3915638461253843, 'reg_alpha': 2.4963920644040813, 'reg_lambda': 3.713317906991053, 'scale_pos_weight': 44.8262538394888}. Best is trial 5 with value: 0.14901960784313725.\n"
     ]
    },
    {
     "name": "stdout",
     "output_type": "stream",
     "text": [
      "USERS CONF MATRIX\n",
      "\treal 1\treal 0\n",
      "pred 1\t351\t9160\t\n",
      "pred 0\t323\t104022\t\n",
      "Precicion 0.03690463673641047, Recall 0.5207715133531158, \n",
      "WALLETS CONF MATRIX\n",
      "\treal 1\treal 0\n",
      "pred 1\t398\t10311\t\n",
      "pred 0\t480\t111882\t\n",
      "Precicion 0.037165001400691004, Recall 0.4533029612756264, \n",
      "Precicion = 0.03690463673641047\n",
      "Recall = 0.5207715133531158\n"
     ]
    },
    {
     "name": "stderr",
     "output_type": "stream",
     "text": [
      "[I 2025-04-20 00:32:07,498] Trial 7 finished with value: 0.12971441028994987 and parameters: {'n_estimators': 181, 'max_depth': 12, 'learning_rate': 0.0431380633520379, 'subsample': 0.8066946001342336, 'colsample_bytree': 0.9411711203612227, 'min_child_weight': 6, 'gamma': 0.8147053413021155, 'reg_alpha': 5.712140347545525, 'reg_lambda': 8.0628251243986, 'scale_pos_weight': 4.498952939063463}. Best is trial 5 with value: 0.14901960784313725.\n"
     ]
    },
    {
     "name": "stdout",
     "output_type": "stream",
     "text": [
      "USERS CONF MATRIX\n",
      "\treal 1\treal 0\n",
      "pred 1\t119\t1772\t\n",
      "pred 0\t555\t111410\t\n",
      "Precicion 0.06292966684294024, Recall 0.17655786350148367, \n",
      "WALLETS CONF MATRIX\n",
      "\treal 1\treal 0\n",
      "pred 1\t119\t1886\t\n",
      "pred 0\t759\t120307\t\n",
      "Precicion 0.059351620947630926, Recall 0.13553530751708429, \n",
      "Precicion = 0.06292966684294024\n",
      "Recall = 0.17655786350148367\n"
     ]
    },
    {
     "name": "stderr",
     "output_type": "stream",
     "text": [
      "[I 2025-04-20 00:32:09,458] Trial 8 finished with value: 0.0 and parameters: {'n_estimators': 125, 'max_depth': 14, 'learning_rate': 0.027514740158199606, 'subsample': 0.5087346295020626, 'colsample_bytree': 0.9151604900964663, 'min_child_weight': 3, 'gamma': 1.1500307504377387, 'reg_alpha': 5.499828770844161, 'reg_lambda': 7.265635045107318, 'scale_pos_weight': 0.38815533978377703}. Best is trial 5 with value: 0.14901960784313725.\n"
     ]
    },
    {
     "name": "stdout",
     "output_type": "stream",
     "text": [
      "USERS CONF MATRIX\n",
      "\treal 1\treal 0\n",
      "pred 1\t0\t0\t\n",
      "pred 0\t674\t113182\t\n",
      "Precicion nan, Recall 0.0, \n",
      "WALLETS CONF MATRIX\n",
      "\treal 1\treal 0\n",
      "pred 1\t0\t0\t\n",
      "pred 0\t878\t122193\t\n",
      "Precicion nan, Recall 0.0, \n",
      "Precicion = 0.0\n",
      "Recall = 0.0\n"
     ]
    },
    {
     "name": "stderr",
     "output_type": "stream",
     "text": [
      "[I 2025-04-20 00:32:13,063] Trial 9 finished with value: 0.01340033500837521 and parameters: {'n_estimators': 220, 'max_depth': 13, 'learning_rate': 0.012047277547781694, 'subsample': 0.8247304392304009, 'colsample_bytree': 0.6075191929274254, 'min_child_weight': 2, 'gamma': 3.9379574588227495, 'reg_alpha': 8.621855257033863, 'reg_lambda': 4.256554655984431, 'scale_pos_weight': 3.2046478923071717}. Best is trial 5 with value: 0.14901960784313725.\n"
     ]
    },
    {
     "name": "stdout",
     "output_type": "stream",
     "text": [
      "USERS CONF MATRIX\n",
      "\treal 1\treal 0\n",
      "pred 1\t8\t281\t\n",
      "pred 0\t666\t112901\t\n",
      "Precicion 0.02768166089965398, Recall 0.011869436201780416, \n",
      "WALLETS CONF MATRIX\n",
      "\treal 1\treal 0\n",
      "pred 1\t8\t281\t\n",
      "pred 0\t870\t121912\t\n",
      "Precicion 0.02768166089965398, Recall 0.009111617312072893, \n",
      "Precicion = 0.02768166089965398\n",
      "Recall = 0.011869436201780416\n"
     ]
    },
    {
     "name": "stderr",
     "output_type": "stream",
     "text": [
      "[I 2025-04-20 00:32:19,117] Trial 10 finished with value: 0.147775746496039 and parameters: {'n_estimators': 490, 'max_depth': 8, 'learning_rate': 0.06151457055123839, 'subsample': 0.6608281019883652, 'colsample_bytree': 0.7606985542365307, 'min_child_weight': 6, 'gamma': 2.334314941205029, 'reg_alpha': 9.117291310322969, 'reg_lambda': 0.2128502747015113, 'scale_pos_weight': 23.597569288336015}. Best is trial 5 with value: 0.14901960784313725.\n"
     ]
    },
    {
     "name": "stdout",
     "output_type": "stream",
     "text": [
      "USERS CONF MATRIX\n",
      "\treal 1\treal 0\n",
      "pred 1\t291\t6859\t\n",
      "pred 0\t383\t106323\t\n",
      "Precicion 0.0406993006993007, Recall 0.4317507418397626, \n",
      "WALLETS CONF MATRIX\n",
      "\treal 1\treal 0\n",
      "pred 1\t312\t7866\t\n",
      "pred 0\t566\t114327\t\n",
      "Precicion 0.03815113719735877, Recall 0.3553530751708428, \n",
      "Precicion = 0.0406993006993007\n",
      "Recall = 0.4317507418397626\n"
     ]
    },
    {
     "name": "stderr",
     "output_type": "stream",
     "text": [
      "[I 2025-04-20 00:32:25,359] Trial 11 finished with value: 0.14739751266697373 and parameters: {'n_estimators': 492, 'max_depth': 8, 'learning_rate': 0.06478448026987639, 'subsample': 0.6589256078827852, 'colsample_bytree': 0.7568927553783292, 'min_child_weight': 6, 'gamma': 2.479038364625824, 'reg_alpha': 9.588077808358216, 'reg_lambda': 0.06571074600891846, 'scale_pos_weight': 23.49476445684303}. Best is trial 5 with value: 0.14901960784313725.\n"
     ]
    },
    {
     "name": "stdout",
     "output_type": "stream",
     "text": [
      "USERS CONF MATRIX\n",
      "\treal 1\treal 0\n",
      "pred 1\t256\t5732\t\n",
      "pred 0\t418\t107450\t\n",
      "Precicion 0.04275217100868404, Recall 0.3798219584569733, \n",
      "WALLETS CONF MATRIX\n",
      "\treal 1\treal 0\n",
      "pred 1\t277\t6524\t\n",
      "pred 0\t601\t115669\t\n",
      "Precicion 0.04072930451404205, Recall 0.31548974943052394, \n",
      "Precicion = 0.04275217100868404\n",
      "Recall = 0.3798219584569733\n"
     ]
    },
    {
     "name": "stderr",
     "output_type": "stream",
     "text": [
      "[I 2025-04-20 00:32:28,826] Trial 12 finished with value: 0.13837011884550085 and parameters: {'n_estimators': 490, 'max_depth': 3, 'learning_rate': 0.06829580938673792, 'subsample': 0.6765479114570561, 'colsample_bytree': 0.6548858640316659, 'min_child_weight': 7, 'gamma': 2.4123922870249292, 'reg_alpha': 7.852335666116007, 'reg_lambda': 0.5632642942305338, 'scale_pos_weight': 23.638573932753886}. Best is trial 5 with value: 0.14901960784313725.\n"
     ]
    },
    {
     "name": "stdout",
     "output_type": "stream",
     "text": [
      "USERS CONF MATRIX\n",
      "\treal 1\treal 0\n",
      "pred 1\t326\t8758\t\n",
      "pred 0\t348\t104424\t\n",
      "Precicion 0.03588727432848965, Recall 0.4836795252225519, \n",
      "WALLETS CONF MATRIX\n",
      "\treal 1\treal 0\n",
      "pred 1\t379\t10538\t\n",
      "pred 0\t499\t111655\t\n",
      "Precicion 0.03471649720619218, Recall 0.4316628701594533, \n",
      "Precicion = 0.03588727432848965\n",
      "Recall = 0.4836795252225519\n"
     ]
    },
    {
     "name": "stderr",
     "output_type": "stream",
     "text": [
      "[I 2025-04-20 00:32:33,997] Trial 13 finished with value: 0.14211369095276222 and parameters: {'n_estimators': 393, 'max_depth': 8, 'learning_rate': 0.08478481362063424, 'subsample': 0.6170401110807614, 'colsample_bytree': 0.8302362845060904, 'min_child_weight': 4, 'gamma': 0.14189652746378778, 'reg_alpha': 7.416683990111817, 'reg_lambda': 2.143949237492595, 'scale_pos_weight': 58.660338404659626}. Best is trial 5 with value: 0.14901960784313725.\n"
     ]
    },
    {
     "name": "stdout",
     "output_type": "stream",
     "text": [
      "USERS CONF MATRIX\n",
      "\treal 1\treal 0\n",
      "pred 1\t213\t4585\t\n",
      "pred 0\t461\t108597\t\n",
      "Precicion 0.04439349729053772, Recall 0.31602373887240354, \n",
      "WALLETS CONF MATRIX\n",
      "\treal 1\treal 0\n",
      "pred 1\t221\t4961\t\n",
      "pred 0\t657\t117232\t\n",
      "Precicion 0.04264762639907372, Recall 0.2517084282460137, \n",
      "Precicion = 0.04439349729053772\n",
      "Recall = 0.31602373887240354\n"
     ]
    },
    {
     "name": "stderr",
     "output_type": "stream",
     "text": [
      "[I 2025-04-20 00:32:39,802] Trial 14 finished with value: 0.14674411494955672 and parameters: {'n_estimators': 381, 'max_depth': 10, 'learning_rate': 0.039411695103082706, 'subsample': 0.5096886281198052, 'colsample_bytree': 0.705468621408663, 'min_child_weight': 4, 'gamma': 1.9156446886383856, 'reg_alpha': 7.42164487894041, 'reg_lambda': 2.6454696336304577, 'scale_pos_weight': 18.00362531345965}. Best is trial 5 with value: 0.14901960784313725.\n"
     ]
    },
    {
     "name": "stdout",
     "output_type": "stream",
     "text": [
      "USERS CONF MATRIX\n",
      "\treal 1\treal 0\n",
      "pred 1\t192\t3654\t\n",
      "pred 0\t482\t109528\t\n",
      "Precicion 0.0499219968798752, Recall 0.28486646884273, \n",
      "WALLETS CONF MATRIX\n",
      "\treal 1\treal 0\n",
      "pred 1\t202\t3978\t\n",
      "pred 0\t676\t118215\t\n",
      "Precicion 0.04832535885167464, Recall 0.23006833712984054, \n",
      "Precicion = 0.0499219968798752\n",
      "Recall = 0.28486646884273\n"
     ]
    },
    {
     "name": "stderr",
     "output_type": "stream",
     "text": [
      "[I 2025-04-20 00:32:44,498] Trial 15 finished with value: 0.14531754574811626 and parameters: {'n_estimators': 429, 'max_depth': 6, 'learning_rate': 0.018603165012459916, 'subsample': 0.7328806785255462, 'colsample_bytree': 0.8374565868887419, 'min_child_weight': 10, 'gamma': 3.2502292854978236, 'reg_alpha': 9.54316739102288, 'reg_lambda': 1.2674041195370298, 'scale_pos_weight': 32.96775592888071}. Best is trial 5 with value: 0.14901960784313725.\n"
     ]
    },
    {
     "name": "stdout",
     "output_type": "stream",
     "text": [
      "USERS CONF MATRIX\n",
      "\treal 1\treal 0\n",
      "pred 1\t189\t3618\t\n",
      "pred 0\t485\t109564\t\n",
      "Precicion 0.04964539007092199, Recall 0.28041543026706234, \n",
      "WALLETS CONF MATRIX\n",
      "\treal 1\treal 0\n",
      "pred 1\t204\t3836\t\n",
      "pred 0\t674\t118357\t\n",
      "Precicion 0.0504950495049505, Recall 0.23234624145785876, \n",
      "Precicion = 0.04964539007092199\n",
      "Recall = 0.28041543026706234\n"
     ]
    },
    {
     "name": "stderr",
     "output_type": "stream",
     "text": [
      "[I 2025-04-20 00:32:49,556] Trial 16 finished with value: 0.11364896329970063 and parameters: {'n_estimators': 332, 'max_depth': 10, 'learning_rate': 0.21499613676309978, 'subsample': 0.6023587481119457, 'colsample_bytree': 0.6886363140738375, 'min_child_weight': 7, 'gamma': 2.994905943155287, 'reg_alpha': 4.0784811531499106, 'reg_lambda': 0.07245775534827023, 'scale_pos_weight': 19.831697915941817}. Best is trial 5 with value: 0.14901960784313725.\n"
     ]
    },
    {
     "name": "stdout",
     "output_type": "stream",
     "text": [
      "USERS CONF MATRIX\n",
      "\treal 1\treal 0\n",
      "pred 1\t205\t6118\t\n",
      "pred 0\t469\t107064\t\n",
      "Precicion 0.032421318994148345, Recall 0.30415430267062316, \n",
      "WALLETS CONF MATRIX\n",
      "\treal 1\treal 0\n",
      "pred 1\t221\t6825\t\n",
      "pred 0\t657\t115368\t\n",
      "Precicion 0.03136531365313653, Recall 0.2517084282460137, \n",
      "Precicion = 0.032421318994148345\n",
      "Recall = 0.30415430267062316\n"
     ]
    },
    {
     "name": "stderr",
     "output_type": "stream",
     "text": [
      "[I 2025-04-20 00:32:53,161] Trial 17 finished with value: 0.14113676459308122 and parameters: {'n_estimators': 448, 'max_depth': 4, 'learning_rate': 0.08864030940324659, 'subsample': 0.7182226580671968, 'colsample_bytree': 0.531264338921831, 'min_child_weight': 5, 'gamma': 4.558562382357814, 'reg_alpha': 6.941297231716073, 'reg_lambda': 3.7413913114429835, 'scale_pos_weight': 13.072993701941687}. Best is trial 5 with value: 0.14901960784313725.\n"
     ]
    },
    {
     "name": "stdout",
     "output_type": "stream",
     "text": [
      "USERS CONF MATRIX\n",
      "\treal 1\treal 0\n",
      "pred 1\t368\t9973\t\n",
      "pred 0\t306\t103209\t\n",
      "Precicion 0.03558650033845856, Recall 0.5459940652818991, \n",
      "WALLETS CONF MATRIX\n",
      "\treal 1\treal 0\n",
      "pred 1\t455\t12668\t\n",
      "pred 0\t423\t109525\t\n",
      "Precicion 0.034671950011430315, Recall 0.5182232346241458, \n",
      "Precicion = 0.03558650033845856\n",
      "Recall = 0.5459940652818991\n"
     ]
    },
    {
     "name": "stderr",
     "output_type": "stream",
     "text": [
      "[I 2025-04-20 00:32:54,982] Trial 18 finished with value: 0.14783116125267456 and parameters: {'n_estimators': 56, 'max_depth': 9, 'learning_rate': 0.051127402313036564, 'subsample': 0.5841400081542589, 'colsample_bytree': 0.7361942408857087, 'min_child_weight': 2, 'gamma': 0.6800700322026123, 'reg_alpha': 8.692756565525768, 'reg_lambda': 1.6604494020368787, 'scale_pos_weight': 30.021850985779857}. Best is trial 5 with value: 0.14901960784313725.\n"
     ]
    },
    {
     "name": "stdout",
     "output_type": "stream",
     "text": [
      "USERS CONF MATRIX\n",
      "\treal 1\treal 0\n",
      "pred 1\t152\t2293\t\n",
      "pred 0\t522\t110889\t\n",
      "Precicion 0.06216768916155419, Recall 0.22551928783382788, \n",
      "WALLETS CONF MATRIX\n",
      "\treal 1\treal 0\n",
      "pred 1\t153\t2407\t\n",
      "pred 0\t725\t119786\t\n",
      "Precicion 0.059765625, Recall 0.17425968109339407, \n",
      "Precicion = 0.06216768916155419\n",
      "Recall = 0.22551928783382788\n"
     ]
    },
    {
     "name": "stderr",
     "output_type": "stream",
     "text": [
      "[I 2025-04-20 00:32:57,001] Trial 19 finished with value: 0.1284858262272413 and parameters: {'n_estimators': 65, 'max_depth': 10, 'learning_rate': 0.29985912892019895, 'subsample': 0.5427926631812819, 'colsample_bytree': 0.5983828382642267, 'min_child_weight': 1, 'gamma': 0.8344740298775453, 'reg_alpha': 4.182380490405899, 'reg_lambda': 1.8051182706881275, 'scale_pos_weight': 33.39898768097244}. Best is trial 5 with value: 0.14901960784313725.\n"
     ]
    },
    {
     "name": "stdout",
     "output_type": "stream",
     "text": [
      "USERS CONF MATRIX\n",
      "\treal 1\treal 0\n",
      "pred 1\t223\t5759\t\n",
      "pred 0\t451\t107423\t\n",
      "Precicion 0.03727850217318623, Recall 0.33086053412462907, \n",
      "WALLETS CONF MATRIX\n",
      "\treal 1\treal 0\n",
      "pred 1\t241\t6322\t\n",
      "pred 0\t637\t115871\t\n",
      "Precicion 0.03672101173243943, Recall 0.2744874715261959, \n",
      "Precicion = 0.03727850217318623\n",
      "Recall = 0.33086053412462907\n"
     ]
    },
    {
     "name": "stderr",
     "output_type": "stream",
     "text": [
      "[I 2025-04-20 00:33:01,008] Trial 20 finished with value: 0.1416159860990443 and parameters: {'n_estimators': 328, 'max_depth': 7, 'learning_rate': 0.047552766026495524, 'subsample': 0.5579028006480997, 'colsample_bytree': 0.6901926165342596, 'min_child_weight': 2, 'gamma': 0.5998356626451431, 'reg_alpha': 8.120208932823914, 'reg_lambda': 2.9755303452433113, 'scale_pos_weight': 38.63047467450761}. Best is trial 5 with value: 0.14901960784313725.\n"
     ]
    },
    {
     "name": "stdout",
     "output_type": "stream",
     "text": [
      "USERS CONF MATRIX\n",
      "\treal 1\treal 0\n",
      "pred 1\t326\t8488\t\n",
      "pred 0\t348\t104694\t\n",
      "Precicion 0.03698661220785115, Recall 0.4836795252225519, \n",
      "WALLETS CONF MATRIX\n",
      "\treal 1\treal 0\n",
      "pred 1\t348\t9559\t\n",
      "pred 0\t530\t112634\t\n",
      "Precicion 0.03512667810638942, Recall 0.39635535307517084, \n",
      "Precicion = 0.03698661220785115\n",
      "Recall = 0.4836795252225519\n"
     ]
    },
    {
     "name": "stderr",
     "output_type": "stream",
     "text": [
      "[I 2025-04-20 00:33:07,196] Trial 21 finished with value: 0.1467527060782681 and parameters: {'n_estimators': 443, 'max_depth': 9, 'learning_rate': 0.030886535148397114, 'subsample': 0.6479684084018491, 'colsample_bytree': 0.742183464715026, 'min_child_weight': 3, 'gamma': 1.8050536591343436, 'reg_alpha': 8.663277679612259, 'reg_lambda': 0.8641704937026097, 'scale_pos_weight': 26.972239335887338}. Best is trial 5 with value: 0.14901960784313725.\n"
     ]
    },
    {
     "name": "stdout",
     "output_type": "stream",
     "text": [
      "USERS CONF MATRIX\n",
      "\treal 1\treal 0\n",
      "pred 1\t282\t6630\t\n",
      "pred 0\t392\t106552\t\n",
      "Precicion 0.04079861111111111, Recall 0.41839762611275966, \n",
      "WALLETS CONF MATRIX\n",
      "\treal 1\treal 0\n",
      "pred 1\t288\t7317\t\n",
      "pred 0\t590\t114876\t\n",
      "Precicion 0.0378698224852071, Recall 0.32801822323462415, \n",
      "Precicion = 0.04079861111111111\n",
      "Recall = 0.41839762611275966\n"
     ]
    },
    {
     "name": "stderr",
     "output_type": "stream",
     "text": [
      "[I 2025-04-20 00:33:11,862] Trial 22 finished with value: 0.14598930481283423 and parameters: {'n_estimators': 336, 'max_depth': 8, 'learning_rate': 0.05855572333658261, 'subsample': 0.6201633678197325, 'colsample_bytree': 0.8159993631301061, 'min_child_weight': 3, 'gamma': 0.42929709327288323, 'reg_alpha': 9.845082408509118, 'reg_lambda': 1.2664032889534478, 'scale_pos_weight': 28.737668497229947}. Best is trial 5 with value: 0.14901960784313725.\n"
     ]
    },
    {
     "name": "stdout",
     "output_type": "stream",
     "text": [
      "USERS CONF MATRIX\n",
      "\treal 1\treal 0\n",
      "pred 1\t273\t6381\t\n",
      "pred 0\t401\t106801\t\n",
      "Precicion 0.04102795311091073, Recall 0.4050445103857567, \n",
      "WALLETS CONF MATRIX\n",
      "\treal 1\treal 0\n",
      "pred 1\t286\t7080\t\n",
      "pred 0\t592\t115113\t\n",
      "Precicion 0.03882704317132772, Recall 0.32574031890660593, \n",
      "Precicion = 0.04102795311091073\n",
      "Recall = 0.4050445103857567\n"
     ]
    },
    {
     "name": "stderr",
     "output_type": "stream",
     "text": [
      "[I 2025-04-20 00:33:15,773] Trial 23 finished with value: 0.14544615029435531 and parameters: {'n_estimators': 247, 'max_depth': 9, 'learning_rate': 0.09017585532301098, 'subsample': 0.6941513814317497, 'colsample_bytree': 0.7462483494208374, 'min_child_weight': 2, 'gamma': 1.9740294236744056, 'reg_alpha': 6.834544522419554, 'reg_lambda': 0.28680820743908386, 'scale_pos_weight': 13.21833812799786}. Best is trial 5 with value: 0.14901960784313725.\n"
     ]
    },
    {
     "name": "stdout",
     "output_type": "stream",
     "text": [
      "USERS CONF MATRIX\n",
      "\treal 1\treal 0\n",
      "pred 1\t252\t5715\t\n",
      "pred 0\t422\t107467\t\n",
      "Precicion 0.042232277526395176, Recall 0.37388724035608306, \n",
      "WALLETS CONF MATRIX\n",
      "\treal 1\treal 0\n",
      "pred 1\t275\t6421\t\n",
      "pred 0\t603\t115772\t\n",
      "Precicion 0.04106929510155317, Recall 0.3132118451025057, \n",
      "Precicion = 0.042232277526395176\n",
      "Recall = 0.37388724035608306\n"
     ]
    },
    {
     "name": "stderr",
     "output_type": "stream",
     "text": [
      "[I 2025-04-20 00:33:17,345] Trial 24 finished with value: 0.1215453624656345 and parameters: {'n_estimators': 50, 'max_depth': 5, 'learning_rate': 0.020054546922201377, 'subsample': 0.7768395053464812, 'colsample_bytree': 0.6412328403617622, 'min_child_weight': 5, 'gamma': 0.07226435580898877, 'reg_alpha': 9.109336223086212, 'reg_lambda': 1.719897201930313, 'scale_pos_weight': 38.438580369650936}. Best is trial 5 with value: 0.14901960784313725.\n"
     ]
    },
    {
     "name": "stdout",
     "output_type": "stream",
     "text": [
      "USERS CONF MATRIX\n",
      "\treal 1\treal 0\n",
      "pred 1\t336\t10790\t\n",
      "pred 0\t338\t102392\t\n",
      "Precicion 0.030199532626280785, Recall 0.49851632047477745, \n",
      "WALLETS CONF MATRIX\n",
      "\treal 1\treal 0\n",
      "pred 1\t422\t14285\t\n",
      "pred 0\t456\t107908\t\n",
      "Precicion 0.0286938192697355, Recall 0.4806378132118451, \n",
      "Precicion = 0.030199532626280785\n",
      "Recall = 0.49851632047477745\n"
     ]
    },
    {
     "name": "stderr",
     "output_type": "stream",
     "text": [
      "[I 2025-04-20 00:33:24,229] Trial 25 finished with value: 0.12268481874307424 and parameters: {'n_estimators': 408, 'max_depth': 11, 'learning_rate': 0.07277341367288157, 'subsample': 0.5723223188115623, 'colsample_bytree': 0.7798895738379646, 'min_child_weight': 4, 'gamma': 1.1446550986877346, 'reg_alpha': 6.586093883916097, 'reg_lambda': 0.773379946364452, 'scale_pos_weight': 31.778938240082077}. Best is trial 5 with value: 0.14901960784313725.\n"
     ]
    },
    {
     "name": "stdout",
     "output_type": "stream",
     "text": [
      "USERS CONF MATRIX\n",
      "\treal 1\treal 0\n",
      "pred 1\t155\t3466\t\n",
      "pred 0\t519\t109716\t\n",
      "Precicion 0.0428058547362607, Recall 0.22997032640949555, \n",
      "WALLETS CONF MATRIX\n",
      "\treal 1\treal 0\n",
      "pred 1\t160\t3714\t\n",
      "pred 0\t718\t118479\t\n",
      "Precicion 0.041300980898296334, Recall 0.18223234624145787, \n",
      "Precicion = 0.0428058547362607\n",
      "Recall = 0.22997032640949555\n"
     ]
    },
    {
     "name": "stderr",
     "output_type": "stream",
     "text": [
      "[I 2025-04-20 00:33:28,629] Trial 26 finished with value: 0.14653989413840424 and parameters: {'n_estimators': 356, 'max_depth': 7, 'learning_rate': 0.04977448439508362, 'subsample': 0.5376077826755765, 'colsample_bytree': 0.879600421197366, 'min_child_weight': 7, 'gamma': 2.9374420942768724, 'reg_alpha': 8.534365452806812, 'reg_lambda': 3.174615861433137, 'scale_pos_weight': 15.00265143299406}. Best is trial 5 with value: 0.14901960784313725.\n"
     ]
    },
    {
     "name": "stdout",
     "output_type": "stream",
     "text": [
      "USERS CONF MATRIX\n",
      "\treal 1\treal 0\n",
      "pred 1\t299\t7207\t\n",
      "pred 0\t375\t105975\t\n",
      "Precicion 0.03983479882760458, Recall 0.443620178041543, \n",
      "WALLETS CONF MATRIX\n",
      "\treal 1\treal 0\n",
      "pred 1\t333\t8102\t\n",
      "pred 0\t545\t114091\t\n",
      "Precicion 0.03947836395969176, Recall 0.3792710706150342, \n",
      "Precicion = 0.03983479882760458\n",
      "Recall = 0.443620178041543\n"
     ]
    },
    {
     "name": "stderr",
     "output_type": "stream",
     "text": [
      "[I 2025-04-20 00:33:33,851] Trial 27 finished with value: 0.14406585867825292 and parameters: {'n_estimators': 470, 'max_depth': 7, 'learning_rate': 0.0368435855478775, 'subsample': 0.6003414181180806, 'colsample_bytree': 0.6514698067087428, 'min_child_weight': 3, 'gamma': 0.5524899566480699, 'reg_alpha': 4.415222229841245, 'reg_lambda': 4.549642562791783, 'scale_pos_weight': 22.90786991040662}. Best is trial 5 with value: 0.14901960784313725.\n"
     ]
    },
    {
     "name": "stdout",
     "output_type": "stream",
     "text": [
      "USERS CONF MATRIX\n",
      "\treal 1\treal 0\n",
      "pred 1\t378\t10045\t\n",
      "pred 0\t296\t103137\t\n",
      "Precicion 0.03626595030221625, Recall 0.5608308605341247, \n",
      "WALLETS CONF MATRIX\n",
      "\treal 1\treal 0\n",
      "pred 1\t462\t12495\t\n",
      "pred 0\t416\t109698\t\n",
      "Precicion 0.03565640194489465, Recall 0.5261958997722096, \n",
      "Precicion = 0.03626595030221625\n",
      "Recall = 0.5608308605341247\n"
     ]
    },
    {
     "name": "stderr",
     "output_type": "stream",
     "text": [
      "[I 2025-04-20 00:33:37,767] Trial 28 finished with value: 0.144306180069016 and parameters: {'n_estimators': 262, 'max_depth': 9, 'learning_rate': 0.055173191155343665, 'subsample': 0.6394219653381787, 'colsample_bytree': 0.7271106975046477, 'min_child_weight': 6, 'gamma': 1.5160562830696231, 'reg_alpha': 0.0738156845463509, 'reg_lambda': 5.8984690105835025, 'scale_pos_weight': 27.133886935146112}. Best is trial 5 with value: 0.14901960784313725.\n"
     ]
    },
    {
     "name": "stdout",
     "output_type": "stream",
     "text": [
      "USERS CONF MATRIX\n",
      "\treal 1\treal 0\n",
      "pred 1\t276\t6591\t\n",
      "pred 0\t398\t106591\t\n",
      "Precicion 0.04019222367846221, Recall 0.4094955489614243, \n",
      "WALLETS CONF MATRIX\n",
      "\treal 1\treal 0\n",
      "pred 1\t286\t7056\t\n",
      "pred 0\t592\t115137\t\n",
      "Precicion 0.038953963497684554, Recall 0.32574031890660593, \n",
      "Precicion = 0.04019222367846221\n",
      "Recall = 0.4094955489614243\n"
     ]
    },
    {
     "name": "stderr",
     "output_type": "stream",
     "text": [
      "[I 2025-04-20 00:33:44,288] Trial 29 finished with value: 0.1317008603573792 and parameters: {'n_estimators': 369, 'max_depth': 15, 'learning_rate': 0.11348743921619818, 'subsample': 0.5027410680985394, 'colsample_bytree': 0.5666474696179775, 'min_child_weight': 2, 'gamma': 1.0209159312334108, 'reg_alpha': 6.395520890021644, 'reg_lambda': 2.0018991509455217, 'scale_pos_weight': 10.68731032568643}. Best is trial 5 with value: 0.14901960784313725.\n"
     ]
    },
    {
     "name": "stdout",
     "output_type": "stream",
     "text": [
      "USERS CONF MATRIX\n",
      "\treal 1\treal 0\n",
      "pred 1\t199\t4660\t\n",
      "pred 0\t475\t108522\t\n",
      "Precicion 0.04095492899773616, Recall 0.2952522255192878, \n",
      "WALLETS CONF MATRIX\n",
      "\treal 1\treal 0\n",
      "pred 1\t222\t5299\t\n",
      "pred 0\t656\t116894\t\n",
      "Precicion 0.040210106864698426, Recall 0.2528473804100228, \n",
      "Precicion = 0.04095492899773616\n",
      "Recall = 0.2952522255192878\n"
     ]
    },
    {
     "name": "stderr",
     "output_type": "stream",
     "text": [
      "[I 2025-04-20 00:33:46,686] Trial 30 finished with value: 0.1379754074921361 and parameters: {'n_estimators': 91, 'max_depth': 11, 'learning_rate': 0.16944407072807405, 'subsample': 0.6990207944486715, 'colsample_bytree': 0.7893275170671907, 'min_child_weight': 5, 'gamma': 2.181994369728289, 'reg_alpha': 7.830598690428063, 'reg_lambda': 1.298497962961735, 'scale_pos_weight': 52.756013791445525}. Best is trial 5 with value: 0.14901960784313725.\n"
     ]
    },
    {
     "name": "stdout",
     "output_type": "stream",
     "text": [
      "USERS CONF MATRIX\n",
      "\treal 1\treal 0\n",
      "pred 1\t193\t4105\t\n",
      "pred 0\t481\t109077\t\n",
      "Precicion 0.04490460679385761, Recall 0.28635014836795253, \n",
      "WALLETS CONF MATRIX\n",
      "\treal 1\treal 0\n",
      "pred 1\t197\t4281\t\n",
      "pred 0\t681\t117912\t\n",
      "Precicion 0.04399285395265744, Recall 0.224373576309795, \n",
      "Precicion = 0.04490460679385761\n",
      "Recall = 0.28635014836795253\n"
     ]
    },
    {
     "name": "stderr",
     "output_type": "stream",
     "text": [
      "[I 2025-04-20 00:33:52,679] Trial 31 finished with value: 0.14930515677041462 and parameters: {'n_estimators': 500, 'max_depth': 8, 'learning_rate': 0.0608125926777458, 'subsample': 0.6685702460750832, 'colsample_bytree': 0.7088547762794313, 'min_child_weight': 6, 'gamma': 2.636439755834827, 'reg_alpha': 9.283532068004376, 'reg_lambda': 0.17508393944631828, 'scale_pos_weight': 23.221442083013365}. Best is trial 31 with value: 0.14930515677041462.\n"
     ]
    },
    {
     "name": "stdout",
     "output_type": "stream",
     "text": [
      "USERS CONF MATRIX\n",
      "\treal 1\treal 0\n",
      "pred 1\t260\t5751\t\n",
      "pred 0\t414\t107431\t\n",
      "Precicion 0.043254034270504074, Recall 0.3857566765578635, \n",
      "WALLETS CONF MATRIX\n",
      "\treal 1\treal 0\n",
      "pred 1\t270\t6484\t\n",
      "pred 0\t608\t115709\t\n",
      "Precicion 0.03997631033461652, Recall 0.30751708428246016, \n",
      "Precicion = 0.043254034270504074\n",
      "Recall = 0.3857566765578635\n"
     ]
    },
    {
     "name": "stderr",
     "output_type": "stream",
     "text": [
      "[I 2025-04-20 00:33:58,391] Trial 32 finished with value: 0.15281757402101243 and parameters: {'n_estimators': 499, 'max_depth': 8, 'learning_rate': 0.09835635774808414, 'subsample': 0.7610790422127849, 'colsample_bytree': 0.711637552835685, 'min_child_weight': 8, 'gamma': 3.441749836656261, 'reg_alpha': 9.153571406605574, 'reg_lambda': 0.7266088810717253, 'scale_pos_weight': 19.393229147294157}. Best is trial 32 with value: 0.15281757402101243.\n"
     ]
    },
    {
     "name": "stdout",
     "output_type": "stream",
     "text": [
      "USERS CONF MATRIX\n",
      "\treal 1\treal 0\n",
      "pred 1\t256\t5424\t\n",
      "pred 0\t418\t107758\t\n",
      "Precicion 0.04507042253521127, Recall 0.3798219584569733, \n",
      "WALLETS CONF MATRIX\n",
      "\treal 1\treal 0\n",
      "pred 1\t272\t6136\t\n",
      "pred 0\t606\t116057\t\n",
      "Precicion 0.04244694132334582, Recall 0.3097949886104784, \n",
      "Precicion = 0.04507042253521127\n",
      "Recall = 0.3798219584569733\n"
     ]
    },
    {
     "name": "stderr",
     "output_type": "stream",
     "text": [
      "[I 2025-04-20 00:34:03,195] Trial 33 finished with value: 0.14591066171765008 and parameters: {'n_estimators': 423, 'max_depth': 7, 'learning_rate': 0.11833844164324558, 'subsample': 0.7705759370460104, 'colsample_bytree': 0.675439481944664, 'min_child_weight': 9, 'gamma': 3.4853059072300105, 'reg_alpha': 8.979064383578251, 'reg_lambda': 1.008265328649366, 'scale_pos_weight': 18.14297692578862}. Best is trial 32 with value: 0.15281757402101243.\n"
     ]
    },
    {
     "name": "stdout",
     "output_type": "stream",
     "text": [
      "USERS CONF MATRIX\n",
      "\treal 1\treal 0\n",
      "pred 1\t228\t4889\t\n",
      "pred 0\t446\t108293\t\n",
      "Precicion 0.04455735782685167, Recall 0.33827893175074186, \n",
      "WALLETS CONF MATRIX\n",
      "\treal 1\treal 0\n",
      "pred 1\t250\t5582\t\n",
      "pred 0\t628\t116611\t\n",
      "Precicion 0.042866941015089165, Recall 0.2847380410022779, \n",
      "Precicion = 0.04455735782685167\n",
      "Recall = 0.33827893175074186\n"
     ]
    },
    {
     "name": "stderr",
     "output_type": "stream",
     "text": [
      "[I 2025-04-20 00:34:06,202] Trial 34 finished with value: 0.14215836135738305 and parameters: {'n_estimators': 289, 'max_depth': 5, 'learning_rate': 0.09577262811928693, 'subsample': 0.8691295242590287, 'colsample_bytree': 0.7129264551308561, 'min_child_weight': 8, 'gamma': 2.7348664348248257, 'reg_alpha': 9.91502670921087, 'reg_lambda': 1.7878797146916927, 'scale_pos_weight': 42.0307368641765}. Best is trial 32 with value: 0.15281757402101243.\n"
     ]
    },
    {
     "name": "stdout",
     "output_type": "stream",
     "text": [
      "USERS CONF MATRIX\n",
      "\treal 1\treal 0\n",
      "pred 1\t372\t10016\t\n",
      "pred 0\t302\t103166\t\n",
      "Precicion 0.03581055063534848, Recall 0.5519287833827893, \n",
      "WALLETS CONF MATRIX\n",
      "\treal 1\treal 0\n",
      "pred 1\t458\t12593\t\n",
      "pred 0\t420\t109600\t\n",
      "Precicion 0.035093096314458665, Recall 0.5216400911161732, \n",
      "Precicion = 0.03581055063534848\n",
      "Recall = 0.5519287833827893\n"
     ]
    },
    {
     "name": "stderr",
     "output_type": "stream",
     "text": [
      "[I 2025-04-20 00:34:12,094] Trial 35 finished with value: 0.11823777129899579 and parameters: {'n_estimators': 464, 'max_depth': 10, 'learning_rate': 0.16305381512895495, 'subsample': 0.7599331694007447, 'colsample_bytree': 0.6226550792472785, 'min_child_weight': 9, 'gamma': 4.237735942482589, 'reg_alpha': 8.172165645060836, 'reg_lambda': 0.6077947174677162, 'scale_pos_weight': 35.545834682748556}. Best is trial 32 with value: 0.15281757402101243.\n"
     ]
    },
    {
     "name": "stdout",
     "output_type": "stream",
     "text": [
      "USERS CONF MATRIX\n",
      "\treal 1\treal 0\n",
      "pred 1\t219\t6346\t\n",
      "pred 0\t455\t106836\t\n",
      "Precicion 0.03335872048743336, Recall 0.3249258160237389, \n",
      "WALLETS CONF MATRIX\n",
      "\treal 1\treal 0\n",
      "pred 1\t233\t7107\t\n",
      "pred 0\t645\t115086\t\n",
      "Precicion 0.03174386920980926, Recall 0.265375854214123, \n",
      "Precicion = 0.03335872048743336\n",
      "Recall = 0.3249258160237389\n"
     ]
    },
    {
     "name": "stderr",
     "output_type": "stream",
     "text": [
      "[I 2025-04-20 00:34:16,959] Trial 36 finished with value: 0.14690654931400465 and parameters: {'n_estimators': 467, 'max_depth': 8, 'learning_rate': 0.10262389135831464, 'subsample': 0.8322949716107099, 'colsample_bytree': 0.7233902474988424, 'min_child_weight': 8, 'gamma': 3.4327398106579277, 'reg_alpha': 7.321416476335671, 'reg_lambda': 2.521498210649876, 'scale_pos_weight': 10.11516356431921}. Best is trial 32 with value: 0.15281757402101243.\n"
     ]
    },
    {
     "name": "stdout",
     "output_type": "stream",
     "text": [
      "USERS CONF MATRIX\n",
      "\treal 1\treal 0\n",
      "pred 1\t227\t4803\t\n",
      "pred 0\t447\t108379\t\n",
      "Precicion 0.04512922465208748, Recall 0.3367952522255193, \n",
      "WALLETS CONF MATRIX\n",
      "\treal 1\treal 0\n",
      "pred 1\t249\t5403\t\n",
      "pred 0\t629\t116790\t\n",
      "Precicion 0.0440552016985138, Recall 0.2835990888382688, \n",
      "Precicion = 0.04512922465208748\n",
      "Recall = 0.3367952522255193\n"
     ]
    },
    {
     "name": "stderr",
     "output_type": "stream",
     "text": [
      "[I 2025-04-20 00:34:20,549] Trial 37 finished with value: 0.1512945825101383 and parameters: {'n_estimators': 183, 'max_depth': 11, 'learning_rate': 0.07667086266625048, 'subsample': 0.5890679789156184, 'colsample_bytree': 0.6722488902150923, 'min_child_weight': 1, 'gamma': 3.0256433353803374, 'reg_alpha': 9.206656596783603, 'reg_lambda': 0.835606993985193, 'scale_pos_weight': 29.8260010837988}. Best is trial 32 with value: 0.15281757402101243.\n"
     ]
    },
    {
     "name": "stdout",
     "output_type": "stream",
     "text": [
      "USERS CONF MATRIX\n",
      "\treal 1\treal 0\n",
      "pred 1\t291\t6630\t\n",
      "pred 0\t383\t106552\t\n",
      "Precicion 0.04204594711746858, Recall 0.4317507418397626, \n",
      "WALLETS CONF MATRIX\n",
      "\treal 1\treal 0\n",
      "pred 1\t327\t7383\t\n",
      "pred 0\t551\t114810\t\n",
      "Precicion 0.042412451361867706, Recall 0.3724373576309795, \n",
      "Precicion = 0.04204594711746858\n",
      "Recall = 0.4317507418397626\n"
     ]
    },
    {
     "name": "stderr",
     "output_type": "stream",
     "text": [
      "[I 2025-04-20 00:34:23,777] Trial 38 finished with value: 0.1501766784452297 and parameters: {'n_estimators': 169, 'max_depth': 11, 'learning_rate': 0.07629755465796206, 'subsample': 0.7129002911502312, 'colsample_bytree': 0.668467360676561, 'min_child_weight': 9, 'gamma': 3.7949592250002917, 'reg_alpha': 6.153880621806448, 'reg_lambda': 9.574730443007983, 'scale_pos_weight': 20.398161512594395}. Best is trial 32 with value: 0.15281757402101243.\n"
     ]
    },
    {
     "name": "stdout",
     "output_type": "stream",
     "text": [
      "USERS CONF MATRIX\n",
      "\treal 1\treal 0\n",
      "pred 1\t187\t3343\t\n",
      "pred 0\t487\t109839\t\n",
      "Precicion 0.05297450424929179, Recall 0.2774480712166172, \n",
      "WALLETS CONF MATRIX\n",
      "\treal 1\treal 0\n",
      "pred 1\t193\t3635\t\n",
      "pred 0\t685\t118558\t\n",
      "Precicion 0.05041797283176593, Recall 0.21981776765375854, \n",
      "Precicion = 0.05297450424929179\n",
      "Recall = 0.2774480712166172\n"
     ]
    },
    {
     "name": "stderr",
     "output_type": "stream",
     "text": [
      "[I 2025-04-20 00:34:26,845] Trial 39 finished with value: 0.14452365521710953 and parameters: {'n_estimators': 146, 'max_depth': 11, 'learning_rate': 0.1376711177862934, 'subsample': 0.6852594522851696, 'colsample_bytree': 0.995415247898157, 'min_child_weight': 9, 'gamma': 3.7734880741964587, 'reg_alpha': 3.292136121223921, 'reg_lambda': 9.670520949534774, 'scale_pos_weight': 20.87846076355288}. Best is trial 32 with value: 0.15281757402101243.\n"
     ]
    },
    {
     "name": "stdout",
     "output_type": "stream",
     "text": [
      "USERS CONF MATRIX\n",
      "\treal 1\treal 0\n",
      "pred 1\t223\t4796\t\n",
      "pred 0\t451\t108386\t\n",
      "Precicion 0.0444311615859733, Recall 0.33086053412462907, \n",
      "WALLETS CONF MATRIX\n",
      "\treal 1\treal 0\n",
      "pred 1\t233\t5362\t\n",
      "pred 0\t645\t116831\t\n",
      "Precicion 0.04164432529043789, Recall 0.265375854214123, \n",
      "Precicion = 0.0444311615859733\n",
      "Recall = 0.33086053412462907\n"
     ]
    }
   ],
   "source": [
    "import optuna\n",
    "import xgboost as xgb\n",
    "from utils import get_best_metric_for_optuna\n",
    "\n",
    "def objective(trial):\n",
    "    params = {\n",
    "        \"n_estimators\": trial.suggest_int(\"n_estimators\", 50, 500),\n",
    "        \"max_depth\": trial.suggest_int(\"max_depth\", 3, 15),\n",
    "        \"learning_rate\": trial.suggest_loguniform(\"learning_rate\", 0.01, 0.3),\n",
    "        \"subsample\": trial.suggest_float(\"subsample\", 0.5, 1.0),\n",
    "        \"colsample_bytree\": trial.suggest_float(\"colsample_bytree\", 0.5, 1.0),\n",
    "        \"min_child_weight\": trial.suggest_int(\"min_child_weight\", 1, 10),\n",
    "        \"gamma\": trial.suggest_float(\"gamma\", 0.0, 5.0),\n",
    "        \"reg_alpha\": trial.suggest_float(\"reg_alpha\", 0.0, 10.0),\n",
    "        \"reg_lambda\": trial.suggest_float(\"reg_lambda\", 0.0, 10.0),\n",
    "        \"scale_pos_weight\": trial.suggest_float(\"scale_pos_weight\", 0.2, 60.0)\n",
    "    }\n",
    "\n",
    "    column_transformer = ColumnTransformer(\n",
    "        transformers=[\n",
    "            ('min_max_scale', MinMaxScaler(), list(set(X_train.columns))),\n",
    "        ]\n",
    "    )\n",
    "\n",
    "    pipeline = Pipeline(steps=[\n",
    "        ('transformers', column_transformer),\n",
    "        ('xgb', xgb.XGBClassifier(**params, random_state=42, eval_metric=\"logloss\"))\n",
    "    ])\n",
    "\n",
    "    # model = xgb.XGBClassifier(**params, random_state=42, eval_metric=\"logloss\")\n",
    "\n",
    "    pipeline.fit(X_train, y_train)\n",
    "\n",
    "    y_pred = pipeline.predict_proba(X_test)[:,1]\n",
    "    metric, thr = get_best_metric_for_optuna_users(y_pred, y_test, interval=(0.25, 0.75))\n",
    "    print(\"USERS CONF MATRIX\")\n",
    "    print_confusion_matrix(y_pred, thr, y_test, with_prec_rec=True)\n",
    "\n",
    "    user_to_pred_class = users_feats_test_full[[\"userId\"]]\n",
    "    user_to_pred_class[\"pred_class\"] = (y_pred >= thr).astype(int)\n",
    "    wallets_classes_test_with_pred = wallets_classes_test.merge(user_to_pred_class, how=\"left\", on=\"userId\")\n",
    "    wallets_classes_test_with_pred[\"pred_class\"].value_counts()\n",
    "    print(\"WALLETS CONF MATRIX\")\n",
    "    print_confusion_matrix(\n",
    "        np.array(wallets_classes_test_with_pred[\"pred_class\"]),\n",
    "        0.1,\n",
    "        np.array(wallets_classes_test_with_pred[\"class\"]),\n",
    "        with_prec_rec=True\n",
    "    )\n",
    "\n",
    "\n",
    "\n",
    "\n",
    "    print(f\"Precicion = {precision_score(y_test, (y_pred >= thr).astype(int))}\")\n",
    "    print(f\"Recall = {recall_score(y_test, (y_pred >= thr).astype(int))}\")\n",
    "\n",
    "    return metric\n",
    "\n",
    "study = optuna.create_study(direction=\"maximize\")\n",
    "study.optimize(objective, n_trials=40)"
   ]
  },
  {
   "cell_type": "code",
   "execution_count": 99,
   "metadata": {},
   "outputs": [
    {
     "name": "stdout",
     "output_type": "stream",
     "text": [
      "USERS CONF MATRIX\n",
      "\treal 1\treal 0\n",
      "pred 1\t359\t9521\t\n",
      "pred 0\t315\t103661\t\n",
      "Precicion 0.036336032388663966, Recall 0.5326409495548962, \n",
      "WALLETS CONF MATRIX\n",
      "\treal 1\treal 0\n",
      "pred 1\t431\t11670\t\n",
      "pred 0\t447\t110523\t\n",
      "Precicion 0.035616891166019335, Recall 0.4908883826879271, \n",
      "\n",
      "        Best threshold: 0.4737368421052632\n",
      "        Best F1: 0.06457384515289526, precicion: 0.03415935295129926, recall: 0.5890207715133531\n",
      "        \n"
     ]
    },
    {
     "data": {
      "image/png": "[encoded data removed]",
      "text/plain": [
       "<Figure size 1500x300 with 4 Axes>"
      ]
     },
     "metadata": {},
     "output_type": "display_data"
    }
   ],
   "source": [
    "best_params = {'n_estimators': 390, 'max_depth': 6, 'learning_rate': 0.040502290892864015, 'subsample': 0.6439599344877437, 'colsample_bytree': 0.6766387411245026, 'min_child_weight': 8, 'gamma': 3.4092275742643787, 'reg_alpha': 2.957783031406499, 'reg_lambda': 4.286817314770274, 'scale_pos_weight': 57.91228297999352}\n",
    "\n",
    "column_transformer = ColumnTransformer(\n",
    "    transformers=[\n",
    "        ('min_max_scale', MinMaxScaler(), list(set(X_train.columns))),\n",
    "    ]\n",
    ")\n",
    "\n",
    "pipeline = Pipeline(steps=[\n",
    "    ('transformers', column_transformer),\n",
    "    ('xgb', xgb.XGBClassifier(**best_params, random_state=42, eval_metric=\"logloss\"))\n",
    "])\n",
    "\n",
    "# model = xgb.XGBClassifier(**params, random_state=42, eval_metric=\"logloss\")\n",
    "\n",
    "pipeline.fit(X_train, y_train)\n",
    "\n",
    "y_pred = pipeline.predict_proba(X_test)[:,1]\n",
    "metric, thr = get_best_metric_for_optuna_users(y_pred, y_test, interval=(0.25, 0.75))\n",
    "print(\"USERS CONF MATRIX\")\n",
    "print_confusion_matrix(y_pred, thr, y_test, with_prec_rec=True)\n",
    "\n",
    "user_to_pred_class = X_test[[\"userId\"]]\n",
    "user_to_pred_class[\"pred_class\"] = (y_pred >= thr).astype(int)\n",
    "wallets_classes_test_with_pred = wallets_classes_test.merge(user_to_pred_class, how=\"left\", on=\"userId\")\n",
    "wallets_classes_test_with_pred[\"pred_class\"].value_counts()\n",
    "print(\"WALLETS CONF MATRIX\")\n",
    "print_confusion_matrix(\n",
    "    np.array(wallets_classes_test_with_pred[\"pred_class\"]),\n",
    "    0.1,\n",
    "    np.array(wallets_classes_test_with_pred[\"class\"]),\n",
    "    with_prec_rec=True\n",
    ")\n",
    "\n",
    "res = get_best_threshold(y_pred, y_test, return_hists=True)"
   ]
  },
  {
   "cell_type": "code",
   "execution_count": null,
   "metadata": {},
   "outputs": [],
   "source": []
  }
 ],
 "metadata": {
  "kernelspec": {
   "display_name": "Python 3",
   "language": "python",
   "name": "python3"
  },
  "language_info": {
   "codemirror_mode": {
    "name": "ipython",
    "version": 3
   },
   "file_extension": ".py",
   "mimetype": "text/x-python",
   "name": "python",
   "nbconvert_exporter": "python",
   "pygments_lexer": "ipython3",
   "version": "3.9.6"
  }
 },
 "nbformat": 4,
 "nbformat_minor": 2
}
