{
 "cells": [
  {
   "cell_type": "code",
   "execution_count": 1,
   "metadata": {},
   "outputs": [],
   "source": [
    "import pandas as pd\n",
    "import numpy as np\n",
    "\n",
    "import matplotlib.pyplot as plt\n",
    "import seaborn as sns\n",
    "\n",
    "%matplotlib inline\n",
    "\n",
    "sns.set(style=\"darkgrid\")\n",
    "\n",
    "np.random.seed(0)\n",
    "import warnings\n",
    "warnings.filterwarnings('ignore')\n",
    "warnings.simplefilter('ignore')\n",
    "\n",
    "from sklearn.compose import ColumnTransformer\n",
    "from sklearn.pipeline import Pipeline\n",
    "from sklearn.ensemble import RandomForestClassifier\n",
    "from sklearn.preprocessing import StandardScaler, OneHotEncoder, MinMaxScaler\n",
    "from sklearn.model_selection import train_test_split\n",
    "from sklearn.metrics import accuracy_score, precision_score, recall_score\n",
    "from utils import get_best_threshold"
   ]
  },
  {
   "cell_type": "code",
   "execution_count": 3,
   "metadata": {},
   "outputs": [
    {
     "data": {
      "text/html": [
       "<div>\n",
       "<style scoped>\n",
       "    .dataframe tbody tr th:only-of-type {\n",
       "        vertical-align: middle;\n",
       "    }\n",
       "\n",
       "    .dataframe tbody tr th {\n",
       "        vertical-align: top;\n",
       "    }\n",
       "\n",
       "    .dataframe thead th {\n",
       "        text-align: right;\n",
       "    }\n",
       "</style>\n",
       "<table border=\"1\" class=\"dataframe\">\n",
       "  <thead>\n",
       "    <tr style=\"text-align: right;\">\n",
       "      <th></th>\n",
       "      <th>address</th>\n",
       "      <th>tag</th>\n",
       "    </tr>\n",
       "  </thead>\n",
       "  <tbody>\n",
       "    <tr>\n",
       "      <th>0</th>\n",
       "      <td>1Ee9ZiZkmygAXUiyeYKRSA3tLe4vNYEAgA</td>\n",
       "      <td>Nanoindustryinv.com</td>\n",
       "    </tr>\n",
       "    <tr>\n",
       "      <th>1</th>\n",
       "      <td>1MzNQ7HV8dQ6XQ52zBGYkCZkkWv2Pd3VG6</td>\n",
       "      <td>GrandAgoFinance</td>\n",
       "    </tr>\n",
       "    <tr>\n",
       "      <th>2</th>\n",
       "      <td>1FyedPPk923wRfmVphV1CLt3bVLGxHZXpK</td>\n",
       "      <td>Cryptory</td>\n",
       "    </tr>\n",
       "    <tr>\n",
       "      <th>3</th>\n",
       "      <td>145SmDToAhtfcBQhNxfeM8hnS6CBeiRukY</td>\n",
       "      <td>Leancy</td>\n",
       "    </tr>\n",
       "    <tr>\n",
       "      <th>4</th>\n",
       "      <td>1FuypAdeC7mSmYBsQLbG9XV261bnfgWbgB</td>\n",
       "      <td>Minimalism10</td>\n",
       "    </tr>\n",
       "  </tbody>\n",
       "</table>\n",
       "</div>"
      ],
      "text/plain": [
       "                              address                  tag\n",
       "0  1Ee9ZiZkmygAXUiyeYKRSA3tLe4vNYEAgA  Nanoindustryinv.com\n",
       "1  1MzNQ7HV8dQ6XQ52zBGYkCZkkWv2Pd3VG6      GrandAgoFinance\n",
       "2  1FyedPPk923wRfmVphV1CLt3bVLGxHZXpK             Cryptory\n",
       "3  145SmDToAhtfcBQhNxfeM8hnS6CBeiRukY               Leancy\n",
       "4  1FuypAdeC7mSmYBsQLbG9XV261bnfgWbgB         Minimalism10"
      ]
     },
     "execution_count": 3,
     "metadata": {},
     "output_type": "execute_result"
    }
   ],
   "source": [
    "ponzi = pd.read_csv(\"../dataset/ponzi/ponzi_addresses.csv\")\n",
    "wallets_features = pd.read_csv(\"../dataset/custom/wallets_features_aggregated.csv\")\n",
    "ponzi.head()"
   ]
  },
  {
   "cell_type": "code",
   "execution_count": 4,
   "metadata": {},
   "outputs": [
    {
     "data": {
      "text/plain": [
       "(32, 2)"
      ]
     },
     "execution_count": 4,
     "metadata": {},
     "output_type": "execute_result"
    }
   ],
   "source": [
    "ponzi.shape"
   ]
  },
  {
   "cell_type": "code",
   "execution_count": 8,
   "metadata": {},
   "outputs": [
    {
     "data": {
      "text/html": [
       "<div>\n",
       "<style scoped>\n",
       "    .dataframe tbody tr th:only-of-type {\n",
       "        vertical-align: middle;\n",
       "    }\n",
       "\n",
       "    .dataframe tbody tr th {\n",
       "        vertical-align: top;\n",
       "    }\n",
       "\n",
       "    .dataframe thead th {\n",
       "        text-align: right;\n",
       "    }\n",
       "</style>\n",
       "<table border=\"1\" class=\"dataframe\">\n",
       "  <thead>\n",
       "    <tr style=\"text-align: right;\">\n",
       "      <th></th>\n",
       "      <th>class</th>\n",
       "      <th>addrId</th>\n",
       "      <th>userId</th>\n",
       "    </tr>\n",
       "  </thead>\n",
       "  <tbody>\n",
       "    <tr>\n",
       "      <th>14089</th>\n",
       "      <td>1</td>\n",
       "      <td>178BzARKjkszrTyx4TxBKHhzGLZijdE26e</td>\n",
       "      <td>297695</td>\n",
       "    </tr>\n",
       "    <tr>\n",
       "      <th>59654</th>\n",
       "      <td>2</td>\n",
       "      <td>1BsjsaHST2Qohs8ZHxNHeZ1UfWhtxoKHEN</td>\n",
       "      <td>354505</td>\n",
       "    </tr>\n",
       "    <tr>\n",
       "      <th>325751</th>\n",
       "      <td>3</td>\n",
       "      <td>18Smkvyf3gJN4z59FhjJsCu6NhSYmZkNvG</td>\n",
       "      <td>5059</td>\n",
       "    </tr>\n",
       "    <tr>\n",
       "      <th>777323</th>\n",
       "      <td>3</td>\n",
       "      <td>13NZxtAnKk5mbCUHpxHqKwWTDJzFHMGHLh</td>\n",
       "      <td>376952</td>\n",
       "    </tr>\n",
       "  </tbody>\n",
       "</table>\n",
       "</div>"
      ],
      "text/plain": [
       "        class                              addrId  userId\n",
       "14089       1  178BzARKjkszrTyx4TxBKHhzGLZijdE26e  297695\n",
       "59654       2  1BsjsaHST2Qohs8ZHxNHeZ1UfWhtxoKHEN  354505\n",
       "325751      3  18Smkvyf3gJN4z59FhjJsCu6NhSYmZkNvG    5059\n",
       "777323      3  13NZxtAnKk5mbCUHpxHqKwWTDJzFHMGHLh  376952"
      ]
     },
     "execution_count": 8,
     "metadata": {},
     "output_type": "execute_result"
    }
   ],
   "source": [
    "wallets_features[wallets_features[\"addrId\"].isin(ponzi[\"address\"])][[\"class\", \"addrId\", \"userId\"]]"
   ]
  },
  {
   "cell_type": "code",
   "execution_count": 9,
   "metadata": {},
   "outputs": [
    {
     "data": {
      "text/html": [
       "<div>\n",
       "<style scoped>\n",
       "    .dataframe tbody tr th:only-of-type {\n",
       "        vertical-align: middle;\n",
       "    }\n",
       "\n",
       "    .dataframe tbody tr th {\n",
       "        vertical-align: top;\n",
       "    }\n",
       "\n",
       "    .dataframe thead th {\n",
       "        text-align: right;\n",
       "    }\n",
       "</style>\n",
       "<table border=\"1\" class=\"dataframe\">\n",
       "  <thead>\n",
       "    <tr style=\"text-align: right;\">\n",
       "      <th></th>\n",
       "      <th>address</th>\n",
       "      <th>tag</th>\n",
       "    </tr>\n",
       "  </thead>\n",
       "  <tbody>\n",
       "    <tr>\n",
       "      <th>15</th>\n",
       "      <td>178BzARKjkszrTyx4TxBKHhzGLZijdE26e</td>\n",
       "      <td>BTC-doubler.com</td>\n",
       "    </tr>\n",
       "    <tr>\n",
       "      <th>17</th>\n",
       "      <td>1BsjsaHST2Qohs8ZHxNHeZ1UfWhtxoKHEN</td>\n",
       "      <td>1hourbtc.pw</td>\n",
       "    </tr>\n",
       "    <tr>\n",
       "      <th>30</th>\n",
       "      <td>13NZxtAnKk5mbCUHpxHqKwWTDJzFHMGHLh</td>\n",
       "      <td>bestdoubler.eu</td>\n",
       "    </tr>\n",
       "    <tr>\n",
       "      <th>31</th>\n",
       "      <td>18Smkvyf3gJN4z59FhjJsCu6NhSYmZkNvG</td>\n",
       "      <td>bitcoindoubler.prv.pl</td>\n",
       "    </tr>\n",
       "  </tbody>\n",
       "</table>\n",
       "</div>"
      ],
      "text/plain": [
       "                               address                     tag\n",
       "15  178BzARKjkszrTyx4TxBKHhzGLZijdE26e         BTC-doubler.com\n",
       "17  1BsjsaHST2Qohs8ZHxNHeZ1UfWhtxoKHEN             1hourbtc.pw\n",
       "30  13NZxtAnKk5mbCUHpxHqKwWTDJzFHMGHLh          bestdoubler.eu\n",
       "31  18Smkvyf3gJN4z59FhjJsCu6NhSYmZkNvG  bitcoindoubler.prv.pl "
      ]
     },
     "execution_count": 9,
     "metadata": {},
     "output_type": "execute_result"
    }
   ],
   "source": [
    "ponzi[ponzi[\"address\"].isin(wallets_features[wallets_features[\"addrId\"].isin(ponzi[\"address\"])][[\"class\", \"addrId\", \"userId\"]][\"addrId\"])]"
   ]
  },
  {
   "cell_type": "code",
   "execution_count": null,
   "metadata": {},
   "outputs": [],
   "source": []
  }
 ],
 "metadata": {
  "kernelspec": {
   "display_name": "Python 3",
   "language": "python",
   "name": "python3"
  },
  "language_info": {
   "codemirror_mode": {
    "name": "ipython",
    "version": 3
   },
   "file_extension": ".py",
   "mimetype": "text/x-python",
   "name": "python",
   "nbconvert_exporter": "python",
   "pygments_lexer": "ipython3",
   "version": "3.9.6"
  }
 },
 "nbformat": 4,
 "nbformat_minor": 2
}
