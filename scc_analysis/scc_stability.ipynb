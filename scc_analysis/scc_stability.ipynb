{
 "cells": [
  {
   "cell_type": "markdown",
   "metadata": {},
   "source": [
    "# Разбиение на КСС внутри time steps"
   ]
  },
  {
   "cell_type": "markdown",
   "metadata": {},
   "source": [
    "## Создаем граф ts <-> addr1 <-> addr2"
   ]
  },
  {
   "cell_type": "code",
   "execution_count": 111,
   "metadata": {},
   "outputs": [],
   "source": [
    "import pandas as pd\n",
    "import numpy as np\n",
    "\n",
    "import matplotlib.pyplot as plt\n",
    "import seaborn as sns\n",
    "\n",
    "%matplotlib inline\n",
    "\n",
    "sns.set(style=\"darkgrid\")\n",
    "\n",
    "np.random.seed(0)\n",
    "import warnings\n",
    "warnings.filterwarnings('ignore')\n",
    "warnings.simplefilter('ignore')"
   ]
  },
  {
   "cell_type": "code",
   "execution_count": 112,
   "metadata": {},
   "outputs": [],
   "source": [
    "addr_to_tx = pd.read_csv(\"../dataset/Elliptic++ Dataset/AddrTx_edgelist.csv\")\n",
    "tx_to_addr = pd.read_csv(\"../dataset/Elliptic++ Dataset/TxAddr_edgelist.csv\")\n",
    "tx_features = pd.read_csv(\"../dataset/Elliptic++ Dataset/txs_features.csv\")[[\"txId\", \"Time step\"]]"
   ]
  },
  {
   "cell_type": "code",
   "execution_count": 113,
   "metadata": {},
   "outputs": [
    {
     "data": {
      "text/html": [
       "<div>\n",
       "<style scoped>\n",
       "    .dataframe tbody tr th:only-of-type {\n",
       "        vertical-align: middle;\n",
       "    }\n",
       "\n",
       "    .dataframe tbody tr th {\n",
       "        vertical-align: top;\n",
       "    }\n",
       "\n",
       "    .dataframe thead th {\n",
       "        text-align: right;\n",
       "    }\n",
       "</style>\n",
       "<table border=\"1\" class=\"dataframe\">\n",
       "  <thead>\n",
       "    <tr style=\"text-align: right;\">\n",
       "      <th></th>\n",
       "      <th>input_address</th>\n",
       "      <th>output_address</th>\n",
       "      <th>Time step</th>\n",
       "    </tr>\n",
       "  </thead>\n",
       "  <tbody>\n",
       "    <tr>\n",
       "      <th>0</th>\n",
       "      <td>14YRXHHof4BY1TVxN5FqYPcEdpmXiYT78a</td>\n",
       "      <td>1GASxu5nMntiRKdVtTVRvEbP965G51bhHH</td>\n",
       "      <td>1</td>\n",
       "    </tr>\n",
       "    <tr>\n",
       "      <th>2</th>\n",
       "      <td>13Lhad3SAmu2vqYg2dxbNcxH7LE77kJu2w</td>\n",
       "      <td>1GFdrdgtG34GChM8SMpMwcXFc4nYbH1A5G</td>\n",
       "      <td>1</td>\n",
       "    </tr>\n",
       "    <tr>\n",
       "      <th>3</th>\n",
       "      <td>1MAQQZn7EHP6J3erXByCciFiVcgS8ZhWqz</td>\n",
       "      <td>19q57SeCEzTnWrWVXA43nZzhSiXkYggh7c</td>\n",
       "      <td>1</td>\n",
       "    </tr>\n",
       "    <tr>\n",
       "      <th>4</th>\n",
       "      <td>1MAQQZn7EHP6J3erXByCciFiVcgS8ZhWqz</td>\n",
       "      <td>1Kk1NVYnCE8ALXDhgMM6HqTt1jDSvi6QBA</td>\n",
       "      <td>1</td>\n",
       "    </tr>\n",
       "    <tr>\n",
       "      <th>5</th>\n",
       "      <td>16zs5SVSyADh5WrLNbZbpRLsBsN5uEzgeK</td>\n",
       "      <td>1ExQobam8YdTkwATZjTZgevwrheSkUFVN1</td>\n",
       "      <td>1</td>\n",
       "    </tr>\n",
       "    <tr>\n",
       "      <th>...</th>\n",
       "      <td>...</td>\n",
       "      <td>...</td>\n",
       "      <td>...</td>\n",
       "    </tr>\n",
       "    <tr>\n",
       "      <th>2868957</th>\n",
       "      <td>1HdnGvuc21Y4QfBEHUc3NFRJhGywdSFUb</td>\n",
       "      <td>1PAsnUQu9jgMpzucgLwYVuqmtPq489rnyp</td>\n",
       "      <td>49</td>\n",
       "    </tr>\n",
       "    <tr>\n",
       "      <th>2868958</th>\n",
       "      <td>3MfN5to5K5be2RupWE8rjJHQ6V9L8ypWeh</td>\n",
       "      <td>1Ct6Sx8uKTubXPcuLX5jSKb6QKMcqf1Ybj</td>\n",
       "      <td>49</td>\n",
       "    </tr>\n",
       "    <tr>\n",
       "      <th>2868960</th>\n",
       "      <td>3DzbpEogZ1mn9FgCHcmzYPLDbV9GuxYHpi</td>\n",
       "      <td>38jMiiZs2C5n5MPkyc5pSA7wwW6H4p6hPa</td>\n",
       "      <td>49</td>\n",
       "    </tr>\n",
       "    <tr>\n",
       "      <th>2868961</th>\n",
       "      <td>34yD1sQg6C16aANCtibYXRj5NsX6tt4v5R</td>\n",
       "      <td>3G9b7hWZccuft1V4eGUcZqTZaxsqx699bM</td>\n",
       "      <td>49</td>\n",
       "    </tr>\n",
       "    <tr>\n",
       "      <th>2868963</th>\n",
       "      <td>1JERHCgwHG2Z7T3KjNpEwj3fJNX8vSfCX2</td>\n",
       "      <td>15T4xJj6XxyPZWGLPR3S72hD9f9YzUQf36</td>\n",
       "      <td>49</td>\n",
       "    </tr>\n",
       "  </tbody>\n",
       "</table>\n",
       "<p>2822983 rows × 3 columns</p>\n",
       "</div>"
      ],
      "text/plain": [
       "                              input_address  ... Time step\n",
       "0        14YRXHHof4BY1TVxN5FqYPcEdpmXiYT78a  ...         1\n",
       "2        13Lhad3SAmu2vqYg2dxbNcxH7LE77kJu2w  ...         1\n",
       "3        1MAQQZn7EHP6J3erXByCciFiVcgS8ZhWqz  ...         1\n",
       "4        1MAQQZn7EHP6J3erXByCciFiVcgS8ZhWqz  ...         1\n",
       "5        16zs5SVSyADh5WrLNbZbpRLsBsN5uEzgeK  ...         1\n",
       "...                                     ...  ...       ...\n",
       "2868957   1HdnGvuc21Y4QfBEHUc3NFRJhGywdSFUb  ...        49\n",
       "2868958  3MfN5to5K5be2RupWE8rjJHQ6V9L8ypWeh  ...        49\n",
       "2868960  3DzbpEogZ1mn9FgCHcmzYPLDbV9GuxYHpi  ...        49\n",
       "2868961  34yD1sQg6C16aANCtibYXRj5NsX6tt4v5R  ...        49\n",
       "2868963  1JERHCgwHG2Z7T3KjNpEwj3fJNX8vSfCX2  ...        49\n",
       "\n",
       "[2822983 rows x 3 columns]"
      ]
     },
     "execution_count": 113,
     "metadata": {},
     "output_type": "execute_result"
    }
   ],
   "source": [
    "addr_to_addr_edges = pd.merge(\n",
    "    left=addr_to_tx,\n",
    "    right=tx_to_addr,\n",
    "    how=\"left\",\n",
    "    left_on=\"txId\",\n",
    "    right_on=\"txId\"\n",
    ")\n",
    "addr_to_addr_edges = pd.merge(\n",
    "    left=addr_to_addr_edges,\n",
    "    right=tx_features,\n",
    "    how=\"left\",\n",
    "    left_on=\"txId\",\n",
    "    right_on=\"txId\"\n",
    ")\n",
    "addr_to_addr_edges.drop(\"txId\", axis=1, inplace=True)\n",
    "addr_to_addr_edges = addr_to_addr_edges[addr_to_addr_edges[\"input_address\"] !=addr_to_addr_edges[\"output_address\"] ]\n",
    "addr_to_addr_edges"
   ]
  },
  {
   "cell_type": "code",
   "execution_count": 114,
   "metadata": {},
   "outputs": [
    {
     "data": {
      "text/plain": [
       "<Axes: xlabel='Time step', ylabel='Count'>"
      ]
     },
     "execution_count": 114,
     "metadata": {},
     "output_type": "execute_result"
    },
    {
     "data": {
      "image/png": "[encoded data removed]",
      "text/plain": [
       "<Figure size 640x480 with 1 Axes>"
      ]
     },
     "metadata": {},
     "output_type": "display_data"
    }
   ],
   "source": [
    "sns.histplot(\n",
    "    addr_to_addr_edges[\"Time step\"]\n",
    ")"
   ]
  },
  {
   "cell_type": "code",
   "execution_count": 115,
   "metadata": {},
   "outputs": [
    {
     "name": "stdout",
     "output_type": "stream",
     "text": [
      "The autoreload extension is already loaded. To reload it, use:\n",
      "  %reload_ext autoreload\n"
     ]
    }
   ],
   "source": [
    "%load_ext autoreload"
   ]
  },
  {
   "cell_type": "code",
   "execution_count": 116,
   "metadata": {},
   "outputs": [],
   "source": [
    "%autoreload 2\n",
    "\n",
    "from scc_utils import (\n",
    "    get_scc_data\n",
    ")"
   ]
  },
  {
   "cell_type": "code",
   "execution_count": 117,
   "metadata": {},
   "outputs": [
    {
     "data": {
      "text/plain": [
       "49"
      ]
     },
     "execution_count": 117,
     "metadata": {},
     "output_type": "execute_result"
    }
   ],
   "source": [
    "addr_to_addr_edges[\"Time step\"].max()"
   ]
  },
  {
   "cell_type": "code",
   "execution_count": 118,
   "metadata": {},
   "outputs": [],
   "source": [
    "addr_to_output_cnt = addr_to_addr_edges.groupby(\"input_address\")[\"output_address\"].nunique().reset_index() \\\n",
    "    .rename(columns={\"input_address\": \"address\", \"output_address\": \"output_cnt\"})\n",
    "addr_to_input_cnt = addr_to_addr_edges.groupby(\"output_address\")[\"input_address\"].nunique().reset_index() \\\n",
    "    .rename(columns={\"output_address\": \"address\", \"input_address\": \"input_cnt\"})\n",
    "\n",
    "cutoff = np.quantile(addr_to_output_cnt[\"output_cnt\"], 0.995)"
   ]
  },
  {
   "cell_type": "code",
   "execution_count": 119,
   "metadata": {},
   "outputs": [
    {
     "data": {
      "text/plain": [
       "107.0"
      ]
     },
     "execution_count": 119,
     "metadata": {},
     "output_type": "execute_result"
    }
   ],
   "source": [
    "cutoff"
   ]
  },
  {
   "cell_type": "code",
   "execution_count": 120,
   "metadata": {},
   "outputs": [],
   "source": [
    "good_output = addr_to_output_cnt[addr_to_output_cnt[\"output_cnt\"] <= cutoff][\"address\"]\n",
    "good_input = addr_to_input_cnt[addr_to_input_cnt[\"input_cnt\"] <= cutoff][\"address\"]\n",
    "\n",
    "bad_output = addr_to_output_cnt[addr_to_output_cnt[\"output_cnt\"] > cutoff][\"address\"]\n",
    "bad_input = addr_to_input_cnt[addr_to_input_cnt[\"input_cnt\"] > cutoff][\"address\"]"
   ]
  },
  {
   "cell_type": "markdown",
   "metadata": {},
   "source": [
    "### Проверим классы среди плохих"
   ]
  },
  {
   "cell_type": "code",
   "execution_count": 121,
   "metadata": {},
   "outputs": [],
   "source": [
    "addr_classes = pd.read_csv(\"../dataset/Elliptic++ Dataset/wallets_classes.csv\")"
   ]
  },
  {
   "cell_type": "code",
   "execution_count": 122,
   "metadata": {},
   "outputs": [
    {
     "data": {
      "text/plain": [
       "class\n",
       "2    344\n",
       "3    308\n",
       "1     20\n",
       "Name: count, dtype: int64"
      ]
     },
     "execution_count": 122,
     "metadata": {},
     "output_type": "execute_result"
    }
   ],
   "source": [
    "# bad input\n",
    "addr_classes[addr_classes[\"address\"].isin(bad_input)][\"class\"].value_counts()"
   ]
  },
  {
   "cell_type": "code",
   "execution_count": 123,
   "metadata": {},
   "outputs": [
    {
     "data": {
      "text/plain": [
       "class\n",
       "2    1211\n",
       "3     786\n",
       "1       1\n",
       "Name: count, dtype: int64"
      ]
     },
     "execution_count": 123,
     "metadata": {},
     "output_type": "execute_result"
    }
   ],
   "source": [
    "# bad output\n",
    "addr_classes[addr_classes[\"address\"].isin(bad_output)][\"class\"].value_counts()"
   ]
  },
  {
   "cell_type": "markdown",
   "metadata": {},
   "source": [
    "### Делим на КСС среди хороших"
   ]
  },
  {
   "cell_type": "code",
   "execution_count": 124,
   "metadata": {},
   "outputs": [],
   "source": [
    "addr_to_addr_edges1 = addr_to_addr_edges[\n",
    "    addr_to_addr_edges[\"input_address\"].isin(good_input) &\n",
    "    addr_to_addr_edges[\"input_address\"].isin(good_output) &\n",
    "    addr_to_addr_edges[\"output_address\"].isin(good_input) &\n",
    "    addr_to_addr_edges[\"output_address\"].isin(good_output)\n",
    "]"
   ]
  },
  {
   "cell_type": "code",
   "execution_count": 125,
   "metadata": {},
   "outputs": [],
   "source": [
    "comps_data = None\n",
    "for ts in range(1, 50):\n",
    "    comps, cnt = get_scc_data(addr_to_addr_edges[addr_to_addr_edges[\"Time step\"] == ts])\n",
    "    comps[\"time_step\"] = ts\n",
    "    if comps_data is None:\n",
    "        comps_data = comps\n",
    "    else:\n",
    "        comps_data = pd.concat([comps_data, comps])\n",
    "\n",
    "comps_data_no_bad = None\n",
    "for ts in range(1, 50):\n",
    "    comps, cnt = get_scc_data(addr_to_addr_edges1[addr_to_addr_edges1[\"Time step\"] == ts])\n",
    "    comps[\"time_step\"] = ts\n",
    "    if comps_data_no_bad is None:\n",
    "        comps_data_no_bad = comps\n",
    "    else:\n",
    "        comps_data_no_bad = pd.concat([comps_data_no_bad, comps])"
   ]
  },
  {
   "cell_type": "code",
   "execution_count": 126,
   "metadata": {},
   "outputs": [
    {
     "data": {
      "text/plain": [
       "<Axes: xlabel='time_step', ylabel='component'>"
      ]
     },
     "execution_count": 126,
     "metadata": {},
     "output_type": "execute_result"
    },
    {
     "data": {
      "image/png": "[encoded data removed]",
      "text/plain": [
       "<Figure size 640x480 with 1 Axes>"
      ]
     },
     "metadata": {},
     "output_type": "display_data"
    }
   ],
   "source": [
    "pr = comps_data.drop_duplicates([\"time_step\", \"component\"]).groupby(\"time_step\")[\"component\"].nunique().reset_index()\n",
    "sns.lineplot(x=pr[\"time_step\"], y=pr[\"component\"])\n",
    "pr = comps_data_no_bad.drop_duplicates([\"time_step\", \"component\"]).groupby(\"time_step\")[\"component\"].nunique().reset_index()\n",
    "sns.lineplot(x=pr[\"time_step\"], y=pr[\"component\"])\n"
   ]
  },
  {
   "cell_type": "code",
   "execution_count": 128,
   "metadata": {},
   "outputs": [
    {
     "data": {
      "text/plain": [
       "((516, 3), (10725, 3))"
      ]
     },
     "execution_count": 128,
     "metadata": {},
     "output_type": "execute_result"
    }
   ],
   "source": [
    "comps_data[\n",
    "    comps_data[\"address_id\"].isin(bad_input)\n",
    "].shape, comps_data.shape"
   ]
  },
  {
   "cell_type": "code",
   "execution_count": null,
   "metadata": {},
   "outputs": [
    {
     "data": {
      "text/plain": [
       "((526, 3), (10725, 3))"
      ]
     },
     "execution_count": 129,
     "metadata": {},
     "output_type": "execute_result"
    }
   ],
   "source": [
    "comps_data[\n",
    "    comps_data[\"address_id\"].isin(in_output)\n",
    "].shape, comps_data.shape"
   ]
  },
  {
   "cell_type": "code",
   "execution_count": 131,
   "metadata": {},
   "outputs": [
    {
     "data": {
      "text/plain": [
       "class\n",
       "3    1751\n",
       "2     348\n",
       "1       4\n",
       "Name: count, dtype: int64"
      ]
     },
     "execution_count": 131,
     "metadata": {},
     "output_type": "execute_result"
    }
   ],
   "source": [
    "addr_classes[addr_classes[\"address\"].isin(comps_data_no_bad[\"address_id\"])][\"class\"].value_counts()"
   ]
  },
  {
   "cell_type": "code",
   "execution_count": 132,
   "metadata": {},
   "outputs": [
    {
     "data": {
      "text/plain": [
       "class\n",
       "3    7180\n",
       "2    2799\n",
       "1      11\n",
       "Name: count, dtype: int64"
      ]
     },
     "execution_count": 132,
     "metadata": {},
     "output_type": "execute_result"
    }
   ],
   "source": [
    "addr_classes[addr_classes[\"address\"].isin(comps_data[\"address_id\"])][\"class\"].value_counts()"
   ]
  },
  {
   "cell_type": "code",
   "execution_count": 139,
   "metadata": {},
   "outputs": [
    {
     "data": {
      "text/plain": [
       "0.0011011011011011012"
      ]
     },
     "execution_count": 139,
     "metadata": {},
     "output_type": "execute_result"
    }
   ],
   "source": [
    "11 / addr_classes[addr_classes[\"address\"].isin(comps_data[\"address_id\"])].shape[0]"
   ]
  },
  {
   "cell_type": "code",
   "execution_count": 138,
   "metadata": {},
   "outputs": [
    {
     "data": {
      "text/plain": [
       "0.017335365068255115"
      ]
     },
     "execution_count": 138,
     "metadata": {},
     "output_type": "execute_result"
    }
   ],
   "source": [
    "addr_classes[\"class\"].value_counts()[1] / addr_classes[\"class\"].shape[0]"
   ]
  },
  {
   "cell_type": "code",
   "execution_count": 24,
   "metadata": {},
   "outputs": [
    {
     "data": {
      "text/plain": [
       "8115"
      ]
     },
     "execution_count": 24,
     "metadata": {},
     "output_type": "execute_result"
    }
   ],
   "source": [
    "addr_to_addr_edges[addr_to_addr_edges[\"Time step\"] == 2][\"input_address\"].nunique()"
   ]
  },
  {
   "cell_type": "code",
   "execution_count": 145,
   "metadata": {},
   "outputs": [],
   "source": [
    "comps_data_no_bad_5 = None\n",
    "for ts in range(1, 50, 5):\n",
    "    # print(ts)\n",
    "    comps, cnt = get_scc_data(\n",
    "        addr_to_addr_edges1[(addr_to_addr_edges1[\"Time step\"] >= ts) & (addr_to_addr_edges1[\"Time step\"] < ts + 5)]\n",
    "    )\n",
    "    comps[\"time_step\"] = ts\n",
    "    if comps_data_no_bad_5 is None:\n",
    "        comps_data_no_bad_5 = comps\n",
    "    else:\n",
    "        comps_data_no_bad_5 = pd.concat([comps_data_no_bad_5, comps])"
   ]
  },
  {
   "cell_type": "code",
   "execution_count": 146,
   "metadata": {},
   "outputs": [
    {
     "data": {
      "text/html": [
       "<div>\n",
       "<style scoped>\n",
       "    .dataframe tbody tr th:only-of-type {\n",
       "        vertical-align: middle;\n",
       "    }\n",
       "\n",
       "    .dataframe tbody tr th {\n",
       "        vertical-align: top;\n",
       "    }\n",
       "\n",
       "    .dataframe thead th {\n",
       "        text-align: right;\n",
       "    }\n",
       "</style>\n",
       "<table border=\"1\" class=\"dataframe\">\n",
       "  <thead>\n",
       "    <tr style=\"text-align: right;\">\n",
       "      <th></th>\n",
       "      <th>address_id</th>\n",
       "      <th>component</th>\n",
       "      <th>time_step</th>\n",
       "    </tr>\n",
       "  </thead>\n",
       "  <tbody>\n",
       "    <tr>\n",
       "      <th>1771</th>\n",
       "      <td>1NVXBQnriS27Z6hxC1CaCTK4YeQJdSEQBq</td>\n",
       "      <td>1771</td>\n",
       "      <td>1</td>\n",
       "    </tr>\n",
       "    <tr>\n",
       "      <th>1772</th>\n",
       "      <td>1GydRBoR4myB3AhJQgRzYZ8vfp1B5gN5T5</td>\n",
       "      <td>1771</td>\n",
       "      <td>1</td>\n",
       "    </tr>\n",
       "    <tr>\n",
       "      <th>3758</th>\n",
       "      <td>15jA9KLumBDxDySc266kFTgAvfbTNsVAoW</td>\n",
       "      <td>3757</td>\n",
       "      <td>1</td>\n",
       "    </tr>\n",
       "    <tr>\n",
       "      <th>3759</th>\n",
       "      <td>19wsjMWgNEaJdXSuCD62MmbvJCZ44LKPo7</td>\n",
       "      <td>3757</td>\n",
       "      <td>1</td>\n",
       "    </tr>\n",
       "    <tr>\n",
       "      <th>5326</th>\n",
       "      <td>18gUF76aKAM2WFgg6s75BfTroExWe7JLkJ</td>\n",
       "      <td>5324</td>\n",
       "      <td>1</td>\n",
       "    </tr>\n",
       "    <tr>\n",
       "      <th>...</th>\n",
       "      <td>...</td>\n",
       "      <td>...</td>\n",
       "      <td>...</td>\n",
       "    </tr>\n",
       "    <tr>\n",
       "      <th>13236</th>\n",
       "      <td>1Fr8qEa7vcwJikeW9q6thaYZPacGY5CQAb</td>\n",
       "      <td>13151</td>\n",
       "      <td>46</td>\n",
       "    </tr>\n",
       "    <tr>\n",
       "      <th>13237</th>\n",
       "      <td>1CneiLxRzxGXJEQwVHjegGNtFJRoVF2mxv</td>\n",
       "      <td>13151</td>\n",
       "      <td>46</td>\n",
       "    </tr>\n",
       "    <tr>\n",
       "      <th>13238</th>\n",
       "      <td>1BnRf3dKkPhZ5P5DGgYUFAB3CHPp1TVcFH</td>\n",
       "      <td>13151</td>\n",
       "      <td>46</td>\n",
       "    </tr>\n",
       "    <tr>\n",
       "      <th>13239</th>\n",
       "      <td>1H1WS2tFx5yCsxtefs9PSTdqVX2mduyf3b</td>\n",
       "      <td>13151</td>\n",
       "      <td>46</td>\n",
       "    </tr>\n",
       "    <tr>\n",
       "      <th>13240</th>\n",
       "      <td>14ccu2pkDey82MgWYB6eqwsxvAGtj5n7Bp</td>\n",
       "      <td>13151</td>\n",
       "      <td>46</td>\n",
       "    </tr>\n",
       "  </tbody>\n",
       "</table>\n",
       "<p>2730 rows × 3 columns</p>\n",
       "</div>"
      ],
      "text/plain": [
       "                               address_id  component  time_step\n",
       "1771   1NVXBQnriS27Z6hxC1CaCTK4YeQJdSEQBq       1771          1\n",
       "1772   1GydRBoR4myB3AhJQgRzYZ8vfp1B5gN5T5       1771          1\n",
       "3758   15jA9KLumBDxDySc266kFTgAvfbTNsVAoW       3757          1\n",
       "3759   19wsjMWgNEaJdXSuCD62MmbvJCZ44LKPo7       3757          1\n",
       "5326   18gUF76aKAM2WFgg6s75BfTroExWe7JLkJ       5324          1\n",
       "...                                   ...        ...        ...\n",
       "13236  1Fr8qEa7vcwJikeW9q6thaYZPacGY5CQAb      13151         46\n",
       "13237  1CneiLxRzxGXJEQwVHjegGNtFJRoVF2mxv      13151         46\n",
       "13238  1BnRf3dKkPhZ5P5DGgYUFAB3CHPp1TVcFH      13151         46\n",
       "13239  1H1WS2tFx5yCsxtefs9PSTdqVX2mduyf3b      13151         46\n",
       "13240  14ccu2pkDey82MgWYB6eqwsxvAGtj5n7Bp      13151         46\n",
       "\n",
       "[2730 rows x 3 columns]"
      ]
     },
     "execution_count": 146,
     "metadata": {},
     "output_type": "execute_result"
    }
   ],
   "source": [
    "comps_data_no_bad_5"
   ]
  },
  {
   "cell_type": "code",
   "execution_count": 147,
   "metadata": {},
   "outputs": [
    {
     "data": {
      "text/plain": [
       "<Axes: xlabel='time_step', ylabel='component'>"
      ]
     },
     "execution_count": 147,
     "metadata": {},
     "output_type": "execute_result"
    },
    {
     "data": {
      "image/png": "[encoded data removed]",
      "text/plain": [
       "<Figure size 640x480 with 1 Axes>"
      ]
     },
     "metadata": {},
     "output_type": "display_data"
    }
   ],
   "source": [
    "pr = comps_data_no_bad_5.drop_duplicates([\"time_step\", \"component\"]).groupby(\"time_step\")[\"component\"].nunique().reset_index()\n",
    "sns.lineplot(x=pr[\"time_step\"], y=pr[\"component\"])"
   ]
  },
  {
   "cell_type": "code",
   "execution_count": 148,
   "metadata": {},
   "outputs": [
    {
     "data": {
      "text/plain": [
       "class\n",
       "3    2117\n",
       "2     400\n",
       "1       4\n",
       "Name: count, dtype: int64"
      ]
     },
     "execution_count": 148,
     "metadata": {},
     "output_type": "execute_result"
    }
   ],
   "source": [
    "addr_classes[addr_classes[\"address\"].isin(comps_data_no_bad_5[\"address_id\"])][\"class\"].value_counts()"
   ]
  },
  {
   "cell_type": "code",
   "execution_count": 150,
   "metadata": {},
   "outputs": [],
   "source": [
    "comps_data_no_bad_10 = None\n",
    "for ts in range(1, 50, 5):\n",
    "    # print(ts)\n",
    "    comps, cnt = get_scc_data(\n",
    "        addr_to_addr_edges1[(addr_to_addr_edges1[\"Time step\"] >= ts) & (addr_to_addr_edges1[\"Time step\"] < ts + 10)]\n",
    "    )\n",
    "    comps[\"time_step\"] = ts\n",
    "    if comps_data_no_bad_10 is None:\n",
    "        comps_data_no_bad_10 = comps\n",
    "    else:\n",
    "        comps_data_no_bad_10 = pd.concat([comps_data_no_bad_10, comps])"
   ]
  },
  {
   "cell_type": "code",
   "execution_count": 153,
   "metadata": {},
   "outputs": [
    {
     "data": {
      "text/plain": [
       "class\n",
       "3    2208\n",
       "2     469\n",
       "1      11\n",
       "Name: count, dtype: int64"
      ]
     },
     "execution_count": 153,
     "metadata": {},
     "output_type": "execute_result"
    }
   ],
   "source": [
    "addr_classes[addr_classes[\"address\"].isin(comps_data_no_bad_10[\"address_id\"])][\"class\"].value_counts()"
   ]
  },
  {
   "cell_type": "code",
   "execution_count": 154,
   "metadata": {},
   "outputs": [
    {
     "data": {
      "text/plain": [
       "<Axes: xlabel='time_step', ylabel='component'>"
      ]
     },
     "execution_count": 154,
     "metadata": {},
     "output_type": "execute_result"
    },
    {
     "data": {
      "image/png": "[encoded data removed]",
      "text/plain": [
       "<Figure size 640x480 with 1 Axes>"
      ]
     },
     "metadata": {},
     "output_type": "display_data"
    }
   ],
   "source": [
    "pr = comps_data_no_bad_10.drop_duplicates([\"time_step\", \"component\"]).groupby(\"time_step\")[\"component\"].nunique().reset_index()\n",
    "sns.lineplot(x=pr[\"time_step\"], y=pr[\"component\"])"
   ]
  },
  {
   "cell_type": "markdown",
   "metadata": {},
   "source": [
    "# Итоги\n",
    "\n",
    "Фродеры не склонны к тому, чтобы вливаться в компоненты сильной связности (менее сколлы, чем легальные), возможно стоит добавить признак - \n",
    "\n",
    "Состоял ли адрес в КСС в каком-то разрезе (1 / 5 / 10 последовательных timesteps)"
   ]
  },
  {
   "cell_type": "code",
   "execution_count": null,
   "metadata": {},
   "outputs": [],
   "source": []
  }
 ],
 "metadata": {
  "kernelspec": {
   "display_name": "Python 3",
   "language": "python",
   "name": "python3"
  },
  "language_info": {
   "codemirror_mode": {
    "name": "ipython",
    "version": 3
   },
   "file_extension": ".py",
   "mimetype": "text/x-python",
   "name": "python",
   "nbconvert_exporter": "python",
   "pygments_lexer": "ipython3",
   "version": "3.9.6"
  }
 },
 "nbformat": 4,
 "nbformat_minor": 2
}
