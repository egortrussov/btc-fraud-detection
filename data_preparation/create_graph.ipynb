{
 "cells": [
  {
   "cell_type": "code",
   "execution_count": 56,
   "metadata": {},
   "outputs": [],
   "source": [
    "import pandas as pd\n",
    "import numpy as np\n",
    "\n",
    "import matplotlib.pyplot as plt\n",
    "import seaborn as sns\n",
    "from tqdm import tqdm\n",
    "\n",
    "%matplotlib inline\n",
    "\n",
    "sns.set(style=\"darkgrid\")\n",
    "\n",
    "np.random.seed(0)\n",
    "import warnings\n",
    "warnings.filterwarnings('ignore')\n",
    "warnings.simplefilter('ignore')"
   ]
  },
  {
   "cell_type": "code",
   "execution_count": 57,
   "metadata": {},
   "outputs": [],
   "source": [
    "wallets_data = pd.read_csv(\"../dataset/custom/wallets_features_aggregated.csv\")"
   ]
  },
  {
   "cell_type": "code",
   "execution_count": 58,
   "metadata": {},
   "outputs": [
    {
     "name": "stdout",
     "output_type": "stream",
     "text": [
      "<class 'pandas.core.frame.DataFrame'>\n",
      "RangeIndex: 822942 entries, 0 to 822941\n",
      "Data columns (total 46 columns):\n",
      " #   Column                               Non-Null Count   Dtype  \n",
      "---  ------                               --------------   -----  \n",
      " 0   class                                822942 non-null  int64  \n",
      " 1   num_timesteps_appeared_in            822942 non-null  float64\n",
      " 2   fees_median                          822942 non-null  float64\n",
      " 3   num_addr_transacted_multiple         822942 non-null  float64\n",
      " 4   addrId                               822942 non-null  object \n",
      " 5   userId                               822942 non-null  int64  \n",
      " 6   user_ts_fees_share_mean              822942 non-null  float64\n",
      " 7   user_ts_fees_share_min               822942 non-null  float64\n",
      " 8   user_ts_fees_share_max               822942 non-null  float64\n",
      " 9   user_addr_cnt                        822942 non-null  int64  \n",
      " 10  user_outcoming_tx_cnt                822942 non-null  float64\n",
      " 11  user_incoming_tx_cnt                 822942 non-null  float64\n",
      " 12  user_input_users_cnt                 822942 non-null  float64\n",
      " 13  user_output_users_cnt                822942 non-null  float64\n",
      " 14  user_active_time_steps_cnt           822942 non-null  int64  \n",
      " 15  user_btc_sent_total                  822942 non-null  float64\n",
      " 16  user_btc_received_total              822942 non-null  float64\n",
      " 17  user_interracted_output_address_cnt  822942 non-null  float64\n",
      " 18  user_interracted_input_address_cnt   822942 non-null  float64\n",
      " 19  user_overall_activity_coef           822942 non-null  float64\n",
      " 20  user_whole_fee_5                     822942 non-null  float64\n",
      " 21  addr_gini                            822942 non-null  float64\n",
      " 22  whole_fees_5                         822942 non-null  float64\n",
      " 23  num_txs_as_sender                    822942 non-null  float64\n",
      " 24  num_txs_as receiver                  822942 non-null  float64\n",
      " 25  lifetime_in_blocks                   822942 non-null  float64\n",
      " 26  total_txs                            822942 non-null  float64\n",
      " 27  btc_transacted_total                 822942 non-null  float64\n",
      " 28  btc_sent_total                       822942 non-null  float64\n",
      " 29  btc_received_total                   822942 non-null  float64\n",
      " 30  fees_total                           822942 non-null  float64\n",
      " 31  transacted_w_address_total           822942 non-null  float64\n",
      " 32  first_block_appeared_in              822942 non-null  float64\n",
      " 33  first_sent_block                     822942 non-null  float64\n",
      " 34  first_received_block                 822942 non-null  float64\n",
      " 35  btc_transacted_min                   822942 non-null  float64\n",
      " 36  btc_sent_min                         822942 non-null  float64\n",
      " 37  btc_received_min                     822942 non-null  float64\n",
      " 38  fees_min                             822942 non-null  float64\n",
      " 39  transacted_w_address_min             822942 non-null  float64\n",
      " 40  btc_transacted_max                   822942 non-null  float64\n",
      " 41  btc_sent_max                         822942 non-null  float64\n",
      " 42  btc_received_max                     822942 non-null  float64\n",
      " 43  fees_max                             822942 non-null  float64\n",
      " 44  last_block_appeared_in               822942 non-null  float64\n",
      " 45  transacted_w_address_max             822942 non-null  float64\n",
      "dtypes: float64(41), int64(4), object(1)\n",
      "memory usage: 288.8+ MB\n"
     ]
    }
   ],
   "source": [
    "wallets_data.info()"
   ]
  },
  {
   "cell_type": "code",
   "execution_count": 59,
   "metadata": {},
   "outputs": [
    {
     "data": {
      "text/plain": [
       "0          11N1nXt3xohkDrUQLSupi5aG69f8CmkYC\n",
       "1         121qMEKXMfFg94DcWy2GwyN7hJximJj2F8\n",
       "2         122U79JdvMcaSbLbXdD5cTi67jQC4Ube3W\n",
       "3         123KBbJSbQZzBpp9ugyKVSHJhRABmhcYqV\n",
       "4         123oKmBW2d2SQGYRrvfzmp6whsPpJ6P268\n",
       "                         ...                \n",
       "822937    3LQxUzikM2rWBhUFrLFNiuWPbPLLJn84DB\n",
       "822938    19iVyH1qUxgywY8LJSbpV4VavjZmyuEyxV\n",
       "822939    1GUkazUBpXWdSJ9HbgTapAH7uybpi3Cs6K\n",
       "822940    18rdKmjrg1EawxgiVT3ikLExj6GWS2MNCk\n",
       "822941    1HtqDMWgn6186e8t3EesZQiw7gNbaPJfJH\n",
       "Name: addrId, Length: 822942, dtype: object"
      ]
     },
     "execution_count": 59,
     "metadata": {},
     "output_type": "execute_result"
    }
   ],
   "source": [
    "wallets_data[\"addrId\"]"
   ]
  },
  {
   "cell_type": "code",
   "execution_count": 60,
   "metadata": {},
   "outputs": [
    {
     "data": {
      "text/plain": [
       "(822942,)"
      ]
     },
     "execution_count": 60,
     "metadata": {},
     "output_type": "execute_result"
    }
   ],
   "source": [
    "# addresses = wallets_data[wallets_data[\"addrId\"] <= \"133oKmBW2d2SQGYRrvfzmp6whsPpJ6P268\"][\"addrId\"]\n",
    "addresses = wallets_data[\"addrId\"]\n",
    "addresses.shape"
   ]
  },
  {
   "cell_type": "code",
   "execution_count": 61,
   "metadata": {},
   "outputs": [],
   "source": [
    "valid_addresses_data = wallets_data[wallets_data[\"addrId\"].isin(addresses)].sort_values(by=\"addrId\")"
   ]
  },
  {
   "cell_type": "code",
   "execution_count": 62,
   "metadata": {},
   "outputs": [
    {
     "name": "stdout",
     "output_type": "stream",
     "text": [
      "<class 'pandas.core.frame.DataFrame'>\n",
      "RangeIndex: 2868964 entries, 0 to 2868963\n",
      "Data columns (total 2 columns):\n",
      " #   Column          Dtype \n",
      "---  ------          ----- \n",
      " 0   input_address   object\n",
      " 1   output_address  object\n",
      "dtypes: object(2)\n",
      "memory usage: 43.8+ MB\n"
     ]
    }
   ],
   "source": [
    "addr_edges = pd.read_csv(\"../dataset/Elliptic++ Dataset/AddrAddr_edgelist.csv\")\n",
    "addr_edges = addr_edges[\n",
    "    addr_edges[\"input_address\"].isin(addresses) &\n",
    "    addr_edges[\"output_address\"].isin(addresses)\n",
    "]\n",
    "addr_edges.info()"
   ]
  },
  {
   "cell_type": "code",
   "execution_count": 63,
   "metadata": {},
   "outputs": [],
   "source": [
    "import torch\n",
    "from torch_geometric.data import Data\n"
   ]
  },
  {
   "cell_type": "code",
   "execution_count": 64,
   "metadata": {},
   "outputs": [],
   "source": [
    "node_feats_prepared = valid_addresses_data.sort_values(by=\"addrId\").drop(\"addrId\", axis=1)\n",
    "feats_ts = torch.tensor(np.array(node_feats_prepared))"
   ]
  },
  {
   "cell_type": "code",
   "execution_count": 65,
   "metadata": {},
   "outputs": [
    {
     "data": {
      "text/html": [
       "<div>\n",
       "<style scoped>\n",
       "    .dataframe tbody tr th:only-of-type {\n",
       "        vertical-align: middle;\n",
       "    }\n",
       "\n",
       "    .dataframe tbody tr th {\n",
       "        vertical-align: top;\n",
       "    }\n",
       "\n",
       "    .dataframe thead th {\n",
       "        text-align: right;\n",
       "    }\n",
       "</style>\n",
       "<table border=\"1\" class=\"dataframe\">\n",
       "  <thead>\n",
       "    <tr style=\"text-align: right;\">\n",
       "      <th></th>\n",
       "      <th>addrId</th>\n",
       "      <th>index</th>\n",
       "    </tr>\n",
       "  </thead>\n",
       "  <tbody>\n",
       "    <tr>\n",
       "      <th>0</th>\n",
       "      <td>111112TykSw72ztDN2WJger4cynzWYC5w</td>\n",
       "      <td>0</td>\n",
       "    </tr>\n",
       "    <tr>\n",
       "      <th>1</th>\n",
       "      <td>1111DAYXhoxZx2tsRnzimfozo783x1yC2</td>\n",
       "      <td>1</td>\n",
       "    </tr>\n",
       "    <tr>\n",
       "      <th>2</th>\n",
       "      <td>1111VHuXEzHaRCgXbVwojtaP7Co3QABb</td>\n",
       "      <td>2</td>\n",
       "    </tr>\n",
       "    <tr>\n",
       "      <th>3</th>\n",
       "      <td>111218KKkh1JJFRHbwM16AwCiVCc4m7he1</td>\n",
       "      <td>3</td>\n",
       "    </tr>\n",
       "    <tr>\n",
       "      <th>4</th>\n",
       "      <td>1115LWW3xsD9jT9VRY7viCN9S34RVAAuA</td>\n",
       "      <td>4</td>\n",
       "    </tr>\n",
       "    <tr>\n",
       "      <th>...</th>\n",
       "      <td>...</td>\n",
       "      <td>...</td>\n",
       "    </tr>\n",
       "    <tr>\n",
       "      <th>822937</th>\n",
       "      <td>3R2Uw5MRdSSigp8AjfT7K5es6Hupm4qLSq</td>\n",
       "      <td>822937</td>\n",
       "    </tr>\n",
       "    <tr>\n",
       "      <th>822938</th>\n",
       "      <td>3R2VBFbqHGC4bQ7b4ixN4jZTdv7RMbEYtf</td>\n",
       "      <td>822938</td>\n",
       "    </tr>\n",
       "    <tr>\n",
       "      <th>822939</th>\n",
       "      <td>3R2WFmRwbDeo3rMVVu5J3jjMxAuQYYWAid</td>\n",
       "      <td>822939</td>\n",
       "    </tr>\n",
       "    <tr>\n",
       "      <th>822940</th>\n",
       "      <td>3R2WTZGYLmbJQyoDSBftJsPRvF1mSEtkh6</td>\n",
       "      <td>822940</td>\n",
       "    </tr>\n",
       "    <tr>\n",
       "      <th>822941</th>\n",
       "      <td>3R2bm6iqbzcVpEeFCSFarS56b56QfjyiSW</td>\n",
       "      <td>822941</td>\n",
       "    </tr>\n",
       "  </tbody>\n",
       "</table>\n",
       "<p>822942 rows × 2 columns</p>\n",
       "</div>"
      ],
      "text/plain": [
       "                                    addrId   index\n",
       "0        111112TykSw72ztDN2WJger4cynzWYC5w       0\n",
       "1        1111DAYXhoxZx2tsRnzimfozo783x1yC2       1\n",
       "2         1111VHuXEzHaRCgXbVwojtaP7Co3QABb       2\n",
       "3       111218KKkh1JJFRHbwM16AwCiVCc4m7he1       3\n",
       "4        1115LWW3xsD9jT9VRY7viCN9S34RVAAuA       4\n",
       "...                                    ...     ...\n",
       "822937  3R2Uw5MRdSSigp8AjfT7K5es6Hupm4qLSq  822937\n",
       "822938  3R2VBFbqHGC4bQ7b4ixN4jZTdv7RMbEYtf  822938\n",
       "822939  3R2WFmRwbDeo3rMVVu5J3jjMxAuQYYWAid  822939\n",
       "822940  3R2WTZGYLmbJQyoDSBftJsPRvF1mSEtkh6  822940\n",
       "822941  3R2bm6iqbzcVpEeFCSFarS56b56QfjyiSW  822941\n",
       "\n",
       "[822942 rows x 2 columns]"
      ]
     },
     "execution_count": 65,
     "metadata": {},
     "output_type": "execute_result"
    }
   ],
   "source": [
    "addr2id = valid_addresses_data.sort_values(by=\"addrId\").reset_index().drop(\"index\", axis=1).reset_index()[[\"addrId\", \"index\"]]\n",
    "addr2id"
   ]
  },
  {
   "cell_type": "code",
   "execution_count": 66,
   "metadata": {},
   "outputs": [
    {
     "data": {
      "text/plain": [
       "torch.Size([822942, 45])"
      ]
     },
     "execution_count": 66,
     "metadata": {},
     "output_type": "execute_result"
    }
   ],
   "source": [
    "feats_ts.shape"
   ]
  },
  {
   "cell_type": "markdown",
   "metadata": {},
   "source": [
    "### Edge index"
   ]
  },
  {
   "cell_type": "code",
   "execution_count": 80,
   "metadata": {},
   "outputs": [
    {
     "data": {
      "text/html": [
       "<div>\n",
       "<style scoped>\n",
       "    .dataframe tbody tr th:only-of-type {\n",
       "        vertical-align: middle;\n",
       "    }\n",
       "\n",
       "    .dataframe tbody tr th {\n",
       "        vertical-align: top;\n",
       "    }\n",
       "\n",
       "    .dataframe thead th {\n",
       "        text-align: right;\n",
       "    }\n",
       "</style>\n",
       "<table border=\"1\" class=\"dataframe\">\n",
       "  <thead>\n",
       "    <tr style=\"text-align: right;\">\n",
       "      <th></th>\n",
       "      <th>input_address</th>\n",
       "      <th>output_address</th>\n",
       "      <th>in_BTC_total</th>\n",
       "      <th>out_BTC_total</th>\n",
       "      <th>active_ts_cnt</th>\n",
       "      <th>tx_cnt</th>\n",
       "    </tr>\n",
       "  </thead>\n",
       "  <tbody>\n",
       "    <tr>\n",
       "      <th>0</th>\n",
       "      <td>111218KKkh1JJFRHbwM16AwCiVCc4m7he1</td>\n",
       "      <td>1A2vTkKSsmVLN2EPEJT3KZR4q1Rvv6c6Xs</td>\n",
       "      <td>0.056681</td>\n",
       "      <td>0.056435</td>\n",
       "      <td>1</td>\n",
       "      <td>1</td>\n",
       "    </tr>\n",
       "    <tr>\n",
       "      <th>1</th>\n",
       "      <td>111218KKkh1JJFRHbwM16AwCiVCc4m7he1</td>\n",
       "      <td>1KWbPoFkzadegdff9rCK1wBFu3mD8M17Wp</td>\n",
       "      <td>0.056681</td>\n",
       "      <td>0.056435</td>\n",
       "      <td>1</td>\n",
       "      <td>1</td>\n",
       "    </tr>\n",
       "    <tr>\n",
       "      <th>2</th>\n",
       "      <td>1117wASFaYgJJP6MiY8cPD5DMdQda8gDZ</td>\n",
       "      <td>1K7o3aMfiddvUgMGagdNE5GkiykPPyGj32</td>\n",
       "      <td>1.214191</td>\n",
       "      <td>1.214091</td>\n",
       "      <td>1</td>\n",
       "      <td>1</td>\n",
       "    </tr>\n",
       "    <tr>\n",
       "      <th>3</th>\n",
       "      <td>1117wASFaYgJJP6MiY8cPD5DMdQda8gDZ</td>\n",
       "      <td>1Po4J4SNyJuGnMGYJfGTXLEvGgAZKiddr7</td>\n",
       "      <td>1.214191</td>\n",
       "      <td>1.214091</td>\n",
       "      <td>1</td>\n",
       "      <td>1</td>\n",
       "    </tr>\n",
       "    <tr>\n",
       "      <th>4</th>\n",
       "      <td>111HRAJxnoxqyKRVnjqBmwqneUrHc1chi</td>\n",
       "      <td>12RoZAgmZMFHMMrvaqrYZrLMPpAFEFGyWU</td>\n",
       "      <td>3.016258</td>\n",
       "      <td>3.013936</td>\n",
       "      <td>1</td>\n",
       "      <td>1</td>\n",
       "    </tr>\n",
       "  </tbody>\n",
       "</table>\n",
       "</div>"
      ],
      "text/plain": [
       "                        input_address                      output_address  \\\n",
       "0  111218KKkh1JJFRHbwM16AwCiVCc4m7he1  1A2vTkKSsmVLN2EPEJT3KZR4q1Rvv6c6Xs   \n",
       "1  111218KKkh1JJFRHbwM16AwCiVCc4m7he1  1KWbPoFkzadegdff9rCK1wBFu3mD8M17Wp   \n",
       "2   1117wASFaYgJJP6MiY8cPD5DMdQda8gDZ  1K7o3aMfiddvUgMGagdNE5GkiykPPyGj32   \n",
       "3   1117wASFaYgJJP6MiY8cPD5DMdQda8gDZ  1Po4J4SNyJuGnMGYJfGTXLEvGgAZKiddr7   \n",
       "4   111HRAJxnoxqyKRVnjqBmwqneUrHc1chi  12RoZAgmZMFHMMrvaqrYZrLMPpAFEFGyWU   \n",
       "\n",
       "   in_BTC_total  out_BTC_total  active_ts_cnt  tx_cnt  \n",
       "0      0.056681       0.056435              1       1  \n",
       "1      0.056681       0.056435              1       1  \n",
       "2      1.214191       1.214091              1       1  \n",
       "3      1.214191       1.214091              1       1  \n",
       "4      3.016258       3.013936              1       1  "
      ]
     },
     "execution_count": 80,
     "metadata": {},
     "output_type": "execute_result"
    }
   ],
   "source": [
    "edges_feats = pd.read_csv(\"../dataset/custom/AddrAddr_EdgeFeatures.csv\")\n",
    "edges_feats = edges_feats[\n",
    "    edges_feats[\"input_address\"].isin(addresses) &\n",
    "    edges_feats[\"output_address\"].isin(addresses)\n",
    "]\n",
    "edges_feats.head()"
   ]
  },
  {
   "cell_type": "code",
   "execution_count": 82,
   "metadata": {},
   "outputs": [
    {
     "data": {
      "text/html": [
       "<div>\n",
       "<style scoped>\n",
       "    .dataframe tbody tr th:only-of-type {\n",
       "        vertical-align: middle;\n",
       "    }\n",
       "\n",
       "    .dataframe tbody tr th {\n",
       "        vertical-align: top;\n",
       "    }\n",
       "\n",
       "    .dataframe thead th {\n",
       "        text-align: right;\n",
       "    }\n",
       "</style>\n",
       "<table border=\"1\" class=\"dataframe\">\n",
       "  <thead>\n",
       "    <tr style=\"text-align: right;\">\n",
       "      <th></th>\n",
       "      <th>input_address</th>\n",
       "      <th>output_address</th>\n",
       "      <th>in_BTC_total</th>\n",
       "      <th>out_BTC_total</th>\n",
       "      <th>active_ts_cnt</th>\n",
       "      <th>tx_cnt</th>\n",
       "    </tr>\n",
       "  </thead>\n",
       "  <tbody>\n",
       "    <tr>\n",
       "      <th>0</th>\n",
       "      <td>14YRXHHof4BY1TVxN5FqYPcEdpmXiYT78a</td>\n",
       "      <td>1GASxu5nMntiRKdVtTVRvEbP965G51bhHH</td>\n",
       "      <td>7.000303</td>\n",
       "      <td>6.999303</td>\n",
       "      <td>1</td>\n",
       "      <td>1</td>\n",
       "    </tr>\n",
       "    <tr>\n",
       "      <th>1</th>\n",
       "      <td>14YRXHHof4BY1TVxN5FqYPcEdpmXiYT78a</td>\n",
       "      <td>14YRXHHof4BY1TVxN5FqYPcEdpmXiYT78a</td>\n",
       "      <td>7.000303</td>\n",
       "      <td>6.999303</td>\n",
       "      <td>1</td>\n",
       "      <td>1</td>\n",
       "    </tr>\n",
       "    <tr>\n",
       "      <th>2</th>\n",
       "      <td>13Lhad3SAmu2vqYg2dxbNcxH7LE77kJu2w</td>\n",
       "      <td>1GFdrdgtG34GChM8SMpMwcXFc4nYbH1A5G</td>\n",
       "      <td>5.525902</td>\n",
       "      <td>5.525802</td>\n",
       "      <td>1</td>\n",
       "      <td>1</td>\n",
       "    </tr>\n",
       "    <tr>\n",
       "      <th>3</th>\n",
       "      <td>1MAQQZn7EHP6J3erXByCciFiVcgS8ZhWqz</td>\n",
       "      <td>19q57SeCEzTnWrWVXA43nZzhSiXkYggh7c</td>\n",
       "      <td>11.811274</td>\n",
       "      <td>11.811174</td>\n",
       "      <td>1</td>\n",
       "      <td>1</td>\n",
       "    </tr>\n",
       "    <tr>\n",
       "      <th>4</th>\n",
       "      <td>1MAQQZn7EHP6J3erXByCciFiVcgS8ZhWqz</td>\n",
       "      <td>1Kk1NVYnCE8ALXDhgMM6HqTt1jDSvi6QBA</td>\n",
       "      <td>11.811274</td>\n",
       "      <td>11.811174</td>\n",
       "      <td>1</td>\n",
       "      <td>1</td>\n",
       "    </tr>\n",
       "  </tbody>\n",
       "</table>\n",
       "</div>"
      ],
      "text/plain": [
       "                        input_address                      output_address  \\\n",
       "0  14YRXHHof4BY1TVxN5FqYPcEdpmXiYT78a  1GASxu5nMntiRKdVtTVRvEbP965G51bhHH   \n",
       "1  14YRXHHof4BY1TVxN5FqYPcEdpmXiYT78a  14YRXHHof4BY1TVxN5FqYPcEdpmXiYT78a   \n",
       "2  13Lhad3SAmu2vqYg2dxbNcxH7LE77kJu2w  1GFdrdgtG34GChM8SMpMwcXFc4nYbH1A5G   \n",
       "3  1MAQQZn7EHP6J3erXByCciFiVcgS8ZhWqz  19q57SeCEzTnWrWVXA43nZzhSiXkYggh7c   \n",
       "4  1MAQQZn7EHP6J3erXByCciFiVcgS8ZhWqz  1Kk1NVYnCE8ALXDhgMM6HqTt1jDSvi6QBA   \n",
       "\n",
       "   in_BTC_total  out_BTC_total  active_ts_cnt  tx_cnt  \n",
       "0      7.000303       6.999303              1       1  \n",
       "1      7.000303       6.999303              1       1  \n",
       "2      5.525902       5.525802              1       1  \n",
       "3     11.811274      11.811174              1       1  \n",
       "4     11.811274      11.811174              1       1  "
      ]
     },
     "execution_count": 82,
     "metadata": {},
     "output_type": "execute_result"
    }
   ],
   "source": [
    "addr_edges_with_feat = addr_edges \\\n",
    "    .merge(\n",
    "        edges_feats,\n",
    "        how=\"left\",\n",
    "        on=(\"input_address\", \"output_address\"),\n",
    "    )\n",
    "addr_edges_with_feat.head()"
   ]
  },
  {
   "cell_type": "code",
   "execution_count": 83,
   "metadata": {},
   "outputs": [],
   "source": [
    "addr_edges_ixs = addr_edges_with_feat \\\n",
    "    .merge(\n",
    "        addr2id,\n",
    "        how=\"left\",\n",
    "        left_on=\"input_address\",\n",
    "        right_on=\"addrId\"\n",
    "    ) \\\n",
    "    .drop([\"input_address\", \"addrId\"], axis=1) \\\n",
    "    .rename(columns={\"index\": \"input_index\"}) \\\n",
    "    .merge(\n",
    "        addr2id,\n",
    "        how=\"left\",\n",
    "        left_on=\"output_address\",\n",
    "        right_on=\"addrId\"\n",
    "    ) \\\n",
    "    .drop([\"output_address\", \"addrId\"], axis=1) \\\n",
    "    .rename(columns={\"index\": \"output_index\"})\n"
   ]
  },
  {
   "cell_type": "code",
   "execution_count": 85,
   "metadata": {},
   "outputs": [
    {
     "data": {
      "text/html": [
       "<div>\n",
       "<style scoped>\n",
       "    .dataframe tbody tr th:only-of-type {\n",
       "        vertical-align: middle;\n",
       "    }\n",
       "\n",
       "    .dataframe tbody tr th {\n",
       "        vertical-align: top;\n",
       "    }\n",
       "\n",
       "    .dataframe thead th {\n",
       "        text-align: right;\n",
       "    }\n",
       "</style>\n",
       "<table border=\"1\" class=\"dataframe\">\n",
       "  <thead>\n",
       "    <tr style=\"text-align: right;\">\n",
       "      <th></th>\n",
       "      <th>in_BTC_total</th>\n",
       "      <th>out_BTC_total</th>\n",
       "      <th>active_ts_cnt</th>\n",
       "      <th>tx_cnt</th>\n",
       "      <th>input_index</th>\n",
       "      <th>output_index</th>\n",
       "    </tr>\n",
       "  </thead>\n",
       "  <tbody>\n",
       "    <tr>\n",
       "      <th>0</th>\n",
       "      <td>7.000303</td>\n",
       "      <td>6.999303</td>\n",
       "      <td>1</td>\n",
       "      <td>1</td>\n",
       "      <td>80301</td>\n",
       "      <td>438386</td>\n",
       "    </tr>\n",
       "    <tr>\n",
       "      <th>1</th>\n",
       "      <td>7.000303</td>\n",
       "      <td>6.999303</td>\n",
       "      <td>1</td>\n",
       "      <td>1</td>\n",
       "      <td>80301</td>\n",
       "      <td>80301</td>\n",
       "    </tr>\n",
       "    <tr>\n",
       "      <th>2</th>\n",
       "      <td>5.525902</td>\n",
       "      <td>5.525802</td>\n",
       "      <td>1</td>\n",
       "      <td>1</td>\n",
       "      <td>43616</td>\n",
       "      <td>441088</td>\n",
       "    </tr>\n",
       "    <tr>\n",
       "      <th>3</th>\n",
       "      <td>11.811274</td>\n",
       "      <td>11.811174</td>\n",
       "      <td>1</td>\n",
       "      <td>1</td>\n",
       "      <td>589947</td>\n",
       "      <td>243568</td>\n",
       "    </tr>\n",
       "    <tr>\n",
       "      <th>4</th>\n",
       "      <td>11.811274</td>\n",
       "      <td>11.811174</td>\n",
       "      <td>1</td>\n",
       "      <td>1</td>\n",
       "      <td>589947</td>\n",
       "      <td>547238</td>\n",
       "    </tr>\n",
       "    <tr>\n",
       "      <th>...</th>\n",
       "      <td>...</td>\n",
       "      <td>...</td>\n",
       "      <td>...</td>\n",
       "      <td>...</td>\n",
       "      <td>...</td>\n",
       "      <td>...</td>\n",
       "    </tr>\n",
       "    <tr>\n",
       "      <th>2868959</th>\n",
       "      <td>2106.965204</td>\n",
       "      <td>2106.905760</td>\n",
       "      <td>27</td>\n",
       "      <td>206</td>\n",
       "      <td>805802</td>\n",
       "      <td>805802</td>\n",
       "    </tr>\n",
       "    <tr>\n",
       "      <th>2868960</th>\n",
       "      <td>0.056750</td>\n",
       "      <td>0.056735</td>\n",
       "      <td>1</td>\n",
       "      <td>1</td>\n",
       "      <td>766805</td>\n",
       "      <td>739698</td>\n",
       "    </tr>\n",
       "    <tr>\n",
       "      <th>2868961</th>\n",
       "      <td>0.008051</td>\n",
       "      <td>0.008035</td>\n",
       "      <td>1</td>\n",
       "      <td>1</td>\n",
       "      <td>720571</td>\n",
       "      <td>777875</td>\n",
       "    </tr>\n",
       "    <tr>\n",
       "      <th>2868962</th>\n",
       "      <td>0.003356</td>\n",
       "      <td>0.003306</td>\n",
       "      <td>1</td>\n",
       "      <td>1</td>\n",
       "      <td>501046</td>\n",
       "      <td>501046</td>\n",
       "    </tr>\n",
       "    <tr>\n",
       "      <th>2868963</th>\n",
       "      <td>0.003356</td>\n",
       "      <td>0.003306</td>\n",
       "      <td>1</td>\n",
       "      <td>1</td>\n",
       "      <td>501046</td>\n",
       "      <td>108362</td>\n",
       "    </tr>\n",
       "  </tbody>\n",
       "</table>\n",
       "<p>2868964 rows × 6 columns</p>\n",
       "</div>"
      ],
      "text/plain": [
       "         in_BTC_total  out_BTC_total  active_ts_cnt  tx_cnt  input_index  \\\n",
       "0            7.000303       6.999303              1       1        80301   \n",
       "1            7.000303       6.999303              1       1        80301   \n",
       "2            5.525902       5.525802              1       1        43616   \n",
       "3           11.811274      11.811174              1       1       589947   \n",
       "4           11.811274      11.811174              1       1       589947   \n",
       "...               ...            ...            ...     ...          ...   \n",
       "2868959   2106.965204    2106.905760             27     206       805802   \n",
       "2868960      0.056750       0.056735              1       1       766805   \n",
       "2868961      0.008051       0.008035              1       1       720571   \n",
       "2868962      0.003356       0.003306              1       1       501046   \n",
       "2868963      0.003356       0.003306              1       1       501046   \n",
       "\n",
       "         output_index  \n",
       "0              438386  \n",
       "1               80301  \n",
       "2              441088  \n",
       "3              243568  \n",
       "4              547238  \n",
       "...               ...  \n",
       "2868959        805802  \n",
       "2868960        739698  \n",
       "2868961        777875  \n",
       "2868962        501046  \n",
       "2868963        108362  \n",
       "\n",
       "[2868964 rows x 6 columns]"
      ]
     },
     "execution_count": 85,
     "metadata": {},
     "output_type": "execute_result"
    }
   ],
   "source": [
    "addr_edges_ixs"
   ]
  },
  {
   "cell_type": "code",
   "execution_count": 87,
   "metadata": {},
   "outputs": [
    {
     "data": {
      "text/plain": [
       "tensor([[ 80301,  80301,  43616,  ..., 720571, 501046, 501046],\n",
       "        [438386,  80301, 441088,  ..., 777875, 501046, 108362]])"
      ]
     },
     "execution_count": 87,
     "metadata": {},
     "output_type": "execute_result"
    }
   ],
   "source": [
    "edge_index = torch.tensor(np.array(addr_edges_ixs[[\"input_index\", \"output_index\"]]).T)\n",
    "edge_index"
   ]
  },
  {
   "cell_type": "code",
   "execution_count": 99,
   "metadata": {},
   "outputs": [
    {
     "data": {
      "text/plain": [
       "torch.Size([2868964, 4])"
      ]
     },
     "execution_count": 99,
     "metadata": {},
     "output_type": "execute_result"
    }
   ],
   "source": [
    "edge_features= torch.tensor(np.array(addr_edges_ixs.drop([\"input_index\", \"output_index\"], axis=1)))\n",
    "edge_features.shape"
   ]
  },
  {
   "cell_type": "code",
   "execution_count": 102,
   "metadata": {},
   "outputs": [
    {
     "data": {
      "text/plain": [
       "(torch.Size([2, 2868964]), torch.Size([2868964, 4]))"
      ]
     },
     "execution_count": 102,
     "metadata": {},
     "output_type": "execute_result"
    }
   ],
   "source": [
    "edge_index.shape, edge_features.shape"
   ]
  },
  {
   "cell_type": "code",
   "execution_count": null,
   "metadata": {},
   "outputs": [],
   "source": [
    "# def generate_edge_index(edge_cnt, edges_list):\n",
    "#     res = torch.zeros((2, edge_cnt))\n",
    "#     ind = 0\n",
    "#     for edge in tqdm(edges_list, desc=f\"total: {edge_cnt}\"):\n",
    "#         l = edge[1][\"input_address\"]\n",
    "#         r = edge[1][\"output_address\"]\n",
    "#         # print(addr2id[l], addr2id[r])\n",
    "#         res[0][ind] = addr2id[addr2id[\"addrId\"] == l][\"index\"].item()\n",
    "#         res[1][ind] = addr2id[addr2id[\"addrId\"] == r][\"index\"].item()\n",
    "#         ind += 1\n",
    "        \n",
    "#     return res"
   ]
  },
  {
   "cell_type": "code",
   "execution_count": 79,
   "metadata": {},
   "outputs": [],
   "source": [
    "# edge_index = generate_edge_index(addr_edges.shape[0], addr_edges.iterrows())\n",
    "# edge_index = edge_index.type(torch.long)"
   ]
  },
  {
   "cell_type": "markdown",
   "metadata": {},
   "source": [
    "### Edge features\n",
    "\n"
   ]
  },
  {
   "cell_type": "code",
   "execution_count": null,
   "metadata": {},
   "outputs": [
    {
     "data": {
      "text/html": [
       "<div>\n",
       "<style scoped>\n",
       "    .dataframe tbody tr th:only-of-type {\n",
       "        vertical-align: middle;\n",
       "    }\n",
       "\n",
       "    .dataframe tbody tr th {\n",
       "        vertical-align: top;\n",
       "    }\n",
       "\n",
       "    .dataframe thead th {\n",
       "        text-align: right;\n",
       "    }\n",
       "</style>\n",
       "<table border=\"1\" class=\"dataframe\">\n",
       "  <thead>\n",
       "    <tr style=\"text-align: right;\">\n",
       "      <th></th>\n",
       "      <th>input_address</th>\n",
       "      <th>output_address</th>\n",
       "      <th>in_BTC_total</th>\n",
       "      <th>out_BTC_total</th>\n",
       "      <th>active_ts_cnt</th>\n",
       "      <th>tx_cnt</th>\n",
       "    </tr>\n",
       "  </thead>\n",
       "  <tbody>\n",
       "    <tr>\n",
       "      <th>4</th>\n",
       "      <td>111HRAJxnoxqyKRVnjqBmwqneUrHc1chi</td>\n",
       "      <td>12RoZAgmZMFHMMrvaqrYZrLMPpAFEFGyWU</td>\n",
       "      <td>3.016258</td>\n",
       "      <td>3.013936</td>\n",
       "      <td>1</td>\n",
       "      <td>1</td>\n",
       "    </tr>\n",
       "    <tr>\n",
       "      <th>8</th>\n",
       "      <td>111Y3BkUGLSWQjHCb2Mg8oMNiwc1jxMwe</td>\n",
       "      <td>12eweZVTQx8MktqkEodiss1z2RqCbYjDqE</td>\n",
       "      <td>29.671720</td>\n",
       "      <td>29.642631</td>\n",
       "      <td>1</td>\n",
       "      <td>1</td>\n",
       "    </tr>\n",
       "    <tr>\n",
       "      <th>25</th>\n",
       "      <td>1121SNiVgJ6esyxhmEK45E8Q1YxWs6htNz</td>\n",
       "      <td>124d7pxH9esG6TjYDn3xHoaoihp3jxzLKh</td>\n",
       "      <td>74.097317</td>\n",
       "      <td>74.065961</td>\n",
       "      <td>1</td>\n",
       "      <td>1</td>\n",
       "    </tr>\n",
       "    <tr>\n",
       "      <th>26</th>\n",
       "      <td>1121SNiVgJ6esyxhmEK45E8Q1YxWs6htNz</td>\n",
       "      <td>12DaEKUiYyMzKabQJrNNmwfKD1nrArbUYx</td>\n",
       "      <td>74.097317</td>\n",
       "      <td>74.065961</td>\n",
       "      <td>1</td>\n",
       "      <td>1</td>\n",
       "    </tr>\n",
       "    <tr>\n",
       "      <th>27</th>\n",
       "      <td>1121SNiVgJ6esyxhmEK45E8Q1YxWs6htNz</td>\n",
       "      <td>12UJqvec8EHHnvghx8rgV2aMgECHewuArZ</td>\n",
       "      <td>74.097317</td>\n",
       "      <td>74.065961</td>\n",
       "      <td>1</td>\n",
       "      <td>1</td>\n",
       "    </tr>\n",
       "  </tbody>\n",
       "</table>\n",
       "</div>"
      ],
      "text/plain": [
       "                         input_address                      output_address  \\\n",
       "4    111HRAJxnoxqyKRVnjqBmwqneUrHc1chi  12RoZAgmZMFHMMrvaqrYZrLMPpAFEFGyWU   \n",
       "8    111Y3BkUGLSWQjHCb2Mg8oMNiwc1jxMwe  12eweZVTQx8MktqkEodiss1z2RqCbYjDqE   \n",
       "25  1121SNiVgJ6esyxhmEK45E8Q1YxWs6htNz  124d7pxH9esG6TjYDn3xHoaoihp3jxzLKh   \n",
       "26  1121SNiVgJ6esyxhmEK45E8Q1YxWs6htNz  12DaEKUiYyMzKabQJrNNmwfKD1nrArbUYx   \n",
       "27  1121SNiVgJ6esyxhmEK45E8Q1YxWs6htNz  12UJqvec8EHHnvghx8rgV2aMgECHewuArZ   \n",
       "\n",
       "    in_BTC_total  out_BTC_total  active_ts_cnt  tx_cnt  \n",
       "4       3.016258       3.013936              1       1  \n",
       "8      29.671720      29.642631              1       1  \n",
       "25     74.097317      74.065961              1       1  \n",
       "26     74.097317      74.065961              1       1  \n",
       "27     74.097317      74.065961              1       1  "
      ]
     },
     "execution_count": 22,
     "metadata": {},
     "output_type": "execute_result"
    }
   ],
   "source": []
  },
  {
   "cell_type": "code",
   "execution_count": null,
   "metadata": {},
   "outputs": [],
   "source": [
    "# def generate_edge_features(edges_feats, feats_list, edge_cnt, edges_list):\n",
    "#     res = torch.zeros((edge_cnt, len(feats_list)))\n",
    "#     ind = 0\n",
    "#     for edge in edges_list:\n",
    "#         l = edge[1][\"input_address\"]\n",
    "#         r = edge[1][\"output_address\"]\n",
    "#         for i in range(len(feats_list)):\n",
    "#             feat = feats_list[i]\n",
    "#             data = edges_feats[(edges_feats[\"input_address\"] == l) & (edges_feats[\"input_address\"] == r)][:1]\n",
    "#             if data.shape[0] == 0:\n",
    "#                 res[ind][i] = 0\n",
    "#             else:\n",
    "#                 res[ind][i] = data[feat].item()\n",
    "#         ind += 1\n",
    "        \n",
    "#     return res"
   ]
  },
  {
   "cell_type": "code",
   "execution_count": null,
   "metadata": {},
   "outputs": [],
   "source": [
    "# edge_features = generate_edge_features(\n",
    "#     edges_feats,\n",
    "#     [\"in_BTC_total\", \"out_BTC_total\", \"active_ts_cnt\", \"tx_cnt\"],\n",
    "#     addr_edges.shape[0],\n",
    "#     addr_edges.iterrows()\n",
    "# )"
   ]
  },
  {
   "cell_type": "markdown",
   "metadata": {},
   "source": [
    "### Create graph"
   ]
  },
  {
   "cell_type": "code",
   "execution_count": 107,
   "metadata": {},
   "outputs": [
    {
     "data": {
      "text/plain": [
       "Data(x=[822942, 45], edge_index=[2, 2868964], edge_attr=[2868964, 4], y=[822942])"
      ]
     },
     "execution_count": 107,
     "metadata": {},
     "output_type": "execute_result"
    }
   ],
   "source": [
    "graph = Data(\n",
    "    x=feats_ts.type(torch.float),\n",
    "    edge_index=edge_index,\n",
    "    y=torch.tensor(np.array(valid_addresses_data[\"class\"] == 1)).type(torch.long),\n",
    "    edge_attr=edge_features.type(torch.float)\n",
    ")\n",
    "graph\n"
   ]
  },
  {
   "cell_type": "code",
   "execution_count": 108,
   "metadata": {},
   "outputs": [],
   "source": [
    "torch.save(graph, \"../dataset/graph/graph_full.pth\")"
   ]
  },
  {
   "cell_type": "code",
   "execution_count": 105,
   "metadata": {},
   "outputs": [
    {
     "data": {
      "text/plain": [
       "torch.Size([2, 2868964])"
      ]
     },
     "execution_count": 105,
     "metadata": {},
     "output_type": "execute_result"
    }
   ],
   "source": [
    "edge_index.shape"
   ]
  },
  {
   "cell_type": "code",
   "execution_count": 107,
   "metadata": {},
   "outputs": [
    {
     "data": {
      "text/plain": [
       "tensor([[2.0000e+00, 1.0000e+00, 0.0000e+00,  ..., 7.0423e-03, 4.3959e+05,\n",
       "         1.0000e+00],\n",
       "        [3.0000e+00, 6.0000e+00, 0.0000e+00,  ..., 5.7984e-04, 4.8596e+05,\n",
       "         1.0000e+00],\n",
       "        [2.0000e+00, 1.0000e+00, 0.0000e+00,  ..., 2.7600e-02, 4.3152e+05,\n",
       "         1.0000e+00],\n",
       "        ...,\n",
       "        [2.0000e+00, 1.0000e+00, 0.0000e+00,  ..., 1.8074e-03, 4.5975e+05,\n",
       "         1.0000e+00],\n",
       "        [3.0000e+00, 1.0000e+00, 1.0000e-04,  ..., 1.0000e-04, 4.0935e+05,\n",
       "         1.0000e+00],\n",
       "        [3.0000e+00, 1.0000e+00, 0.0000e+00,  ..., 1.2430e-04, 4.2346e+05,\n",
       "         1.0000e+00]], dtype=torch.float64)"
      ]
     },
     "execution_count": 107,
     "metadata": {},
     "output_type": "execute_result"
    }
   ],
   "source": [
    "feats_ts"
   ]
  },
  {
   "cell_type": "code",
   "execution_count": 94,
   "metadata": {},
   "outputs": [
    {
     "data": {
      "text/plain": [
       "class\n",
       "False    808676\n",
       "True      14266\n",
       "Name: count, dtype: int64"
      ]
     },
     "execution_count": 94,
     "metadata": {},
     "output_type": "execute_result"
    }
   ],
   "source": [
    "(valid_addresses_data[\"class\"] == 1).value_counts()"
   ]
  },
  {
   "cell_type": "code",
   "execution_count": null,
   "metadata": {},
   "outputs": [],
   "source": []
  }
 ],
 "metadata": {
  "kernelspec": {
   "display_name": "Python 3",
   "language": "python",
   "name": "python3"
  },
  "language_info": {
   "codemirror_mode": {
    "name": "ipython",
    "version": 3
   },
   "file_extension": ".py",
   "mimetype": "text/x-python",
   "name": "python",
   "nbconvert_exporter": "python",
   "pygments_lexer": "ipython3",
   "version": "3.9.6"
  }
 },
 "nbformat": 4,
 "nbformat_minor": 2
}
