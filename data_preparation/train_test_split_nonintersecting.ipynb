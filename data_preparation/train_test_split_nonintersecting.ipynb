{
 "cells": [
  {
   "cell_type": "markdown",
   "metadata": {},
   "source": [
    "# Доклеим к wallets_features данные о пользователе"
   ]
  },
  {
   "cell_type": "code",
   "execution_count": 2,
   "metadata": {},
   "outputs": [],
   "source": [
    "import pandas as pd\n",
    "import numpy as np\n",
    "\n",
    "import matplotlib.pyplot as plt\n",
    "import seaborn as sns\n",
    "\n",
    "%matplotlib inline\n",
    "\n",
    "sns.set(style=\"darkgrid\")\n",
    "\n",
    "np.random.seed(0)\n",
    "import warnings\n",
    "warnings.filterwarnings('ignore')\n",
    "warnings.simplefilter('ignore')"
   ]
  },
  {
   "cell_type": "code",
   "execution_count": 25,
   "metadata": {},
   "outputs": [
    {
     "data": {
      "text/plain": [
       "((96591, 3), 91630, 400212)"
      ]
     },
     "execution_count": 25,
     "metadata": {},
     "output_type": "execute_result"
    }
   ],
   "source": [
    "CUTOFF = 40\n",
    "addr_tx_df = pd.read_csv(\"../dataset/Elliptic++ Dataset/AddrTx_edgelist.csv\")\n",
    "tx_info = pd.read_csv(\"../dataset/Elliptic++ Dataset/txs_features.csv\")[[\"txId\", \"Time step\"]]\n",
    "\n",
    "addr_to_ts = addr_tx_df \\\n",
    "    .merge(\n",
    "        tx_info,\n",
    "        how=\"left\",\n",
    "        on=\"txId\"\n",
    "    ) \\\n",
    "    .rename(columns={\"input_address\": \"addrId\"})\n",
    "addr_to_ts\n",
    "\n",
    "train_split = addr_to_ts[\n",
    "    (addr_to_ts[\"Time step\"] <= CUTOFF)\n",
    "    & ~(addr_to_ts[\"addrId\"].isin(addr_to_ts[ addr_to_ts[\"Time step\"] > CUTOFF ][\"addrId\"]))\n",
    "]\n",
    "train_split.shape, train_split[\"addrId\"].nunique(), addr_to_ts[\"addrId\"].nunique()\n",
    "\n",
    "test_split = addr_to_ts[\n",
    "    (addr_to_ts[\"Time step\"] > CUTOFF) &\n",
    "    # (~addr_to_ts[\"addrId\"].isin(train_split[\"addrId\"]))\n",
    "    ~(addr_to_ts[\"addrId\"].isin(addr_to_ts[ addr_to_ts[\"Time step\"] <= CUTOFF ][\"addrId\"]))\n",
    "]\n",
    "test_split.shape, test_split[\"addrId\"].nunique(), addr_to_ts[\"addrId\"].nunique()"
   ]
  },
  {
   "cell_type": "code",
   "execution_count": 26,
   "metadata": {},
   "outputs": [
    {
     "data": {
      "text/plain": [
       "41"
      ]
     },
     "execution_count": 26,
     "metadata": {},
     "output_type": "execute_result"
    }
   ],
   "source": [
    "addr_to_ts[addr_to_ts[\"addrId\"].isin(test_split[\"addrId\"])][\"Time step\"].min()"
   ]
  },
  {
   "cell_type": "code",
   "execution_count": 27,
   "metadata": {},
   "outputs": [],
   "source": [
    "wallets_features = pd.read_csv(\"../dataset/custom/wallets_features_aggregated.csv\")"
   ]
  },
  {
   "cell_type": "code",
   "execution_count": 28,
   "metadata": {},
   "outputs": [],
   "source": [
    "train_dataset = wallets_features[wallets_features[\"addrId\"].isin(train_split[\"addrId\"])]\n",
    "test_dataset = wallets_features[wallets_features[\"addrId\"].isin(test_split[\"addrId\"])]"
   ]
  },
  {
   "cell_type": "code",
   "execution_count": 29,
   "metadata": {},
   "outputs": [
    {
     "data": {
      "text/plain": [
       "(0, 46)"
      ]
     },
     "execution_count": 29,
     "metadata": {},
     "output_type": "execute_result"
    }
   ],
   "source": [
    "train_dataset[train_dataset[\"addrId\"].isin(test_dataset[\"addrId\"])].shape"
   ]
  },
  {
   "cell_type": "code",
   "execution_count": 30,
   "metadata": {},
   "outputs": [],
   "source": [
    "train_dataset.to_csv(\"../dataset/custom/train_test_split/wallets_features_aggregated__train.csv\", index=False)\n",
    "test_dataset.to_csv(\"../dataset/custom/train_test_split/wallets_features_aggregated__test.csv\", index=False)"
   ]
  },
  {
   "cell_type": "code",
   "execution_count": 31,
   "metadata": {},
   "outputs": [
    {
     "data": {
      "text/html": [
       "<div>\n",
       "<style scoped>\n",
       "    .dataframe tbody tr th:only-of-type {\n",
       "        vertical-align: middle;\n",
       "    }\n",
       "\n",
       "    .dataframe tbody tr th {\n",
       "        vertical-align: top;\n",
       "    }\n",
       "\n",
       "    .dataframe thead th {\n",
       "        text-align: right;\n",
       "    }\n",
       "</style>\n",
       "<table border=\"1\" class=\"dataframe\">\n",
       "  <thead>\n",
       "    <tr style=\"text-align: right;\">\n",
       "      <th></th>\n",
       "      <th>class</th>\n",
       "      <th>num_timesteps_appeared_in</th>\n",
       "      <th>fees_median</th>\n",
       "      <th>num_addr_transacted_multiple</th>\n",
       "      <th>addrId</th>\n",
       "      <th>userId</th>\n",
       "      <th>user_ts_fees_share_mean</th>\n",
       "      <th>user_ts_fees_share_min</th>\n",
       "      <th>user_ts_fees_share_max</th>\n",
       "      <th>user_addr_cnt</th>\n",
       "      <th>...</th>\n",
       "      <th>btc_sent_min</th>\n",
       "      <th>btc_received_min</th>\n",
       "      <th>fees_min</th>\n",
       "      <th>transacted_w_address_min</th>\n",
       "      <th>btc_transacted_max</th>\n",
       "      <th>btc_sent_max</th>\n",
       "      <th>btc_received_max</th>\n",
       "      <th>fees_max</th>\n",
       "      <th>last_block_appeared_in</th>\n",
       "      <th>transacted_w_address_max</th>\n",
       "    </tr>\n",
       "  </thead>\n",
       "  <tbody>\n",
       "    <tr>\n",
       "      <th>1653</th>\n",
       "      <td>1</td>\n",
       "      <td>1.0</td>\n",
       "      <td>0.000037</td>\n",
       "      <td>0.0</td>\n",
       "      <td>1LUwMvFBLBpofVFmFpZE6GLu2Bt6dmE9t3</td>\n",
       "      <td>509812</td>\n",
       "      <td>0.101106</td>\n",
       "      <td>0.101106</td>\n",
       "      <td>0.101106</td>\n",
       "      <td>1</td>\n",
       "      <td>...</td>\n",
       "      <td>0.00000</td>\n",
       "      <td>0.0</td>\n",
       "      <td>0.000037</td>\n",
       "      <td>1.0</td>\n",
       "      <td>0.17695</td>\n",
       "      <td>0.07725</td>\n",
       "      <td>0.17695</td>\n",
       "      <td>0.000217</td>\n",
       "      <td>433546.0</td>\n",
       "      <td>1.0</td>\n",
       "    </tr>\n",
       "    <tr>\n",
       "      <th>1654</th>\n",
       "      <td>1</td>\n",
       "      <td>1.0</td>\n",
       "      <td>0.000040</td>\n",
       "      <td>0.0</td>\n",
       "      <td>17fuBJ5qquYF6VTX8n19t9yccp95vWEVME</td>\n",
       "      <td>331400</td>\n",
       "      <td>0.194991</td>\n",
       "      <td>0.194991</td>\n",
       "      <td>0.194991</td>\n",
       "      <td>4</td>\n",
       "      <td>...</td>\n",
       "      <td>0.00026</td>\n",
       "      <td>0.0</td>\n",
       "      <td>0.000040</td>\n",
       "      <td>1.0</td>\n",
       "      <td>0.00026</td>\n",
       "      <td>0.00026</td>\n",
       "      <td>0.00000</td>\n",
       "      <td>0.000040</td>\n",
       "      <td>395236.0</td>\n",
       "      <td>1.0</td>\n",
       "    </tr>\n",
       "    <tr>\n",
       "      <th>1655</th>\n",
       "      <td>1</td>\n",
       "      <td>1.0</td>\n",
       "      <td>0.000040</td>\n",
       "      <td>0.0</td>\n",
       "      <td>1CQ77ewS2smh8aBP3pahuVEt67ga3YWvL9</td>\n",
       "      <td>331400</td>\n",
       "      <td>0.194991</td>\n",
       "      <td>0.194991</td>\n",
       "      <td>0.194991</td>\n",
       "      <td>4</td>\n",
       "      <td>...</td>\n",
       "      <td>0.00200</td>\n",
       "      <td>0.0</td>\n",
       "      <td>0.000040</td>\n",
       "      <td>1.0</td>\n",
       "      <td>0.00200</td>\n",
       "      <td>0.00200</td>\n",
       "      <td>0.00000</td>\n",
       "      <td>0.000040</td>\n",
       "      <td>395236.0</td>\n",
       "      <td>1.0</td>\n",
       "    </tr>\n",
       "    <tr>\n",
       "      <th>1656</th>\n",
       "      <td>1</td>\n",
       "      <td>1.0</td>\n",
       "      <td>0.000040</td>\n",
       "      <td>0.0</td>\n",
       "      <td>1EhTXo5svU9SJvk6ZvmKnFQwVDo6a5tKH2</td>\n",
       "      <td>331400</td>\n",
       "      <td>0.194991</td>\n",
       "      <td>0.194991</td>\n",
       "      <td>0.194991</td>\n",
       "      <td>4</td>\n",
       "      <td>...</td>\n",
       "      <td>0.00220</td>\n",
       "      <td>0.0</td>\n",
       "      <td>0.000040</td>\n",
       "      <td>1.0</td>\n",
       "      <td>0.00220</td>\n",
       "      <td>0.00220</td>\n",
       "      <td>0.00000</td>\n",
       "      <td>0.000040</td>\n",
       "      <td>395236.0</td>\n",
       "      <td>1.0</td>\n",
       "    </tr>\n",
       "    <tr>\n",
       "      <th>1657</th>\n",
       "      <td>1</td>\n",
       "      <td>1.0</td>\n",
       "      <td>0.000040</td>\n",
       "      <td>0.0</td>\n",
       "      <td>1GP4t8rAiZJ7wAcYZLL8f5sm9vdvUU9tUu</td>\n",
       "      <td>331400</td>\n",
       "      <td>0.194991</td>\n",
       "      <td>0.194991</td>\n",
       "      <td>0.194991</td>\n",
       "      <td>4</td>\n",
       "      <td>...</td>\n",
       "      <td>0.00178</td>\n",
       "      <td>0.0</td>\n",
       "      <td>0.000040</td>\n",
       "      <td>1.0</td>\n",
       "      <td>0.00178</td>\n",
       "      <td>0.00178</td>\n",
       "      <td>0.00000</td>\n",
       "      <td>0.000040</td>\n",
       "      <td>395236.0</td>\n",
       "      <td>1.0</td>\n",
       "    </tr>\n",
       "  </tbody>\n",
       "</table>\n",
       "<p>5 rows × 46 columns</p>\n",
       "</div>"
      ],
      "text/plain": [
       "      class  num_timesteps_appeared_in  fees_median  \\\n",
       "1653      1                        1.0     0.000037   \n",
       "1654      1                        1.0     0.000040   \n",
       "1655      1                        1.0     0.000040   \n",
       "1656      1                        1.0     0.000040   \n",
       "1657      1                        1.0     0.000040   \n",
       "\n",
       "      num_addr_transacted_multiple                              addrId  \\\n",
       "1653                           0.0  1LUwMvFBLBpofVFmFpZE6GLu2Bt6dmE9t3   \n",
       "1654                           0.0  17fuBJ5qquYF6VTX8n19t9yccp95vWEVME   \n",
       "1655                           0.0  1CQ77ewS2smh8aBP3pahuVEt67ga3YWvL9   \n",
       "1656                           0.0  1EhTXo5svU9SJvk6ZvmKnFQwVDo6a5tKH2   \n",
       "1657                           0.0  1GP4t8rAiZJ7wAcYZLL8f5sm9vdvUU9tUu   \n",
       "\n",
       "      userId  user_ts_fees_share_mean  user_ts_fees_share_min  \\\n",
       "1653  509812                 0.101106                0.101106   \n",
       "1654  331400                 0.194991                0.194991   \n",
       "1655  331400                 0.194991                0.194991   \n",
       "1656  331400                 0.194991                0.194991   \n",
       "1657  331400                 0.194991                0.194991   \n",
       "\n",
       "      user_ts_fees_share_max  user_addr_cnt  ...  btc_sent_min  \\\n",
       "1653                0.101106              1  ...       0.00000   \n",
       "1654                0.194991              4  ...       0.00026   \n",
       "1655                0.194991              4  ...       0.00200   \n",
       "1656                0.194991              4  ...       0.00220   \n",
       "1657                0.194991              4  ...       0.00178   \n",
       "\n",
       "      btc_received_min  fees_min  transacted_w_address_min  \\\n",
       "1653               0.0  0.000037                       1.0   \n",
       "1654               0.0  0.000040                       1.0   \n",
       "1655               0.0  0.000040                       1.0   \n",
       "1656               0.0  0.000040                       1.0   \n",
       "1657               0.0  0.000040                       1.0   \n",
       "\n",
       "      btc_transacted_max  btc_sent_max  btc_received_max  fees_max  \\\n",
       "1653             0.17695       0.07725           0.17695  0.000217   \n",
       "1654             0.00026       0.00026           0.00000  0.000040   \n",
       "1655             0.00200       0.00200           0.00000  0.000040   \n",
       "1656             0.00220       0.00220           0.00000  0.000040   \n",
       "1657             0.00178       0.00178           0.00000  0.000040   \n",
       "\n",
       "      last_block_appeared_in  transacted_w_address_max  \n",
       "1653                433546.0                       1.0  \n",
       "1654                395236.0                       1.0  \n",
       "1655                395236.0                       1.0  \n",
       "1656                395236.0                       1.0  \n",
       "1657                395236.0                       1.0  \n",
       "\n",
       "[5 rows x 46 columns]"
      ]
     },
     "execution_count": 31,
     "metadata": {},
     "output_type": "execute_result"
    }
   ],
   "source": [
    "train_dataset.head()"
   ]
  },
  {
   "cell_type": "code",
   "execution_count": 42,
   "metadata": {},
   "outputs": [
    {
     "data": {
      "text/plain": [
       "<Axes: title={'center': 'Adresses number - Licit + illicit'}, xlabel='btc_received_total', ylabel='Probability'>"
      ]
     },
     "execution_count": 42,
     "metadata": {},
     "output_type": "execute_result"
    },
    {
     "data": {
      "image/png": "[encoded data removed]",
      "text/plain": [
       "<Figure size 700x700 with 1 Axes>"
      ]
     },
     "metadata": {},
     "output_type": "display_data"
    }
   ],
   "source": [
    "fig, ax = plt.subplots(1,1, figsize=(7,7))\n",
    "\n",
    "sns.histplot(\n",
    "    train_dataset[train_dataset[\"btc_received_total\"] < 0.1][\"btc_received_total\"],\n",
    "    ax=ax,\n",
    "    bins=130,\n",
    "    stat=\"probability\"\n",
    ")\n",
    "ax.set_title(\"Adresses number - Licit + illicit\")\n",
    "# ax.set_yscale(\"log\")\n",
    "# ax[0].set_xbound((0,100))\n",
    "\n",
    "sns.histplot(\n",
    "    test_dataset[test_dataset[\"btc_received_total\"] < 0.1][\"btc_received_total\"],\n",
    "    ax=ax,\n",
    "    bins=130,\n",
    "    stat=\"probability\"\n",
    ")\n"
   ]
  },
  {
   "cell_type": "code",
   "execution_count": null,
   "metadata": {},
   "outputs": [
    {
     "data": {
      "text/plain": [
       "<Axes: title={'center': 'Adresses number - Licit + illicit'}, xlabel='fees_max', ylabel='Probability'>"
      ]
     },
     "execution_count": 45,
     "metadata": {},
     "output_type": "execute_result"
    },
    {
     "data": {
      "image/png": "[encoded data removed]",
      "text/plain": [
       "<Figure size 700x700 with 1 Axes>"
      ]
     },
     "metadata": {},
     "output_type": "display_data"
    }
   ],
   "source": [
    "fig, ax = plt.subplots(1,1, figsize=(7,7))\n",
    "\n",
    "sns.histplot(\n",
    "    train_dataset[train_dataset[\"fees_max\"] < 10][\"fees_max\"],\n",
    "    ax=ax,\n",
    "    bins=130,\n",
    "    stat=\"probability\"\n",
    ")\n",
    "ax.set_title(\"Adresses number - Licit + illicit\")\n",
    "# ax.set_yscale(\"log\")\n",
    "# ax[0].set_xbound((0,100))\n",
    "\n",
    "sns.histplot(\n",
    "    test_dataset[test_dataset[\"fees_max\"] < 10][\"fees_max\"],\n",
    "    ax=ax,\n",
    "    bins=130,\n",
    "    stat=\"probability\"\n",
    ")\n"
   ]
  },
  {
   "cell_type": "code",
   "execution_count": null,
   "metadata": {},
   "outputs": [],
   "source": []
  }
 ],
 "metadata": {
  "kernelspec": {
   "display_name": "Python 3",
   "language": "python",
   "name": "python3"
  },
  "language_info": {
   "codemirror_mode": {
    "name": "ipython",
    "version": 3
   },
   "file_extension": ".py",
   "mimetype": "text/x-python",
   "name": "python",
   "nbconvert_exporter": "python",
   "pygments_lexer": "ipython3",
   "version": "3.9.6"
  }
 },
 "nbformat": 4,
 "nbformat_minor": 2
}
