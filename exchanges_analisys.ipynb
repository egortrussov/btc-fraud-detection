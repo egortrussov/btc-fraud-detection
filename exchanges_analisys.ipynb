{
 "cells": [
  {
   "cell_type": "code",
   "execution_count": 18,
   "metadata": {},
   "outputs": [],
   "source": [
    "import pandas as pd\n",
    "import numpy as np\n",
    "\n",
    "import matplotlib.pyplot as plt\n",
    "import seaborn as sns\n",
    "\n",
    "%matplotlib inline\n",
    "\n",
    "sns.set(style=\"darkgrid\")\n",
    "\n",
    "np.random.seed(0)\n",
    "import warnings\n",
    "warnings.filterwarnings('ignore')\n",
    "warnings.simplefilter('ignore')\n"
   ]
  },
  {
   "cell_type": "code",
   "execution_count": 19,
   "metadata": {},
   "outputs": [],
   "source": [
    "wallets_feats = pd.read_csv(\"./dataset/custom/features_fixed/wallets_features_with_users_agg.csv\")"
   ]
  },
  {
   "cell_type": "code",
   "execution_count": 20,
   "metadata": {},
   "outputs": [
    {
     "data": {
      "text/html": [
       "<div>\n",
       "<style scoped>\n",
       "    .dataframe tbody tr th:only-of-type {\n",
       "        vertical-align: middle;\n",
       "    }\n",
       "\n",
       "    .dataframe tbody tr th {\n",
       "        vertical-align: top;\n",
       "    }\n",
       "\n",
       "    .dataframe thead th {\n",
       "        text-align: right;\n",
       "    }\n",
       "</style>\n",
       "<table border=\"1\" class=\"dataframe\">\n",
       "  <thead>\n",
       "    <tr style=\"text-align: right;\">\n",
       "      <th></th>\n",
       "      <th>addrId</th>\n",
       "      <th>btc_received_total</th>\n",
       "      <th>btc_received_min</th>\n",
       "      <th>btc_received_max</th>\n",
       "      <th>btc_received_mean</th>\n",
       "      <th>incoming_tx_cnt</th>\n",
       "      <th>incoming_tx_input_address_cnt_mean</th>\n",
       "      <th>incoming_tx_output_address_cnt_mean</th>\n",
       "      <th>btc_received_gini</th>\n",
       "      <th>input_address_cnt</th>\n",
       "      <th>...</th>\n",
       "      <th>user_btc_received_total</th>\n",
       "      <th>user_btc_sent_median</th>\n",
       "      <th>user_btc_received_median</th>\n",
       "      <th>user_interracted_output_address_cnt</th>\n",
       "      <th>user_interracted_input_address_cnt</th>\n",
       "      <th>user_overall_activity_coef</th>\n",
       "      <th>user_user_ts_fees_share_mean</th>\n",
       "      <th>user_user_ts_fees_share_min</th>\n",
       "      <th>user_user_ts_fees_share_max</th>\n",
       "      <th>user_whole_fee_5</th>\n",
       "    </tr>\n",
       "  </thead>\n",
       "  <tbody>\n",
       "    <tr>\n",
       "      <th>0</th>\n",
       "      <td>14YRXHHof4BY1TVxN5FqYPcEdpmXiYT78a</td>\n",
       "      <td>6.999303</td>\n",
       "      <td>6.999303</td>\n",
       "      <td>6.999303</td>\n",
       "      <td>6.999303</td>\n",
       "      <td>1.0</td>\n",
       "      <td>1.0</td>\n",
       "      <td>2.0</td>\n",
       "      <td>0.0</td>\n",
       "      <td>1.0</td>\n",
       "      <td>...</td>\n",
       "      <td>0.000000</td>\n",
       "      <td>0.174495</td>\n",
       "      <td>0.000000</td>\n",
       "      <td>2.0</td>\n",
       "      <td>1.0</td>\n",
       "      <td>0.000000</td>\n",
       "      <td>5.977542</td>\n",
       "      <td>5.977542</td>\n",
       "      <td>5.977542</td>\n",
       "      <td>1.0</td>\n",
       "    </tr>\n",
       "    <tr>\n",
       "      <th>1</th>\n",
       "      <td>13Lhad3SAmu2vqYg2dxbNcxH7LE77kJu2w</td>\n",
       "      <td>0.000000</td>\n",
       "      <td>0.000000</td>\n",
       "      <td>0.000000</td>\n",
       "      <td>0.000000</td>\n",
       "      <td>0.0</td>\n",
       "      <td>0.0</td>\n",
       "      <td>0.0</td>\n",
       "      <td>0.0</td>\n",
       "      <td>0.0</td>\n",
       "      <td>...</td>\n",
       "      <td>0.000000</td>\n",
       "      <td>5.525902</td>\n",
       "      <td>0.000000</td>\n",
       "      <td>1.0</td>\n",
       "      <td>0.0</td>\n",
       "      <td>0.000000</td>\n",
       "      <td>0.597754</td>\n",
       "      <td>0.597754</td>\n",
       "      <td>0.597754</td>\n",
       "      <td>1.0</td>\n",
       "    </tr>\n",
       "    <tr>\n",
       "      <th>2</th>\n",
       "      <td>1MAQQZn7EHP6J3erXByCciFiVcgS8ZhWqz</td>\n",
       "      <td>0.390310</td>\n",
       "      <td>0.390310</td>\n",
       "      <td>0.390310</td>\n",
       "      <td>0.390310</td>\n",
       "      <td>1.0</td>\n",
       "      <td>4.0</td>\n",
       "      <td>2.0</td>\n",
       "      <td>0.0</td>\n",
       "      <td>4.0</td>\n",
       "      <td>...</td>\n",
       "      <td>0.760619</td>\n",
       "      <td>5.905637</td>\n",
       "      <td>0.190155</td>\n",
       "      <td>2.0</td>\n",
       "      <td>4.0</td>\n",
       "      <td>0.333333</td>\n",
       "      <td>0.597754</td>\n",
       "      <td>0.597754</td>\n",
       "      <td>0.597754</td>\n",
       "      <td>1.0</td>\n",
       "    </tr>\n",
       "    <tr>\n",
       "      <th>3</th>\n",
       "      <td>16zs5SVSyADh5WrLNbZbpRLsBsN5uEzgeK</td>\n",
       "      <td>0.000000</td>\n",
       "      <td>0.000000</td>\n",
       "      <td>0.000000</td>\n",
       "      <td>0.000000</td>\n",
       "      <td>0.0</td>\n",
       "      <td>0.0</td>\n",
       "      <td>0.0</td>\n",
       "      <td>0.0</td>\n",
       "      <td>0.0</td>\n",
       "      <td>...</td>\n",
       "      <td>0.000000</td>\n",
       "      <td>3.770000</td>\n",
       "      <td>0.000000</td>\n",
       "      <td>1.0</td>\n",
       "      <td>0.0</td>\n",
       "      <td>0.000000</td>\n",
       "      <td>0.597754</td>\n",
       "      <td>0.597754</td>\n",
       "      <td>0.597754</td>\n",
       "      <td>1.0</td>\n",
       "    </tr>\n",
       "    <tr>\n",
       "      <th>4</th>\n",
       "      <td>1QJpwtUorBKPGUJkSyrRcBKTAHq4CXrdYh</td>\n",
       "      <td>3.200299</td>\n",
       "      <td>3.200299</td>\n",
       "      <td>3.200299</td>\n",
       "      <td>3.200299</td>\n",
       "      <td>1.0</td>\n",
       "      <td>1.0</td>\n",
       "      <td>2.0</td>\n",
       "      <td>0.0</td>\n",
       "      <td>1.0</td>\n",
       "      <td>...</td>\n",
       "      <td>0.000000</td>\n",
       "      <td>2.317006</td>\n",
       "      <td>0.000000</td>\n",
       "      <td>2.0</td>\n",
       "      <td>1.0</td>\n",
       "      <td>0.000000</td>\n",
       "      <td>0.597754</td>\n",
       "      <td>0.597754</td>\n",
       "      <td>0.597754</td>\n",
       "      <td>1.0</td>\n",
       "    </tr>\n",
       "  </tbody>\n",
       "</table>\n",
       "<p>5 rows × 56 columns</p>\n",
       "</div>"
      ],
      "text/plain": [
       "                               addrId  btc_received_total  btc_received_min  \\\n",
       "0  14YRXHHof4BY1TVxN5FqYPcEdpmXiYT78a            6.999303          6.999303   \n",
       "1  13Lhad3SAmu2vqYg2dxbNcxH7LE77kJu2w            0.000000          0.000000   \n",
       "2  1MAQQZn7EHP6J3erXByCciFiVcgS8ZhWqz            0.390310          0.390310   \n",
       "3  16zs5SVSyADh5WrLNbZbpRLsBsN5uEzgeK            0.000000          0.000000   \n",
       "4  1QJpwtUorBKPGUJkSyrRcBKTAHq4CXrdYh            3.200299          3.200299   \n",
       "\n",
       "   btc_received_max  btc_received_mean  incoming_tx_cnt  \\\n",
       "0          6.999303           6.999303              1.0   \n",
       "1          0.000000           0.000000              0.0   \n",
       "2          0.390310           0.390310              1.0   \n",
       "3          0.000000           0.000000              0.0   \n",
       "4          3.200299           3.200299              1.0   \n",
       "\n",
       "   incoming_tx_input_address_cnt_mean  incoming_tx_output_address_cnt_mean  \\\n",
       "0                                 1.0                                  2.0   \n",
       "1                                 0.0                                  0.0   \n",
       "2                                 4.0                                  2.0   \n",
       "3                                 0.0                                  0.0   \n",
       "4                                 1.0                                  2.0   \n",
       "\n",
       "   btc_received_gini  input_address_cnt  ...  user_btc_received_total  \\\n",
       "0                0.0                1.0  ...                 0.000000   \n",
       "1                0.0                0.0  ...                 0.000000   \n",
       "2                0.0                4.0  ...                 0.760619   \n",
       "3                0.0                0.0  ...                 0.000000   \n",
       "4                0.0                1.0  ...                 0.000000   \n",
       "\n",
       "   user_btc_sent_median  user_btc_received_median  \\\n",
       "0              0.174495                  0.000000   \n",
       "1              5.525902                  0.000000   \n",
       "2              5.905637                  0.190155   \n",
       "3              3.770000                  0.000000   \n",
       "4              2.317006                  0.000000   \n",
       "\n",
       "   user_interracted_output_address_cnt  user_interracted_input_address_cnt  \\\n",
       "0                                  2.0                                 1.0   \n",
       "1                                  1.0                                 0.0   \n",
       "2                                  2.0                                 4.0   \n",
       "3                                  1.0                                 0.0   \n",
       "4                                  2.0                                 1.0   \n",
       "\n",
       "   user_overall_activity_coef  user_user_ts_fees_share_mean  \\\n",
       "0                    0.000000                      5.977542   \n",
       "1                    0.000000                      0.597754   \n",
       "2                    0.333333                      0.597754   \n",
       "3                    0.000000                      0.597754   \n",
       "4                    0.000000                      0.597754   \n",
       "\n",
       "   user_user_ts_fees_share_min  user_user_ts_fees_share_max  user_whole_fee_5  \n",
       "0                     5.977542                     5.977542               1.0  \n",
       "1                     0.597754                     0.597754               1.0  \n",
       "2                     0.597754                     0.597754               1.0  \n",
       "3                     0.597754                     0.597754               1.0  \n",
       "4                     0.597754                     0.597754               1.0  \n",
       "\n",
       "[5 rows x 56 columns]"
      ]
     },
     "execution_count": 20,
     "metadata": {},
     "output_type": "execute_result"
    }
   ],
   "source": [
    "wallets_feats.head()"
   ]
  },
  {
   "cell_type": "code",
   "execution_count": 21,
   "metadata": {},
   "outputs": [
    {
     "data": {
      "text/plain": [
       "((43, 56), (822942, 56))"
      ]
     },
     "execution_count": 21,
     "metadata": {},
     "output_type": "execute_result"
    }
   ],
   "source": [
    "exchanges = wallets_feats[\n",
    "    (wallets_feats[\"input_address_cnt\"] > 100) &\n",
    "    (wallets_feats[\"output_address_cnt\"] > 100)\n",
    "]\n",
    "\n",
    "exchanges.shape, wallets_feats.shape"
   ]
  },
  {
   "cell_type": "code",
   "execution_count": 22,
   "metadata": {},
   "outputs": [
    {
     "data": {
      "text/plain": [
       "class\n",
       "2    23\n",
       "3    20\n",
       "Name: count, dtype: int64"
      ]
     },
     "execution_count": 22,
     "metadata": {},
     "output_type": "execute_result"
    }
   ],
   "source": [
    "exchanges[\"class\"].value_counts()"
   ]
  },
  {
   "cell_type": "code",
   "execution_count": 23,
   "metadata": {},
   "outputs": [],
   "source": [
    "exchanges_addresses = exchanges[\"addrId\"].reset_index().rename(columns={\"addrId\": \"exchange_id\"})"
   ]
  },
  {
   "cell_type": "code",
   "execution_count": 24,
   "metadata": {},
   "outputs": [
    {
     "data": {
      "text/html": [
       "<div>\n",
       "<style scoped>\n",
       "    .dataframe tbody tr th:only-of-type {\n",
       "        vertical-align: middle;\n",
       "    }\n",
       "\n",
       "    .dataframe tbody tr th {\n",
       "        vertical-align: top;\n",
       "    }\n",
       "\n",
       "    .dataframe thead th {\n",
       "        text-align: right;\n",
       "    }\n",
       "</style>\n",
       "<table border=\"1\" class=\"dataframe\">\n",
       "  <thead>\n",
       "    <tr style=\"text-align: right;\">\n",
       "      <th></th>\n",
       "      <th>exchange_id</th>\n",
       "      <th>output_address</th>\n",
       "      <th>addrId</th>\n",
       "      <th>class</th>\n",
       "    </tr>\n",
       "  </thead>\n",
       "  <tbody>\n",
       "    <tr>\n",
       "      <th>0</th>\n",
       "      <td>1FXqE2ixnnSB1kvwbMtWma5xQ2bVbkSq3f</td>\n",
       "      <td>1C4qDLgiKLcUZqiq4WxCSLMNBDZirz8bHX</td>\n",
       "      <td>1C4qDLgiKLcUZqiq4WxCSLMNBDZirz8bHX</td>\n",
       "      <td>2</td>\n",
       "    </tr>\n",
       "    <tr>\n",
       "      <th>1</th>\n",
       "      <td>1FXqE2ixnnSB1kvwbMtWma5xQ2bVbkSq3f</td>\n",
       "      <td>1hMhdsmRp7zfMgbHaiLpEvuGBNoAhm5qZ</td>\n",
       "      <td>1hMhdsmRp7zfMgbHaiLpEvuGBNoAhm5qZ</td>\n",
       "      <td>2</td>\n",
       "    </tr>\n",
       "    <tr>\n",
       "      <th>2</th>\n",
       "      <td>1FXqE2ixnnSB1kvwbMtWma5xQ2bVbkSq3f</td>\n",
       "      <td>1A1ZDydJfJBy4KrNbwbfGzr1EfqdFupBaP</td>\n",
       "      <td>1A1ZDydJfJBy4KrNbwbfGzr1EfqdFupBaP</td>\n",
       "      <td>2</td>\n",
       "    </tr>\n",
       "    <tr>\n",
       "      <th>3</th>\n",
       "      <td>1FXqE2ixnnSB1kvwbMtWma5xQ2bVbkSq3f</td>\n",
       "      <td>1PZS9VLJixGw1YgVJC4xNLDtarZHeSLM3M</td>\n",
       "      <td>1PZS9VLJixGw1YgVJC4xNLDtarZHeSLM3M</td>\n",
       "      <td>2</td>\n",
       "    </tr>\n",
       "    <tr>\n",
       "      <th>4</th>\n",
       "      <td>1FXqE2ixnnSB1kvwbMtWma5xQ2bVbkSq3f</td>\n",
       "      <td>16BaERnyURZoe89rt2yBpyZneEPM99zKfR</td>\n",
       "      <td>16BaERnyURZoe89rt2yBpyZneEPM99zKfR</td>\n",
       "      <td>3</td>\n",
       "    </tr>\n",
       "    <tr>\n",
       "      <th>...</th>\n",
       "      <td>...</td>\n",
       "      <td>...</td>\n",
       "      <td>...</td>\n",
       "      <td>...</td>\n",
       "    </tr>\n",
       "    <tr>\n",
       "      <th>41153</th>\n",
       "      <td>16ejK7NJ9B5D1t6k6fQiJEBo4swgCPV5rc</td>\n",
       "      <td>1PUHtfV8yhYaCNMskYraLRCUgkXCyrjLUV</td>\n",
       "      <td>1PUHtfV8yhYaCNMskYraLRCUgkXCyrjLUV</td>\n",
       "      <td>2</td>\n",
       "    </tr>\n",
       "    <tr>\n",
       "      <th>41154</th>\n",
       "      <td>16ejK7NJ9B5D1t6k6fQiJEBo4swgCPV5rc</td>\n",
       "      <td>1HvViTakugcFRwQLnaAF4jBLirUbcH63at</td>\n",
       "      <td>1HvViTakugcFRwQLnaAF4jBLirUbcH63at</td>\n",
       "      <td>2</td>\n",
       "    </tr>\n",
       "    <tr>\n",
       "      <th>41155</th>\n",
       "      <td>16ejK7NJ9B5D1t6k6fQiJEBo4swgCPV5rc</td>\n",
       "      <td>1QDBJcE98V6EJc96sZSJAVxFDK821WHcVt</td>\n",
       "      <td>1QDBJcE98V6EJc96sZSJAVxFDK821WHcVt</td>\n",
       "      <td>2</td>\n",
       "    </tr>\n",
       "    <tr>\n",
       "      <th>41156</th>\n",
       "      <td>16ejK7NJ9B5D1t6k6fQiJEBo4swgCPV5rc</td>\n",
       "      <td>3DLPEEngqwjAKPz7SgmMXMAtLWag4vnB2W</td>\n",
       "      <td>3DLPEEngqwjAKPz7SgmMXMAtLWag4vnB2W</td>\n",
       "      <td>2</td>\n",
       "    </tr>\n",
       "    <tr>\n",
       "      <th>41157</th>\n",
       "      <td>16ejK7NJ9B5D1t6k6fQiJEBo4swgCPV5rc</td>\n",
       "      <td>37H5Pr9VizgSqSkAb5SPxqdmBE5ZLiHEgn</td>\n",
       "      <td>37H5Pr9VizgSqSkAb5SPxqdmBE5ZLiHEgn</td>\n",
       "      <td>2</td>\n",
       "    </tr>\n",
       "  </tbody>\n",
       "</table>\n",
       "<p>41158 rows × 4 columns</p>\n",
       "</div>"
      ],
      "text/plain": [
       "                              exchange_id                      output_address  \\\n",
       "0      1FXqE2ixnnSB1kvwbMtWma5xQ2bVbkSq3f  1C4qDLgiKLcUZqiq4WxCSLMNBDZirz8bHX   \n",
       "1      1FXqE2ixnnSB1kvwbMtWma5xQ2bVbkSq3f   1hMhdsmRp7zfMgbHaiLpEvuGBNoAhm5qZ   \n",
       "2      1FXqE2ixnnSB1kvwbMtWma5xQ2bVbkSq3f  1A1ZDydJfJBy4KrNbwbfGzr1EfqdFupBaP   \n",
       "3      1FXqE2ixnnSB1kvwbMtWma5xQ2bVbkSq3f  1PZS9VLJixGw1YgVJC4xNLDtarZHeSLM3M   \n",
       "4      1FXqE2ixnnSB1kvwbMtWma5xQ2bVbkSq3f  16BaERnyURZoe89rt2yBpyZneEPM99zKfR   \n",
       "...                                   ...                                 ...   \n",
       "41153  16ejK7NJ9B5D1t6k6fQiJEBo4swgCPV5rc  1PUHtfV8yhYaCNMskYraLRCUgkXCyrjLUV   \n",
       "41154  16ejK7NJ9B5D1t6k6fQiJEBo4swgCPV5rc  1HvViTakugcFRwQLnaAF4jBLirUbcH63at   \n",
       "41155  16ejK7NJ9B5D1t6k6fQiJEBo4swgCPV5rc  1QDBJcE98V6EJc96sZSJAVxFDK821WHcVt   \n",
       "41156  16ejK7NJ9B5D1t6k6fQiJEBo4swgCPV5rc  3DLPEEngqwjAKPz7SgmMXMAtLWag4vnB2W   \n",
       "41157  16ejK7NJ9B5D1t6k6fQiJEBo4swgCPV5rc  37H5Pr9VizgSqSkAb5SPxqdmBE5ZLiHEgn   \n",
       "\n",
       "                                   addrId  class  \n",
       "0      1C4qDLgiKLcUZqiq4WxCSLMNBDZirz8bHX      2  \n",
       "1       1hMhdsmRp7zfMgbHaiLpEvuGBNoAhm5qZ      2  \n",
       "2      1A1ZDydJfJBy4KrNbwbfGzr1EfqdFupBaP      2  \n",
       "3      1PZS9VLJixGw1YgVJC4xNLDtarZHeSLM3M      2  \n",
       "4      16BaERnyURZoe89rt2yBpyZneEPM99zKfR      3  \n",
       "...                                   ...    ...  \n",
       "41153  1PUHtfV8yhYaCNMskYraLRCUgkXCyrjLUV      2  \n",
       "41154  1HvViTakugcFRwQLnaAF4jBLirUbcH63at      2  \n",
       "41155  1QDBJcE98V6EJc96sZSJAVxFDK821WHcVt      2  \n",
       "41156  3DLPEEngqwjAKPz7SgmMXMAtLWag4vnB2W      2  \n",
       "41157  37H5Pr9VizgSqSkAb5SPxqdmBE5ZLiHEgn      2  \n",
       "\n",
       "[41158 rows x 4 columns]"
      ]
     },
     "execution_count": 24,
     "metadata": {},
     "output_type": "execute_result"
    }
   ],
   "source": [
    "\n",
    "addr_addr_edges = pd.read_csv(\"./dataset/Elliptic++ Dataset/AddrAddr_edgelist.csv\")\n",
    "\n",
    "exchanges_to_output_nei = exchanges_addresses.merge(\n",
    "    addr_addr_edges,\n",
    "    how=\"left\",\n",
    "    left_on=\"exchange_id\",\n",
    "    right_on=\"input_address\"\n",
    ")[[\"exchange_id\", \"output_address\"]].merge(\n",
    "    wallets_feats[[\"addrId\", \"class\"]],\n",
    "    how=\"left\",\n",
    "    left_on=\"output_address\",\n",
    "    right_on=\"addrId\"\n",
    ")\n",
    "exchanges_to_output_nei"
   ]
  },
  {
   "cell_type": "code",
   "execution_count": 25,
   "metadata": {},
   "outputs": [
    {
     "data": {
      "text/plain": [
       "class\n",
       "2    30431\n",
       "3    10702\n",
       "1       25\n",
       "Name: count, dtype: int64"
      ]
     },
     "execution_count": 25,
     "metadata": {},
     "output_type": "execute_result"
    }
   ],
   "source": [
    "exchanges_to_output_nei[\"class\"].value_counts()"
   ]
  },
  {
   "cell_type": "code",
   "execution_count": 26,
   "metadata": {},
   "outputs": [
    {
     "data": {
      "text/html": [
       "<div>\n",
       "<style scoped>\n",
       "    .dataframe tbody tr th:only-of-type {\n",
       "        vertical-align: middle;\n",
       "    }\n",
       "\n",
       "    .dataframe tbody tr th {\n",
       "        vertical-align: top;\n",
       "    }\n",
       "\n",
       "    .dataframe thead th {\n",
       "        text-align: right;\n",
       "    }\n",
       "</style>\n",
       "<table border=\"1\" class=\"dataframe\">\n",
       "  <thead>\n",
       "    <tr style=\"text-align: right;\">\n",
       "      <th></th>\n",
       "      <th>exchange_id</th>\n",
       "      <th>input_address</th>\n",
       "      <th>addrId</th>\n",
       "      <th>class</th>\n",
       "    </tr>\n",
       "  </thead>\n",
       "  <tbody>\n",
       "    <tr>\n",
       "      <th>0</th>\n",
       "      <td>1FXqE2ixnnSB1kvwbMtWma5xQ2bVbkSq3f</td>\n",
       "      <td>1P2axntqznyH2drAzF7Fjv4kM2Vg2kBpHr</td>\n",
       "      <td>1P2axntqznyH2drAzF7Fjv4kM2Vg2kBpHr</td>\n",
       "      <td>2</td>\n",
       "    </tr>\n",
       "    <tr>\n",
       "      <th>1</th>\n",
       "      <td>1FXqE2ixnnSB1kvwbMtWma5xQ2bVbkSq3f</td>\n",
       "      <td>18Fvt2mc4ie3SfskZxn9VV3F3dGFWqxVB1</td>\n",
       "      <td>18Fvt2mc4ie3SfskZxn9VV3F3dGFWqxVB1</td>\n",
       "      <td>2</td>\n",
       "    </tr>\n",
       "    <tr>\n",
       "      <th>2</th>\n",
       "      <td>1FXqE2ixnnSB1kvwbMtWma5xQ2bVbkSq3f</td>\n",
       "      <td>1DFvKT9oMFtr9DL11QTWEnbWgrZgZ4FZn1</td>\n",
       "      <td>1DFvKT9oMFtr9DL11QTWEnbWgrZgZ4FZn1</td>\n",
       "      <td>2</td>\n",
       "    </tr>\n",
       "    <tr>\n",
       "      <th>3</th>\n",
       "      <td>1FXqE2ixnnSB1kvwbMtWma5xQ2bVbkSq3f</td>\n",
       "      <td>15zH5ufzHHMrPHiTVMccmTQNpkV7NmfY6d</td>\n",
       "      <td>15zH5ufzHHMrPHiTVMccmTQNpkV7NmfY6d</td>\n",
       "      <td>2</td>\n",
       "    </tr>\n",
       "    <tr>\n",
       "      <th>4</th>\n",
       "      <td>1FXqE2ixnnSB1kvwbMtWma5xQ2bVbkSq3f</td>\n",
       "      <td>1KNZ2kRVcPbz1Qjq8Fanrc8CmHk64yYiix</td>\n",
       "      <td>1KNZ2kRVcPbz1Qjq8Fanrc8CmHk64yYiix</td>\n",
       "      <td>2</td>\n",
       "    </tr>\n",
       "    <tr>\n",
       "      <th>...</th>\n",
       "      <td>...</td>\n",
       "      <td>...</td>\n",
       "      <td>...</td>\n",
       "      <td>...</td>\n",
       "    </tr>\n",
       "    <tr>\n",
       "      <th>59101</th>\n",
       "      <td>16ejK7NJ9B5D1t6k6fQiJEBo4swgCPV5rc</td>\n",
       "      <td>1Me1b7bzGscq6EyJMcENNhwvRTxHmMdhsz</td>\n",
       "      <td>1Me1b7bzGscq6EyJMcENNhwvRTxHmMdhsz</td>\n",
       "      <td>2</td>\n",
       "    </tr>\n",
       "    <tr>\n",
       "      <th>59102</th>\n",
       "      <td>16ejK7NJ9B5D1t6k6fQiJEBo4swgCPV5rc</td>\n",
       "      <td>19SuLrkGgcbF4FGiUAdD8UGYaKLNHEEAvT</td>\n",
       "      <td>19SuLrkGgcbF4FGiUAdD8UGYaKLNHEEAvT</td>\n",
       "      <td>3</td>\n",
       "    </tr>\n",
       "    <tr>\n",
       "      <th>59103</th>\n",
       "      <td>16ejK7NJ9B5D1t6k6fQiJEBo4swgCPV5rc</td>\n",
       "      <td>15nmNVEb1xSuSKJogENytMjVnQRHWqHFJc</td>\n",
       "      <td>15nmNVEb1xSuSKJogENytMjVnQRHWqHFJc</td>\n",
       "      <td>3</td>\n",
       "    </tr>\n",
       "    <tr>\n",
       "      <th>59104</th>\n",
       "      <td>16ejK7NJ9B5D1t6k6fQiJEBo4swgCPV5rc</td>\n",
       "      <td>1BBXFx7HFqWYBBWL4kNgJnCEVhQ1cuS5ka</td>\n",
       "      <td>1BBXFx7HFqWYBBWL4kNgJnCEVhQ1cuS5ka</td>\n",
       "      <td>2</td>\n",
       "    </tr>\n",
       "    <tr>\n",
       "      <th>59105</th>\n",
       "      <td>16ejK7NJ9B5D1t6k6fQiJEBo4swgCPV5rc</td>\n",
       "      <td>14NB7VR5YmhpmnHidqEftW2sE7nnV9T9bh</td>\n",
       "      <td>14NB7VR5YmhpmnHidqEftW2sE7nnV9T9bh</td>\n",
       "      <td>3</td>\n",
       "    </tr>\n",
       "  </tbody>\n",
       "</table>\n",
       "<p>59106 rows × 4 columns</p>\n",
       "</div>"
      ],
      "text/plain": [
       "                              exchange_id                       input_address  \\\n",
       "0      1FXqE2ixnnSB1kvwbMtWma5xQ2bVbkSq3f  1P2axntqznyH2drAzF7Fjv4kM2Vg2kBpHr   \n",
       "1      1FXqE2ixnnSB1kvwbMtWma5xQ2bVbkSq3f  18Fvt2mc4ie3SfskZxn9VV3F3dGFWqxVB1   \n",
       "2      1FXqE2ixnnSB1kvwbMtWma5xQ2bVbkSq3f  1DFvKT9oMFtr9DL11QTWEnbWgrZgZ4FZn1   \n",
       "3      1FXqE2ixnnSB1kvwbMtWma5xQ2bVbkSq3f  15zH5ufzHHMrPHiTVMccmTQNpkV7NmfY6d   \n",
       "4      1FXqE2ixnnSB1kvwbMtWma5xQ2bVbkSq3f  1KNZ2kRVcPbz1Qjq8Fanrc8CmHk64yYiix   \n",
       "...                                   ...                                 ...   \n",
       "59101  16ejK7NJ9B5D1t6k6fQiJEBo4swgCPV5rc  1Me1b7bzGscq6EyJMcENNhwvRTxHmMdhsz   \n",
       "59102  16ejK7NJ9B5D1t6k6fQiJEBo4swgCPV5rc  19SuLrkGgcbF4FGiUAdD8UGYaKLNHEEAvT   \n",
       "59103  16ejK7NJ9B5D1t6k6fQiJEBo4swgCPV5rc  15nmNVEb1xSuSKJogENytMjVnQRHWqHFJc   \n",
       "59104  16ejK7NJ9B5D1t6k6fQiJEBo4swgCPV5rc  1BBXFx7HFqWYBBWL4kNgJnCEVhQ1cuS5ka   \n",
       "59105  16ejK7NJ9B5D1t6k6fQiJEBo4swgCPV5rc  14NB7VR5YmhpmnHidqEftW2sE7nnV9T9bh   \n",
       "\n",
       "                                   addrId  class  \n",
       "0      1P2axntqznyH2drAzF7Fjv4kM2Vg2kBpHr      2  \n",
       "1      18Fvt2mc4ie3SfskZxn9VV3F3dGFWqxVB1      2  \n",
       "2      1DFvKT9oMFtr9DL11QTWEnbWgrZgZ4FZn1      2  \n",
       "3      15zH5ufzHHMrPHiTVMccmTQNpkV7NmfY6d      2  \n",
       "4      1KNZ2kRVcPbz1Qjq8Fanrc8CmHk64yYiix      2  \n",
       "...                                   ...    ...  \n",
       "59101  1Me1b7bzGscq6EyJMcENNhwvRTxHmMdhsz      2  \n",
       "59102  19SuLrkGgcbF4FGiUAdD8UGYaKLNHEEAvT      3  \n",
       "59103  15nmNVEb1xSuSKJogENytMjVnQRHWqHFJc      3  \n",
       "59104  1BBXFx7HFqWYBBWL4kNgJnCEVhQ1cuS5ka      2  \n",
       "59105  14NB7VR5YmhpmnHidqEftW2sE7nnV9T9bh      3  \n",
       "\n",
       "[59106 rows x 4 columns]"
      ]
     },
     "execution_count": 26,
     "metadata": {},
     "output_type": "execute_result"
    }
   ],
   "source": [
    "\n",
    "addr_addr_edges = pd.read_csv(\"./dataset/Elliptic++ Dataset/AddrAddr_edgelist.csv\")\n",
    "\n",
    "exchanges_to_input_nei = exchanges_addresses.merge(\n",
    "    addr_addr_edges,\n",
    "    how=\"left\",\n",
    "    left_on=\"exchange_id\",\n",
    "    right_on=\"output_address\"\n",
    ")[[\"exchange_id\", \"input_address\"]].merge(\n",
    "    wallets_feats[[\"addrId\", \"class\"]],\n",
    "    how=\"left\",\n",
    "    left_on=\"input_address\",\n",
    "    right_on=\"addrId\"\n",
    ")\n",
    "exchanges_to_input_nei"
   ]
  },
  {
   "cell_type": "code",
   "execution_count": 27,
   "metadata": {},
   "outputs": [
    {
     "data": {
      "text/plain": [
       "class\n",
       "2    32173\n",
       "3    26902\n",
       "1       31\n",
       "Name: count, dtype: int64"
      ]
     },
     "execution_count": 27,
     "metadata": {},
     "output_type": "execute_result"
    }
   ],
   "source": [
    "exchanges_to_input_nei[\"class\"].value_counts()"
   ]
  },
  {
   "cell_type": "code",
   "execution_count": 28,
   "metadata": {},
   "outputs": [
    {
     "data": {
      "text/plain": [
       "class\n",
       "3    557588\n",
       "2    251088\n",
       "1     14266\n",
       "Name: count, dtype: int64"
      ]
     },
     "execution_count": 28,
     "metadata": {},
     "output_type": "execute_result"
    }
   ],
   "source": [
    "wallets_feats[\"class\"].value_counts()"
   ]
  },
  {
   "cell_type": "code",
   "execution_count": 29,
   "metadata": {},
   "outputs": [
    {
     "data": {
      "text/plain": [
       "(0.01764118138784878, 0.0005247566652560305)"
      ]
     },
     "execution_count": 29,
     "metadata": {},
     "output_type": "execute_result"
    }
   ],
   "source": [
    "14266/(251088 + 557588), 31 / (26902 + 32173)"
   ]
  },
  {
   "cell_type": "code",
   "execution_count": 30,
   "metadata": {},
   "outputs": [
    {
     "data": {
      "text/plain": [
       "33.61783195119892"
      ]
     },
     "execution_count": 30,
     "metadata": {},
     "output_type": "execute_result"
    }
   ],
   "source": [
    "(0.01764118138784878 / 0.0005247566652560305)"
   ]
  },
  {
   "cell_type": "code",
   "execution_count": 31,
   "metadata": {},
   "outputs": [
    {
     "data": {
      "text/plain": [
       "((62622, 56), 62622)"
      ]
     },
     "execution_count": 31,
     "metadata": {},
     "output_type": "execute_result"
    }
   ],
   "source": [
    "wallets_transacted_w_exchange = set(exchanges_to_input_nei[\"input_address\"].tolist() + exchanges_to_output_nei[\"output_address\"].tolist())\n",
    "\n",
    "wallets_transacted_w_exchange_feats = wallets_feats[wallets_feats[\"addrId\"].isin(wallets_transacted_w_exchange)]\n",
    "wallets_transacted_w_exchange_feats.shape, len(wallets_transacted_w_exchange)"
   ]
  },
  {
   "cell_type": "code",
   "execution_count": 32,
   "metadata": {},
   "outputs": [
    {
     "data": {
      "text/plain": [
       "class\n",
       "2    38324\n",
       "3    24256\n",
       "1       42\n",
       "Name: count, dtype: int64"
      ]
     },
     "execution_count": 32,
     "metadata": {},
     "output_type": "execute_result"
    }
   ],
   "source": [
    "wallets_transacted_w_exchange_feats[\"class\"].value_counts()"
   ]
  },
  {
   "cell_type": "code",
   "execution_count": 33,
   "metadata": {},
   "outputs": [],
   "source": [
    "train_data_raw = pd.read_csv(\"./dataset/custom/features_fixed/wallets_features_with_users__train.csv\")\n",
    "test_data_raw = pd.read_csv(\"./dataset/custom/features_fixed/wallets_features_with_users__test.csv\")\n",
    "\n",
    "full_feats = pd.read_csv(\"./dataset/custom/features_fixed/wallets_features_with_users_agg.csv\")\n"
   ]
  },
  {
   "cell_type": "code",
   "execution_count": null,
   "metadata": {},
   "outputs": [],
   "source": []
  },
  {
   "cell_type": "code",
   "execution_count": 34,
   "metadata": {},
   "outputs": [],
   "source": [
    "train_data_raw[\"exchange_flg\"] = train_data_raw[\"addrId\"].isin(set(exchanges_addresses[\"exchange_id\"].tolist()))\n",
    "test_data_raw[\"exchange_flg\"] = test_data_raw[\"addrId\"].isin(set(exchanges_addresses[\"exchange_id\"].tolist()))\n",
    "full_feats[\"exchange_flg\"] = full_feats[\"addrId\"].isin(set(exchanges_addresses[\"exchange_id\"].tolist()))\n",
    "\n",
    "train_data_raw[\"transacted_w_exchange_flg\"] = train_data_raw[\"addrId\"].isin(set(wallets_transacted_w_exchange_feats[\"addrId\"].tolist()))\n",
    "test_data_raw[\"transacted_w_exchange_flg\"] = test_data_raw[\"addrId\"].isin(set(wallets_transacted_w_exchange_feats[\"addrId\"].tolist()))\n",
    "full_feats[\"transacted_w_exchange_flg\"] = full_feats[\"addrId\"].isin(set(wallets_transacted_w_exchange_feats[\"addrId\"].tolist()))\n"
   ]
  },
  {
   "cell_type": "code",
   "execution_count": 35,
   "metadata": {},
   "outputs": [
    {
     "data": {
      "text/plain": [
       "transacted_w_exchange_flg\n",
       "False    254755\n",
       "True      26279\n",
       "Name: count, dtype: int64"
      ]
     },
     "execution_count": 35,
     "metadata": {},
     "output_type": "execute_result"
    }
   ],
   "source": [
    "test_data_raw[\"transacted_w_exchange_flg\"].value_counts()"
   ]
  },
  {
   "cell_type": "code",
   "execution_count": 36,
   "metadata": {},
   "outputs": [
    {
     "data": {
      "text/plain": [
       "class\n",
       "2    21389\n",
       "3    16558\n",
       "1       27\n",
       "Name: count, dtype: int64"
      ]
     },
     "execution_count": 36,
     "metadata": {},
     "output_type": "execute_result"
    }
   ],
   "source": [
    "train_data_raw[train_data_raw[\"transacted_w_exchange_flg\"] == True][\"class\"].value_counts()"
   ]
  },
  {
   "cell_type": "code",
   "execution_count": 37,
   "metadata": {},
   "outputs": [],
   "source": [
    "train_data_raw.to_csv(\"./dataset/custom/features_fixed/wallets_features_with_users__train.csv\", index=False)\n",
    "test_data_raw.to_csv(\"./dataset/custom/features_fixed/wallets_features_with_users__test.csv\", index=False)\n"
   ]
  },
  {
   "cell_type": "code",
   "execution_count": 38,
   "metadata": {},
   "outputs": [],
   "source": [
    "full_feats.to_csv(\"./dataset/custom/features_fixed/wallets_features_with_users_agg1.csv\", index=False)\n"
   ]
  },
  {
   "cell_type": "code",
   "execution_count": null,
   "metadata": {},
   "outputs": [],
   "source": []
  }
 ],
 "metadata": {
  "kernelspec": {
   "display_name": "Python 3",
   "language": "python",
   "name": "python3"
  },
  "language_info": {
   "codemirror_mode": {
    "name": "ipython",
    "version": 3
   },
   "file_extension": ".py",
   "mimetype": "text/x-python",
   "name": "python",
   "nbconvert_exporter": "python",
   "pygments_lexer": "ipython3",
   "version": "3.9.6"
  }
 },
 "nbformat": 4,
 "nbformat_minor": 2
}
